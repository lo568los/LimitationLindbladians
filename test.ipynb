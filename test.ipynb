{
 "cells": [
  {
   "cell_type": "code",
   "execution_count": 4,
   "metadata": {},
   "outputs": [
    {
     "name": "stdout",
     "output_type": "stream",
     "text": [
      "Solutions for x: [1.08013601857413, -22.0950613917085]\n",
      "Solutions for y: [1.12270169305813, 27.6086415905240]\n"
     ]
    }
   ],
   "source": [
    "from sympy import symbols, Eq, solve, sqrt\n",
    "\n",
    "# Define the variables\n",
    "#x, r = symbols('x r')\n",
    "r= 1.25\n",
    "# Define the coefficients of the quadratic equation\n",
    "a = -256 + 196 * r**2\n",
    "b = 1056\n",
    "c = -(893 + 196 * r**2)\n",
    "\n",
    "# Solve for x using the quadratic formula\n",
    "x_solution = [(-b + sqrt(b**2 - 4 * a * c)) / (2 * a), (-b - sqrt(b**2 - 4 * a * c)) / (2 * a)]\n",
    "\n",
    "# Solve for y using the first equation: 16x + 14y = 33\n",
    "y_solution = [(33 - 16 * x_value) / 14 for x_value in x_solution]\n",
    "\n",
    "# Display the solutions for x and y in terms of r\n",
    "print(\"Solutions for x:\", x_solution)\n",
    "print(\"Solutions for y:\", y_solution)\n"
   ]
  },
  {
   "cell_type": "code",
   "execution_count": 7,
   "metadata": {},
   "outputs": [
    {
     "name": "stdout",
     "output_type": "stream",
     "text": [
      "1728.2176\n",
      "1571.782366\n"
     ]
    }
   ],
   "source": [
    "print(1600*1.080136)\n",
    "print(1400*1.12270169)"
   ]
  },
  {
   "cell_type": "code",
   "execution_count": 3,
   "metadata": {},
   "outputs": [
    {
     "name": "stdout",
     "output_type": "stream",
     "text": [
      "[0.75 1.   1.25 1.5  1.75 2.   2.25 2.5  2.75 3.  ]\n"
     ]
    }
   ],
   "source": [
    "import numpy as np\n",
    "print(np.linspace(0.75,3,10))\n"
   ]
  },
  {
   "cell_type": "code",
   "execution_count": 1,
   "metadata": {},
   "outputs": [
    {
     "name": "stdout",
     "output_type": "stream",
     "text": [
      "Total Inductance: 6.17e-11 H\n",
      "Total Capacitance: 1.45e-13 F\n",
      "Resonant Frequency: 53216.42 MHz\n",
      "Bandwidth: 177.39 MHz\n",
      "SNR Decrease Factor: 1.00\n"
     ]
    }
   ],
   "source": [
    "import math\n",
    "\n",
    "# Constants\n",
    "mu_0 = 4 * math.pi * 1e-7  # Permeability of free space (H/m)\n",
    "epsilon_0 = 8.854e-12  # Permittivity of free space (F/m)\n",
    "\n",
    "# Given parameters\n",
    "frequency_operating = 128e6  # Operating frequency in Hz (128 MHz)\n",
    "coil_length = 0.1  # Length of each conductor in meters (10 cm)\n",
    "coil_diameter = 0.3  # Diameter of the cylindrical coil in meters (30 cm)\n",
    "conductor_diameter = 0.01  # Diameter of each conductor in meters (1 cm)\n",
    "gap_between_conductors = 0.001  # Gap between conductors in meters (1 mm)\n",
    "sample_load = 50  # Load impedance in ohms (50 Ω)\n",
    "Q_coil = 300  # Assumed quality factor of the coil\n",
    "\n",
    "# Calculations\n",
    "# 1. Inductance of a single conductor\n",
    "area_conductor = math.pi * (conductor_diameter / 2)**2\n",
    "inductance_per_conductor = (mu_0 * area_conductor) / coil_length\n",
    "\n",
    "# Total inductance for 16 parallel conductors\n",
    "inductance_total = inductance_per_conductor / 16\n",
    "\n",
    "# 2. Capacitance between adjacent conductors\n",
    "distance_between_centers = conductor_diameter + gap_between_conductors\n",
    "capacitance_per_gap = (2 * math.pi * epsilon_0 * coil_length) / math.log(distance_between_centers / gap_between_conductors)\n",
    "\n",
    "# Total capacitance for 16 gaps in series\n",
    "capacitance_total = capacitance_per_gap / 16\n",
    "\n",
    "# 3. Resonant frequency of the coil\n",
    "f_resonance = 1 / (2 * math.pi * math.sqrt(inductance_total * capacitance_total))\n",
    "\n",
    "# 4. Bandwidth\n",
    "bandwidth = f_resonance / Q_coil\n",
    "\n",
    "# 5. Efficiency\n",
    "R_coil = sample_load / Q_coil  # Simplified coil resistance\n",
    "efficiency_resonant = (4 * sample_load * R_coil) / (sample_load + R_coil)**2\n",
    "efficiency_off_resonant = efficiency_resonant  # Assuming negligible detuning for simplicity\n",
    "\n",
    "# 6. SNR decrease\n",
    "SNR_decrease_factor = math.sqrt(efficiency_resonant / efficiency_off_resonant)\n",
    "\n",
    "# Print results\n",
    "print(f\"Total Inductance: {inductance_total:.2e} H\")\n",
    "print(f\"Total Capacitance: {capacitance_total:.2e} F\")\n",
    "print(f\"Resonant Frequency: {f_resonance / 1e6:.2f} MHz\")\n",
    "print(f\"Bandwidth: {bandwidth / 1e6:.2f} MHz\")\n",
    "print(f\"SNR Decrease Factor: {SNR_decrease_factor:.2f}\")\n"
   ]
  }
 ],
 "metadata": {
  "kernelspec": {
   "display_name": "qiskitenv",
   "language": "python",
   "name": "python3"
  },
  "language_info": {
   "codemirror_mode": {
    "name": "ipython",
    "version": 3
   },
   "file_extension": ".py",
   "mimetype": "text/x-python",
   "name": "python",
   "nbconvert_exporter": "python",
   "pygments_lexer": "ipython3",
   "version": "3.12.4"
  }
 },
 "nbformat": 4,
 "nbformat_minor": 2
}
