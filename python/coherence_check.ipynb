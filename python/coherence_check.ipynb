{
 "cells": [
  {
   "cell_type": "code",
   "execution_count": 1,
   "metadata": {},
   "outputs": [],
   "source": [
    "from qutip import *\n",
    "import matplotlib.pyplot as plt\n",
    "import numpy as np\n",
    "from helper_code_qutip import *\n",
    "from scipy import integrate\n",
    "import scipy.io\n",
    "import time"
   ]
  },
  {
   "cell_type": "code",
   "execution_count": 2,
   "metadata": {},
   "outputs": [],
   "source": [
    "N = 2\n",
    "d = 2**N\n",
    "dims = [2]*N\n",
    "\n",
    "w0list = np.linspace(1,1,N)\n",
    "glist = np.linspace(0.0016,0.0016,N-1)\n",
    "\n",
    "delta = 1\n",
    "\n",
    "H_S = create_hamiltonian(w0list,glist,delta,N)\n",
    "eigenergies,eigstates=H_S.eigenstates()\n",
    "number = len(eigenergies)\n",
    "\n",
    "mu2 = 0\n",
    "gamma1 = 1\n",
    "tb = 0.01"
   ]
  },
  {
   "cell_type": "code",
   "execution_count": 3,
   "metadata": {},
   "outputs": [
    {
     "name": "stderr",
     "output_type": "stream",
     "text": [
      "c:\\Users\\DELL\\OneDrive\\Desktop\\Term paper and Proj report\\ICTS Project\\SearchingLindbladians\\python\\helper_code_qutip.py:205: RuntimeWarning: divide by zero encountered in scalar divide\n",
      "  return 1/(np.exp(beta*(omega-mu))-1)\n",
      "C:\\Users\\DELL\\AppData\\Local\\Temp\\ipykernel_38980\\3859668315.py:26: IntegrationWarning: The integral is probably divergent, or slowly convergent.\n",
      "  integral11[i,k]=(-1.0j/(2*np.pi))*integrate.quad(func2,0,b,args=(tb,beta,mu2,gamma1),limit=limit_value)[0]\n"
     ]
    }
   ],
   "source": [
    "create_sm_list = [create_sm(N,i + 1) for i in range(N)]\n",
    "beta = 1\n",
    "rho_th = (-beta*H_S).expm()/((-beta*H_S).expm()).tr() #left thermal density matrix\n",
    "limit_value = 700\n",
    "b = 500\n",
    "\n",
    "integral11=np.empty((number,number),dtype=np.cdouble) #stores J * N integral for left bath\n",
    "integral12=np.empty((number,number),dtype=np.cdouble) # stores J integral (just to check) for the left bath\n",
    "integral21=np.empty((number,number),dtype=np.cdouble) #stores J*N integral for right bath\n",
    "integral22=np.empty((number,number),dtype=np.cdouble)\n",
    "\n",
    "        #print(\"Integral calculations at beta2 = {} and e = {} are : \".format(beta2,e))\n",
    "\n",
    "for i in range(number):\n",
    "    for k in range(number):\n",
    "                freq=eigenergies[k]-eigenergies[i]\n",
    "                #print(f\"Absolute frequency  for i = {i}, k = {k} is \",np.absolute(freq))\n",
    "                #print(i,k,freq)\n",
    "                if( np.absolute(freq) >= 1/10**10):\n",
    "                    integral11[i,k]=(-1.0j/(2*np.pi))*integrate.quad(func1,0,b,args=(tb,beta,mu2,gamma1),limit=limit_value,weight='cauchy',wvar=eigenergies[k]-eigenergies[i])[0] #func 1\n",
    "                    integral12[i,k]=(-1.0j/(2*np.pi))*integrate.quad(spectral_bath,0,b,args=(tb,gamma1),limit=limit_value,weight='cauchy',wvar=eigenergies[k]-eigenergies[i])[0]  #left bath done\n",
    "                    \"\"\"integral21[i,k]=(-1.0j/(2*np.pi))*integrate.quad(func1,0,b,args=(tb,beta1,mu1,gamma2),limit=limit_value,weight='cauchy',wvar=eigenergies[k]-eigenergies[i])[0] #func 1\n",
    "                    integral22[i,k]=(-1.0j/(2*np.pi))*integrate.quad(spectral_bath,0,b,args=(tb,gamma2),limit=limit_value,weight='cauchy',wvar=eigenergies[k]-eigenergies[i])[0]  #right bath\"\"\"\n",
    "        \n",
    "                if (np.absolute(freq)<=1/10**10):  #The problem is arising here....\n",
    "                    integral11[i,k]=(-1.0j/(2*np.pi))*integrate.quad(func2,0,b,args=(tb,beta,mu2,gamma1),limit=limit_value)[0]\n",
    "                    integral12[i,k]=(-1.0j/(2*np.pi))*integrate.quad(spectral_bath_2,0,b,args=(tb,gamma1),limit=limit_value)[0]\n",
    "                    \"\"\"integral21[i,k]=(-1.0j/(2*np.pi))*integrate.quad(func2,0,b,args=(tb,beta1,mu1,gamma2),limit=limit_value)[0]\n",
    "                    integral22[i,k]=(-1.0j/(2*np.pi))*integrate.quad(spectral_bath_2,0,b,args=(tb,gamma2),limit=limit_value)[0]\"\"\"\n",
    "                \n",
    "            \n",
    "            #expected=1.0j*(eigenergies[k]-eigenergies[i])/(2*tb*tb)\n",
    "        #        print(i,k,integral2[i,k],expected)\n",
    "    \n",
    "    \n",
    "        # PAY ATTENTION TO THE WAY THESE COEFFICIENTS ARE BEING COMPUTED\n",
    "    \n",
    "constant12=np.empty((number,number),dtype=np.cdouble)\n",
    "constant11=np.empty((number,number),dtype=np.cdouble)\n",
    "\"\"\"constant21=np.empty((number,number),dtype=np.cdouble)\n",
    "constant22=np.empty((number,number),dtype=np.cdouble)\"\"\"\n",
    "        \n",
    "        \n",
    "        \n",
    "for i in range(number):\n",
    "        for k in range(number):\n",
    "                constant12[i,k]=integral12[i,k]+integral11[i,k]+0.5*(spectral_bath(eigenergies[k]-eigenergies[i],tb,gamma1)+func1(eigenergies[k]-eigenergies[i],tb,beta,mu2,gamma1))    #full coefficient created this is nbar+1\n",
    "                constant11[i,k]=integral11[i,k]+0.5*func1(eigenergies[k]-eigenergies[i],tb,beta,mu2,gamma1)                                       # the full coefficient is created\n",
    "                \n",
    "                \"\"\"constant22[i,k]=integral22[i,k]+integral21[i,k]+0.5*(spectral_bath(eigenergies[k]-eigenergies[i],tb,gamma2)+func1(eigenergies[k]-eigenergies[i],tb,beta1,mu1,gamma2))    #full coefficient created this is nbar+1\n",
    "                constant21[i,k]=integral21[i,k]+0.5*func1(eigenergies[k]-eigenergies[i],tb,beta1,mu1,gamma2)   # the full coefficient is created\"\"\""
   ]
  },
  {
   "cell_type": "code",
   "execution_count": 4,
   "metadata": {},
   "outputs": [],
   "source": [
    "epsilon = 0.01\n",
    "\n",
    "## Now we will write out the matrix elements\n",
    "\n",
    "A = np.zeros((number,number),dtype=complex)\n",
    "\n",
    "for i in range(number):\n",
    "    for k in range(number):\n",
    "        sum = 0\n",
    "        vi = eigstates[i]\n",
    "        vk = eigstates[k]\n",
    "        proj_i = vi*vi.dag()\n",
    "        proj_k = vk*vk.dag()\n",
    "        for y in range(number):\n",
    "            for l in range(N):\n",
    "                proj_y = eigstates[y]*eigstates[y].dag()\n",
    "                op1 = commutator(proj_k*create_sm_list[l]*proj_y,create_sm_list[l].dag())*constant11[k,y]\n",
    "                sum += epsilon*epsilon*vi.dag()*(op1 + op1.dag())*vi\n",
    "\n",
    "                op2 = commutator(create_sm_list[l].dag(),proj_y*create_sm_list[l]*proj_k)*constant12[y,k]\n",
    "                sum += epsilon*epsilon*vi.dag()*(op2 + op2.dag())*vi\n",
    "\n",
    "        A[i,k] = sum"
   ]
  },
  {
   "cell_type": "code",
   "execution_count": 5,
   "metadata": {},
   "outputs": [
    {
     "name": "stdout",
     "output_type": "stream",
     "text": [
      "[(-0.00024983125307470204+0j), (-0.00021881871679398177+0j), (-0.0002184643234733033+0j), (-2.6904790350525558e-20+0j)]\n"
     ]
    }
   ],
   "source": [
    "b = np.zeros((number),dtype=complex)\n",
    "q,r = np.linalg.qr(A.T)\n",
    "\n",
    "#print(r)\n",
    "diag_r = [r[i][i] for i in range(number)]\n",
    "print(diag_r)"
   ]
  },
  {
   "cell_type": "code",
   "execution_count": 6,
   "metadata": {},
   "outputs": [],
   "source": [
    "rho_th_new = np.zeros((number,number),dtype=complex)\n",
    "\n",
    "for i in range(number):\n",
    "    for k in range(number):\n",
    "        vi = eigstates[i]\n",
    "        vk = eigstates[k]\n",
    "\n",
    "        rho_th_new[i,k] = vi.dag()*rho_th*vk\n",
    "\n",
    "#print(rho_th_new)\n",
    "\n",
    "rho_th_diag = [rho_th_new[i,i] for i in range(number)]"
   ]
  },
  {
   "cell_type": "code",
   "execution_count": 7,
   "metadata": {},
   "outputs": [
    {
     "name": "stdout",
     "output_type": "stream",
     "text": [
      "[6.77626358e-21+0.j 0.00000000e+00+0.j 3.38813179e-21+0.j\n",
      " 1.00000000e+00+0.j]\n",
      "(-2.371692252312041e-20+0j)\n",
      "[0.5351178428087139, 0.1968588529733373, 0.1956029793964662, 0.07242032482148247]\n",
      "[0.535117842808714, 0.19685885297333738, 0.19560297939646623, 0.07242032482148242]\n"
     ]
    }
   ],
   "source": [
    "A_new = A[:-1]\n",
    "A_new = np.vstack([A_new,np.ones((1,number))])\n",
    "b[-1] = 1  ## Last element of b is 1\n",
    "\n",
    "x = np.linalg.solve(A_new,b)\n",
    "print(np.dot(A_new,x))\n",
    "print(np.dot(A[-1],x))\n",
    "x_real = [np.real(x[i]) for i in range(number)]\n",
    "\n",
    "rho = np.diag(x_real)\n",
    "\n",
    "#set U matrix whose columns are the eigenvectors of the Hamiltonian\n",
    "\n",
    "U = np.zeros((number,number),dtype=complex)\n",
    "for i in range(number):\n",
    "    U[:,i] = eigstates[i].full().flatten()\n",
    "\n",
    "print([x.real for x in  rho_th_diag])\n",
    "print(x_real)"
   ]
  },
  {
   "cell_type": "code",
   "execution_count": 12,
   "metadata": {},
   "outputs": [],
   "source": [
    "rho_comp2 = np.dot(U,np.dot(rho,U.T.conjugate()))\n",
    "def L2_red(rho,eigstates):\n",
    "    sum = 0\n",
    "    rho = Qobj(rho)\n",
    "    rho.dims = [dims,dims]\n",
    "    for i in range(number):\n",
    "        for k in range(number):\n",
    "            vi = eigstates[i]\n",
    "            vk = eigstates[k]\n",
    "\n",
    "            proj_i = vi*vi.dag()\n",
    "            proj_k = vk*vk.dag()\n",
    "\n",
    "            for l in range(N):\n",
    "                op = commutator(rho*proj_i*create_sm_list[l]*proj_k,create_sm_list[l].dag())*constant11[i,k] + commutator(create_sm_list[l].dag(),proj_i*create_sm_list[l]*proj_k*rho)*constant12[i,k]\n",
    "                sum += op\n",
    "                sum += op.dag()\n",
    "\n",
    "            \"\"\"for l in range(NL2):\n",
    "                op = commutator(rho*proj_i*create_sm_list_right[l]*proj_k,create_sm_list_right[l].dag())*constant21[i,k] + commutator(create_sm_list_right[l].dag(),proj_i*create_sm_list_right[l]*proj_k*rho)*constant22[i,k]\n",
    "                sum += op\n",
    "                sum += op.dag()\"\"\"\n",
    "    data = sum.full()\n",
    "    sum = np.array(data,dtype=complex)\n",
    "    return sum"
   ]
  },
  {
   "cell_type": "code",
   "execution_count": 13,
   "metadata": {},
   "outputs": [
    {
     "name": "stdout",
     "output_type": "stream",
     "text": [
      "1.3881217231918663e-16\n"
     ]
    }
   ],
   "source": [
    "L2_redfield = L2_red(rho_comp2,eigstates)\n",
    "rho_th_qutip = Qobj(rho_th)\n",
    "rho_th_qutip.dims = [dims,dims]\n",
    "\n",
    "rho_comp_qutip = Qobj(rho_comp2)\n",
    "rho_comp_qutip.dims = [dims,dims]\n",
    "print(tracedist(rho_th_qutip,rho_comp_qutip))\n",
    "\n",
    "rho_th_check = np.zeros((number,number),dtype=complex)\n",
    "for i in range(number):\n",
    "    for k in range(number):\n",
    "        rho_th_check[i,k] = rho_th[i,k]\n",
    "\n",
    "#print(rho_th_check)\n",
    "#print(rho_th_new)\n",
    "#print(L2_redfield)\n",
    "#print(rho_th_check)\n",
    "\n",
    "data_dict = {\"dm_ness\":rho_comp2, \"dm_th\":rho_th_new,\"L2_red\":L2_redfield, \"dm_th_check\":rho_th_check}\n",
    "\n",
    "scipy.io.savemat(f'../matlab/coh_data_N = {N}_1.mat',data_dict)"
   ]
  }
 ],
 "metadata": {
  "kernelspec": {
   "display_name": "qiskitenv",
   "language": "python",
   "name": "python3"
  },
  "language_info": {
   "codemirror_mode": {
    "name": "ipython",
    "version": 3
   },
   "file_extension": ".py",
   "mimetype": "text/x-python",
   "name": "python",
   "nbconvert_exporter": "python",
   "pygments_lexer": "ipython3",
   "version": "3.12.3"
  }
 },
 "nbformat": 4,
 "nbformat_minor": 2
}
