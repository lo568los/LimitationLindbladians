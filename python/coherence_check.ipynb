{
 "cells": [
  {
   "cell_type": "code",
   "execution_count": 41,
   "metadata": {},
   "outputs": [],
   "source": [
    "from qutip import *\n",
    "import matplotlib.pyplot as plt\n",
    "import numpy as np\n",
    "from helper_code_qutip import *\n",
    "from scipy import integrate\n",
    "import scipy.io\n",
    "import time"
   ]
  },
  {
   "cell_type": "code",
   "execution_count": 42,
   "metadata": {},
   "outputs": [],
   "source": [
    "N = 6\n",
    "d = 2**N\n",
    "dims = [2]*N\n",
    "\n",
    "w0list = np.linspace(1,1,N)\n",
    "glist = np.linspace(0.0016,0.0016,N-1)\n",
    "\n",
    "delta = 1\n",
    "\n",
    "H_S = create_hamiltonian(w0list,glist,delta,N)\n",
    "eigenergies,eigstates=H_S.eigenstates()\n",
    "number = len(eigenergies)\n",
    "\n",
    "mu2 = 0\n",
    "gamma1 = 1\n",
    "tb = 0.01"
   ]
  },
  {
   "cell_type": "code",
   "execution_count": 43,
   "metadata": {},
   "outputs": [
    {
     "name": "stderr",
     "output_type": "stream",
     "text": [
      "C:\\Users\\DELL\\AppData\\Local\\Temp\\ipykernel_38980\\3859668315.py:26: IntegrationWarning: The integral is probably divergent, or slowly convergent.\n",
      "  integral11[i,k]=(-1.0j/(2*np.pi))*integrate.quad(func2,0,b,args=(tb,beta,mu2,gamma1),limit=limit_value)[0]\n"
     ]
    }
   ],
   "source": [
    "create_sm_list = [create_sm(N,i + 1) for i in range(N)]\n",
    "beta = 1\n",
    "rho_th = (-beta*H_S).expm()/((-beta*H_S).expm()).tr() #left thermal density matrix\n",
    "limit_value = 700\n",
    "b = 500\n",
    "\n",
    "integral11=np.empty((number,number),dtype=np.cdouble) #stores J * N integral for left bath\n",
    "integral12=np.empty((number,number),dtype=np.cdouble) # stores J integral (just to check) for the left bath\n",
    "integral21=np.empty((number,number),dtype=np.cdouble) #stores J*N integral for right bath\n",
    "integral22=np.empty((number,number),dtype=np.cdouble)\n",
    "\n",
    "        #print(\"Integral calculations at beta2 = {} and e = {} are : \".format(beta2,e))\n",
    "\n",
    "for i in range(number):\n",
    "    for k in range(number):\n",
    "                freq=eigenergies[k]-eigenergies[i]\n",
    "                #print(f\"Absolute frequency  for i = {i}, k = {k} is \",np.absolute(freq))\n",
    "                #print(i,k,freq)\n",
    "                if( np.absolute(freq) >= 1/10**10):\n",
    "                    integral11[i,k]=(-1.0j/(2*np.pi))*integrate.quad(func1,0,b,args=(tb,beta,mu2,gamma1),limit=limit_value,weight='cauchy',wvar=eigenergies[k]-eigenergies[i])[0] #func 1\n",
    "                    integral12[i,k]=(-1.0j/(2*np.pi))*integrate.quad(spectral_bath,0,b,args=(tb,gamma1),limit=limit_value,weight='cauchy',wvar=eigenergies[k]-eigenergies[i])[0]  #left bath done\n",
    "                    \"\"\"integral21[i,k]=(-1.0j/(2*np.pi))*integrate.quad(func1,0,b,args=(tb,beta1,mu1,gamma2),limit=limit_value,weight='cauchy',wvar=eigenergies[k]-eigenergies[i])[0] #func 1\n",
    "                    integral22[i,k]=(-1.0j/(2*np.pi))*integrate.quad(spectral_bath,0,b,args=(tb,gamma2),limit=limit_value,weight='cauchy',wvar=eigenergies[k]-eigenergies[i])[0]  #right bath\"\"\"\n",
    "        \n",
    "                if (np.absolute(freq)<=1/10**10):  #The problem is arising here....\n",
    "                    integral11[i,k]=(-1.0j/(2*np.pi))*integrate.quad(func2,0,b,args=(tb,beta,mu2,gamma1),limit=limit_value)[0]\n",
    "                    integral12[i,k]=(-1.0j/(2*np.pi))*integrate.quad(spectral_bath_2,0,b,args=(tb,gamma1),limit=limit_value)[0]\n",
    "                    \"\"\"integral21[i,k]=(-1.0j/(2*np.pi))*integrate.quad(func2,0,b,args=(tb,beta1,mu1,gamma2),limit=limit_value)[0]\n",
    "                    integral22[i,k]=(-1.0j/(2*np.pi))*integrate.quad(spectral_bath_2,0,b,args=(tb,gamma2),limit=limit_value)[0]\"\"\"\n",
    "                \n",
    "            \n",
    "            #expected=1.0j*(eigenergies[k]-eigenergies[i])/(2*tb*tb)\n",
    "        #        print(i,k,integral2[i,k],expected)\n",
    "    \n",
    "    \n",
    "        # PAY ATTENTION TO THE WAY THESE COEFFICIENTS ARE BEING COMPUTED\n",
    "    \n",
    "constant12=np.empty((number,number),dtype=np.cdouble)\n",
    "constant11=np.empty((number,number),dtype=np.cdouble)\n",
    "\"\"\"constant21=np.empty((number,number),dtype=np.cdouble)\n",
    "constant22=np.empty((number,number),dtype=np.cdouble)\"\"\"\n",
    "        \n",
    "        \n",
    "        \n",
    "for i in range(number):\n",
    "        for k in range(number):\n",
    "                constant12[i,k]=integral12[i,k]+integral11[i,k]+0.5*(spectral_bath(eigenergies[k]-eigenergies[i],tb,gamma1)+func1(eigenergies[k]-eigenergies[i],tb,beta,mu2,gamma1))    #full coefficient created this is nbar+1\n",
    "                constant11[i,k]=integral11[i,k]+0.5*func1(eigenergies[k]-eigenergies[i],tb,beta,mu2,gamma1)                                       # the full coefficient is created\n",
    "                \n",
    "                \"\"\"constant22[i,k]=integral22[i,k]+integral21[i,k]+0.5*(spectral_bath(eigenergies[k]-eigenergies[i],tb,gamma2)+func1(eigenergies[k]-eigenergies[i],tb,beta1,mu1,gamma2))    #full coefficient created this is nbar+1\n",
    "                constant21[i,k]=integral21[i,k]+0.5*func1(eigenergies[k]-eigenergies[i],tb,beta1,mu1,gamma2)   # the full coefficient is created\"\"\""
   ]
  },
  {
   "cell_type": "code",
   "execution_count": 44,
   "metadata": {},
   "outputs": [],
   "source": [
    "epsilon = 0.01\n",
    "\n",
    "## Now we will write out the matrix elements\n",
    "\n",
    "A = np.zeros((number,number),dtype=complex)\n",
    "\n",
    "for i in range(number):\n",
    "    for k in range(number):\n",
    "        sum = 0\n",
    "        vi = eigstates[i]\n",
    "        vk = eigstates[k]\n",
    "        proj_i = vi*vi.dag()\n",
    "        proj_k = vk*vk.dag()\n",
    "        for y in range(number):\n",
    "            for l in range(N):\n",
    "                proj_y = eigstates[y]*eigstates[y].dag()\n",
    "                op1 = commutator(proj_k*create_sm_list[l]*proj_y,create_sm_list[l].dag())*constant11[k,y]\n",
    "                sum += epsilon*epsilon*vi.dag()*(op1 + op1.dag())*vi\n",
    "\n",
    "                op2 = commutator(create_sm_list[l].dag(),proj_y*create_sm_list[l]*proj_k)*constant12[y,k]\n",
    "                sum += epsilon*epsilon*vi.dag()*(op2 + op2.dag())*vi\n",
    "\n",
    "        A[i,k] = sum"
   ]
  },
  {
   "cell_type": "code",
   "execution_count": 45,
   "metadata": {},
   "outputs": [
    {
     "name": "stdout",
     "output_type": "stream",
     "text": [
      "[(-0.000516298246337724+0j), (-0.0005416560903011097+0j), (-0.0005089002195157118+0j), (-0.0004889353077855109+0j), (-0.0004787433999840436+0j), (-0.0004808176858404022+0j), (-0.0004972007709283851+0j), (-0.0005589094521405798+0j), (-0.0005586751372620298+0j), (-0.0005213465358167119+0j), (-0.0005530544878512154+0j), (-0.0005453966729937465+0j), (-0.000555966530500847+0j), (-0.0005507845631096425+0j), (-0.0005412542646920099+0j), (-0.0005512996310025858+0j), (-0.0005450814543318934+0j), (-0.0005567367435630541+0j), (-0.0005435426034317562+0j), (-0.0005308730461000001+0j), (-0.0005440059935526772+0j), (-0.0005342574289836196+0j), (-0.0005725957998766482+0j), (-0.0006139586173473952+0j), (-0.0006180815381943828+0j), (-0.0006054143641970397+0j), (-0.0006137671046380587+0j), (-0.0006275147453754447+0j), (-0.0006219312117272597+0j), (-0.0006184128748486527+0j), (-0.0006281911950171482+0j), (-0.0006210716805323015+0j), (-0.0006140289515275302+0j), (-0.0006310860726981011+0j), (-0.0006141088368272414+0j), (-0.0006245105839654492+0j), (-0.0006307986473177582+0j), (-0.0006280486711949754+0j), (-0.0006213980161783819+0j), (-0.0006291542290903478+0j), (-0.0006208294005521886+0j), (-0.0006015743042874685+0j), (-0.0005900889105164565+0j), (-0.0006741748161305598+0j), (-0.0006886371877529402+0j), (-0.0006801648267558785+0j), (-0.0006912647432129615+0j), (-0.000677810233555167+0j), (-0.0006884907434183716+0j), (-0.0006977718270665572+0j), (-0.0006814596376374817+0j), (-0.0007079486114315831+0j), (-0.0006709353994229193+0j), (-0.000699814126076412+0j), (-0.0007043892294101762+0j), (-0.000692868697888639+0j), (-0.0006639424494022289+0j), (-0.0006041024235796899+0j), (-0.0007010303720300527+0j), (-0.0007148483943898549+0j), (-0.000716954464912952+0j), (-0.0006976774948372186+0j), (-0.0006233783469692112+0j), (3.265545736087226e-19+0j)]\n"
     ]
    }
   ],
   "source": [
    "b = np.zeros((number),dtype=complex)\n",
    "q,r = np.linalg.qr(A.T)\n",
    "\n",
    "#print(r)\n",
    "diag_r = [r[i][i] for i in range(number)]\n",
    "print(diag_r)"
   ]
  },
  {
   "cell_type": "code",
   "execution_count": 46,
   "metadata": {},
   "outputs": [],
   "source": [
    "rho_th_new = np.zeros((number,number),dtype=complex)\n",
    "\n",
    "for i in range(number):\n",
    "    for k in range(number):\n",
    "        vi = eigstates[i]\n",
    "        vk = eigstates[k]\n",
    "\n",
    "        rho_th_new[i,k] = vi.dag()*rho_th*vk\n",
    "\n",
    "#print(rho_th_new)\n",
    "\n",
    "rho_th_diag = [rho_th_new[i,i] for i in range(number)]"
   ]
  },
  {
   "cell_type": "code",
   "execution_count": 47,
   "metadata": {},
   "outputs": [
    {
     "name": "stdout",
     "output_type": "stream",
     "text": [
      "[-6.77626358e-20-9.40395481e-38j  1.69406589e-20-8.22846046e-38j\n",
      "  2.54109884e-20-7.05296610e-38j  1.01643954e-20-3.76158192e-37j\n",
      "  2.37169225e-20+0.00000000e+00j  2.03287907e-20-1.46936794e-37j\n",
      "  1.18584613e-20-3.29138418e-37j  0.00000000e+00+5.87747175e-38j\n",
      " -6.77626358e-21+6.46521893e-38j  5.08219768e-21-3.76158192e-37j\n",
      " -1.69406589e-21+9.40395481e-38j -2.54109884e-21+4.70197740e-38j\n",
      " -1.01643954e-20+1.85140360e-37j  3.38813179e-21-4.11423023e-38j\n",
      "  0.00000000e+00+1.41059322e-37j  0.00000000e+00-4.70197740e-38j\n",
      " -1.01643954e-20+0.00000000e+00j  2.54109884e-21+0.00000000e+00j\n",
      " -6.35274710e-21-1.17549435e-37j  5.08219768e-21+8.22846046e-38j\n",
      " -4.23516474e-21-1.17549435e-37j  7.62329653e-21+1.64569209e-37j\n",
      "  3.81164826e-21+0.00000000e+00j  1.69406589e-21+1.17549435e-37j\n",
      "  4.23516474e-22+4.70197740e-38j  1.27054942e-21+9.40395481e-38j\n",
      "  8.47032947e-22+0.00000000e+00j -2.54109884e-21-2.93873588e-38j\n",
      " -4.23516474e-22+2.35098870e-38j  4.23516474e-22+4.70197740e-38j\n",
      "  1.27054942e-21+1.17549435e-38j -8.47032947e-22-9.40395481e-38j\n",
      "  0.00000000e+00-3.82035664e-38j -2.11758237e-21-1.17549435e-37j\n",
      " -4.23516474e-22+4.70197740e-38j  0.00000000e+00-3.01220427e-38j\n",
      " -4.23516474e-22+4.70197740e-38j -2.54109884e-21-1.41059322e-37j\n",
      "  1.69406589e-21+1.46936794e-38j  1.69406589e-21+3.52648305e-38j\n",
      " -2.11758237e-21+1.76324153e-38j -8.47032947e-22+1.17549435e-38j\n",
      " -4.23516474e-22-9.40395481e-38j -4.23516474e-22+4.70197740e-38j\n",
      "  2.11758237e-22-2.35098870e-38j -4.23516474e-22-4.70197740e-38j\n",
      "  4.23516474e-22-4.70197740e-38j -4.23516474e-22-2.35098870e-38j\n",
      " -4.23516474e-22-2.35098870e-38j  2.11758237e-22+0.00000000e+00j\n",
      "  5.29395592e-22+9.40395481e-38j -1.05879118e-22-1.17549435e-37j\n",
      " -4.23516474e-22-1.17549435e-38j  2.11758237e-22-1.17549435e-37j\n",
      "  4.23516474e-22+1.41059322e-37j  0.00000000e+00+4.70197740e-38j\n",
      " -6.35274710e-22+1.17549435e-38j  1.05879118e-22-1.17549435e-38j\n",
      " -5.29395592e-23+0.00000000e+00j -1.58818678e-22-3.52648305e-38j\n",
      " -5.29395592e-23-9.40395481e-38j  3.70576914e-22+7.05296610e-38j\n",
      "  0.00000000e+00+1.88079096e-37j  1.00000000e+00+1.54074396e-33j]\n",
      "(-1.4240741425712924e-20+2.847235214135321e-21j)\n",
      "[0.1536164432357538, 0.0565123312923138, 0.056463896272977196, 0.05633178086692868, 0.05615180727947185, 0.055972408687012254, 0.055841443273902135, 0.020789724855111803, 0.020771906607265127, 0.020751657685019565, 0.02072330406551786, 0.020710947145894693, 0.020674601227246823, 0.02065709548273864, 0.020629746935722008, 0.02059109842879765, 0.020560107729941855, 0.02054291894580991, 0.020509188788367938, 0.02049063479151697, 0.020437296949901474, 0.020361504768194885, 0.007648112361806578, 0.007641557394746083, 0.007634108232546067, 0.007625380146612352, 0.007623677518848587, 0.00761913166216302, 0.00760576074592198, 0.007599320742415012, 0.007589259774221686, 0.007582021888507876, 0.0075750417830922415, 0.007563640942115659, 0.007557317541814783, 0.007550840392263523, 0.00754490891034441, 0.007538083276351376, 0.0075298371520072065, 0.007518461380984575, 0.007490578995533195, 0.00746704974225478, 0.002813583301677803, 0.002811171864058692, 0.0028084314704313546, 0.002804594225305308, 0.0028029218980881745, 0.002798003012893471, 0.0027956338680021862, 0.0027919326446455795, 0.0027867021380143012, 0.00278250800300695, 0.0027801817540379615, 0.0027756168736269376, 0.0027731058632079393, 0.002765887371305677, 0.0027556300149272966, 0.0010350594527105319, 0.001034172334386794, 0.0010317525563179712, 0.0010284562250806025, 0.0010251704252439648, 0.0010227717100305261, 0.00038077709304236955]\n",
      "[0.15361644323575394, 0.05651233129231368, 0.05646389627297703, 0.05633178086692851, 0.056151807279471715, 0.05597240868701217, 0.05584144327390204, 0.020789724855111835, 0.020771906607265182, 0.0207516576850196, 0.020723304065517867, 0.02071094714589471, 0.02067460122724682, 0.020657095482738683, 0.02062974693572198, 0.02059109842879767, 0.02056010772994183, 0.02054291894580993, 0.020509188788367966, 0.020490634791517, 0.020437296949901474, 0.02036150476819487, 0.007648112361806597, 0.0076415573947460945, 0.007634108232546077, 0.007625380146612355, 0.0076236775188485975, 0.007619131662163044, 0.007605760745921985, 0.0075993207424150215, 0.007589259774221692, 0.007582021888507884, 0.007575041783092237, 0.007563640942115667, 0.007557317541814796, 0.00755084039226352, 0.00754490891034442, 0.007538083276351374, 0.007529837152007214, 0.007518461380984569, 0.007490578995533193, 0.007467049742254788, 0.0028135833016778044, 0.002811171864058692, 0.002808431470431357, 0.002804594225305306, 0.0028029218980881723, 0.002798003012893471, 0.0027956338680021823, 0.00279193264464558, 0.0027867021380143, 0.0027825080030069492, 0.0027801817540379606, 0.0027756168736269363, 0.002773105863207941, 0.002765887371305673, 0.002755630014927295, 0.0010350594527105293, 0.0010341723343867905, 0.0010317525563179675, 0.001028456225080599, 0.001025170425243962, 0.0010227717100305229, 0.0003807770930423531]\n"
     ]
    }
   ],
   "source": [
    "A_new = A[:-1]\n",
    "A_new = np.vstack([A_new,np.ones((1,number))])\n",
    "b[-1] = 1  ## Last element of b is 1\n",
    "\n",
    "x = np.linalg.solve(A_new,b)\n",
    "print(np.dot(A_new,x))\n",
    "print(np.dot(A[-1],x))\n",
    "x_real = [np.real(x[i]) for i in range(number)]\n",
    "\n",
    "rho = np.diag(x_real)\n",
    "\n",
    "#set U matrix whose columns are the eigenvectors of the Hamiltonian\n",
    "\n",
    "U = np.zeros((number,number),dtype=complex)\n",
    "for i in range(number):\n",
    "    U[:,i] = eigstates[i].full().flatten()\n",
    "\n",
    "print([x.real for x in  rho_th_diag])\n",
    "print(x_real)"
   ]
  },
  {
   "cell_type": "code",
   "execution_count": 48,
   "metadata": {},
   "outputs": [],
   "source": [
    "rho_comp2 = np.dot(U,np.dot(rho,U.T.conjugate()))\n",
    "def L2_red(rho,eigstates):\n",
    "    sum = 0\n",
    "    rho = Qobj(rho)\n",
    "    rho.dims = [dims,dims]\n",
    "    for i in range(number):\n",
    "        for k in range(number):\n",
    "            vi = eigstates[i]\n",
    "            vk = eigstates[k]\n",
    "\n",
    "            proj_i = vi*vi.dag()\n",
    "            proj_k = vk*vk.dag()\n",
    "\n",
    "            for l in range(N):\n",
    "                op = commutator(rho*proj_i*create_sm_list[l]*proj_k,create_sm_list[l].dag())*constant11[i,k] + commutator(create_sm_list[l].dag(),proj_i*create_sm_list[l]*proj_k*rho)*constant12[i,k]\n",
    "                sum += op\n",
    "                sum += op.dag()\n",
    "\n",
    "            \"\"\"for l in range(NL2):\n",
    "                op = commutator(rho*proj_i*create_sm_list_right[l]*proj_k,create_sm_list_right[l].dag())*constant21[i,k] + commutator(create_sm_list_right[l].dag(),proj_i*create_sm_list_right[l]*proj_k*rho)*constant22[i,k]\n",
    "                sum += op\n",
    "                sum += op.dag()\"\"\"\n",
    "    data = sum.full()\n",
    "    sum = np.array(data,dtype=complex)\n",
    "    return sum"
   ]
  },
  {
   "cell_type": "code",
   "execution_count": 49,
   "metadata": {},
   "outputs": [
    {
     "name": "stdout",
     "output_type": "stream",
     "text": [
      "6.9106271246679824e-15\n"
     ]
    }
   ],
   "source": [
    "L2_redfield = L2_red(rho_comp2,eigstates)\n",
    "rho_th_qutip = Qobj(rho_th)\n",
    "rho_th_qutip.dims = [dims,dims]\n",
    "\n",
    "rho_comp_qutip = Qobj(rho_comp2)\n",
    "rho_comp_qutip.dims = [dims,dims]\n",
    "print(tracedist(rho_th_qutip,rho_comp_qutip))\n",
    "\n",
    "rho_th_check = np.zeros((number,number),dtype=complex)\n",
    "for i in range(number):\n",
    "    for k in range(number):\n",
    "        rho_th_check[i,k] = rho_th[i,k]\n",
    "\n",
    "#print(rho_th_check)\n",
    "#print(rho_th_new)\n",
    "#print(L2_redfield)\n",
    "#print(rho_th_check)\n",
    "\n",
    "data_dict = {\"dm_ness\":rho_comp2, \"dm_th\":rho_th_new,\"L2_red\":L2_redfield, \"dm_th_check\":rho_th_check}\n",
    "\n",
    "scipy.io.savemat(f'../matlab/coh_data_N = {N}_1.mat',data_dict)"
   ]
  }
 ],
 "metadata": {
  "kernelspec": {
   "display_name": "qiskitenv",
   "language": "python",
   "name": "python3"
  },
  "language_info": {
   "codemirror_mode": {
    "name": "ipython",
    "version": 3
   },
   "file_extension": ".py",
   "mimetype": "text/x-python",
   "name": "python",
   "nbconvert_exporter": "python",
   "pygments_lexer": "ipython3",
   "version": "3.12.3"
  }
 },
 "nbformat": 4,
 "nbformat_minor": 2
}
