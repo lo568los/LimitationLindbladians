{
 "cells": [
  {
   "cell_type": "markdown",
   "metadata": {},
   "source": [
    "We want to test the steady states obtained form the optimal $\\Gamma^{(L)}$ outputted by CVX. This code lets us do that. First we need to import our modules and import our data."
   ]
  },
  {
   "cell_type": "code",
   "execution_count": 1,
   "metadata": {},
   "outputs": [],
   "source": [
    "from qutip import *\n",
    "import numpy as np\n",
    "from scipy import integrate\n",
    "from helper_code_qutip import * \n",
    "import scipy.io\n",
    "\n",
    "\n",
    "matlab_data = scipy.io.loadmat('../matlab/thermal_data.mat',mat_dtype=False)  # is set to True, givex complex casting to real errors..\n",
    "\n"
   ]
  },
  {
   "cell_type": "code",
   "execution_count": 2,
   "metadata": {},
   "outputs": [
    {
     "name": "stdout",
     "output_type": "stream",
     "text": [
      "beta is  1.0\n",
      "deltalist is  [1. 1. 1. 1. 1.]\n",
      "w0list is  [1. 1. 1. 1. 1. 1.]\n",
      "glist is [0.1 0.1 0.1 0.1 0.1]\n",
      "NL and NM are  2 4 respectively\n"
     ]
    }
   ],
   "source": [
    "beta = matlab_data[\"beta\"][0,0]\n",
    "beta = float(beta)\n",
    "print('beta is ' ,beta)\n",
    "\n",
    "deltalist = matlab_data[\"deltalist\"][:,0]\n",
    "deltalist = deltalist.astype('float')\n",
    "print('deltalist is ', deltalist)\n",
    "\n",
    "w0list = matlab_data[\"w0list\"][:,0]\n",
    "w0list = w0list.astype('float')\n",
    "print('w0list is ', w0list)\n",
    "\n",
    "glist = matlab_data[\"glist\"][:,0]\n",
    "glist = glist.astype('float')\n",
    "\n",
    "print('glist is', glist)\n",
    "\n",
    "NL = int(matlab_data[\"NL\"][0,0])\n",
    "NM = int(matlab_data[\"NM\"][0,0])\n",
    "\n",
    "print('NL and NM are ', NL, NM, 'respectively')\n",
    "\n",
    "N = NL + NM\n",
    "dL = 2**NL\n",
    "dM = 2**NM\n",
    "d = 2**N\n",
    "dims = [2]*N\n",
    "\n",
    "# Parameters can be modified here for testing purposes. \n",
    "\n"
   ]
  },
  {
   "cell_type": "code",
   "execution_count": 3,
   "metadata": {},
   "outputs": [],
   "source": [
    "H_S = create_hamiltonian_v2(w0list,glist,deltalist,N)\n",
    "eigenenergies, eigenstates = H_S.eigenstates()\n",
    "number = len(eigenenergies) # should be 2^N\n",
    "\n",
    "\n"
   ]
  },
  {
   "cell_type": "code",
   "execution_count": 4,
   "metadata": {},
   "outputs": [],
   "source": [
    "matlab_F_list = matlab_data[\"F\"]\n",
    "F_list = []\n",
    "\n",
    "\n",
    "for index in range(2**dL):\n",
    "    matrix = np.asmatrix(matlab_F_list[0,index])\n",
    "\n",
    "    F_list.append(Qobj(matrix))\n",
    "    \n",
    "if not basis_is_orthonormal(F_list):\n",
    "    print(\"WARNING : Basis is NOT orthonormal\")\n",
    "\n",
    "F_list.pop() #removes the last indentity basis ..\n",
    "\n",
    "for index in range(2**dL-1):\n",
    "    F_list[index].dims = [dims,dims] # makes sure mutliplication will work and QuTiP wont throw errors. \n",
    "\n",
    "gamma_matrix = np.asmatrix(matlab_data[\"gamma_matrix\"])\n",
    "\n",
    "\n"
   ]
  },
  {
   "cell_type": "code",
   "execution_count": 11,
   "metadata": {},
   "outputs": [
    {
     "name": "stdout",
     "output_type": "stream",
     "text": [
      "gamma_matrix is  [[ 3.26205092e-04  3.09860109e-20  1.48229891e-19 -1.23333182e-03\n",
      "  -1.66669290e-19 -3.61397730e-26  3.27756207e-04 -3.19642475e-18\n",
      "  -1.51391517e-19  1.87083230e-04  1.43760253e-21  9.67443588e-19\n",
      "   8.22279307e-06 -1.43773248e-19 -7.57368319e-20]\n",
      " [ 3.09860109e-20  1.95935485e-03 -1.08195989e-18  3.75821324e-18\n",
      "  -1.78882942e-03 -2.51729046e-21 -2.60535604e-19 -3.63782871e-02\n",
      "   1.11404513e-18  4.35521782e-19  9.03079441e-22  4.08480380e-18\n",
      "  -2.52710408e-19 -1.61694158e-05  8.60104254e-19]\n",
      " [ 1.48229891e-19 -1.08195989e-18  8.08836973e-04 -6.14105645e-18\n",
      "   1.08216651e-18  2.84768297e-20  5.71654276e-19  2.19137224e-17\n",
      "  -8.13912935e-04 -5.17950113e-19  6.51900460e-21  1.30745215e-02\n",
      "   3.78629793e-19  1.04044837e-19 -2.09657207e-04]\n",
      " [-1.23333182e-03  3.75821324e-18 -6.14105645e-18  2.61120836e-02\n",
      "  -3.17766731e-18 -7.61300967e-24 -2.82282536e-03 -6.50391531e-17\n",
      "   6.17952491e-18  1.57135731e-03 -1.02251551e-20 -1.19668748e-16\n",
      "  -1.43496768e-03  2.26902668e-19  1.04014081e-18]\n",
      " [-1.66669290e-19 -1.78882942e-03  1.08216651e-18 -3.17766731e-18\n",
      "   1.72499962e-03  1.90621159e-21  1.19083525e-19  3.49100011e-02\n",
      "  -1.11832238e-18 -5.06970138e-19 -1.40970639e-21 -4.84560841e-18\n",
      "   2.44695497e-19  1.11404176e-04 -8.78670160e-19]\n",
      " [-3.61397730e-26 -2.51729046e-21  2.84768297e-20 -7.61300967e-24\n",
      "   1.90621159e-21  2.27833929e-07  5.16744171e-25  4.29749828e-20\n",
      "  -2.86838564e-20 -6.98891933e-25 -3.97502098e-23  5.85446733e-19\n",
      "   4.03486316e-25 -3.13424841e-22 -3.96767774e-21]\n",
      " [ 3.27756207e-04 -2.60535604e-19  5.71654276e-19 -2.82282536e-03\n",
      "   1.19083525e-19  5.16744171e-25  4.46371518e-04  2.59046706e-18\n",
      "  -5.76827826e-19  1.96675740e-05  1.81408088e-21  9.74380998e-18\n",
      "   1.12053981e-04 -1.20804400e-19 -1.33615861e-19]\n",
      " [-3.19642475e-18 -3.63782871e-02  2.19137224e-17 -6.50391531e-17\n",
      "   3.49100011e-02  4.29749828e-20  2.59046706e-18  7.06846238e-01\n",
      "  -2.26383149e-17 -1.01616404e-17 -2.77987937e-20 -9.56322518e-17\n",
      "   4.96025600e-18  2.08955759e-03 -1.77284107e-17]\n",
      " [-1.51391517e-19  1.11404513e-18 -8.13912935e-04  6.17952491e-18\n",
      "  -1.11832238e-18 -2.86838564e-20 -5.76827826e-19 -2.26383149e-17\n",
      "   8.19217890e-04  5.19031903e-19 -6.70116058e-21 -1.31051055e-02\n",
      "  -3.80527984e-19 -1.11508462e-19  2.12326256e-04]\n",
      " [ 1.87083230e-04  4.35521782e-19 -5.17950113e-19  1.57135731e-03\n",
      "  -5.06970138e-19 -6.98891933e-25  1.96675740e-05 -1.01616404e-17\n",
      "   5.19031903e-19  3.50377315e-04  2.75652793e-22 -1.18637609e-17\n",
      "  -1.44931508e-04 -1.17620921e-19  4.10787956e-20]\n",
      " [ 1.43760253e-21  9.03079441e-22  6.51900460e-21 -1.02251551e-20\n",
      "  -1.40970639e-21 -3.97502098e-23  1.81408088e-21 -2.77987937e-20\n",
      "  -6.70116058e-21  2.75652793e-22  4.18741517e-08  4.35514870e-20\n",
      "   3.97144608e-22 -6.99435631e-22 -3.33200623e-21]\n",
      " [ 9.67443588e-19  4.08480380e-18  1.30745215e-02 -1.19668748e-16\n",
      "  -4.84560841e-18  5.85446733e-19  9.74380998e-18 -9.56322518e-17\n",
      "  -1.31051055e-02 -1.18637609e-17  4.35514870e-20  2.60321317e-01\n",
      "   7.75996568e-18 -1.29644292e-18 -2.07605988e-03]\n",
      " [ 8.22279307e-06 -2.52710408e-19  3.78629793e-19 -1.43496768e-03\n",
      "   2.44695497e-19  4.03486316e-25  1.12053981e-04  4.96025600e-18\n",
      "  -3.80527984e-19 -1.44931508e-04  3.97144608e-22  7.75996568e-18\n",
      "   9.26566896e-05  1.69822968e-20 -5.40745910e-20]\n",
      " [-1.43773248e-19 -1.61694158e-05  1.04044837e-19  2.26902668e-19\n",
      "   1.11404176e-04 -3.13424841e-22 -1.20804400e-19  2.08955759e-03\n",
      "  -1.11508462e-19 -1.17620921e-19 -6.99435631e-22 -1.29644292e-18\n",
      "   1.69822968e-20  1.02483853e-04 -1.04890064e-19]\n",
      " [-7.57368319e-20  8.60104254e-19 -2.09657207e-04  1.04014081e-18\n",
      "  -8.78670160e-19 -3.96767774e-21 -1.33615861e-19 -1.77284107e-17\n",
      "   2.12326256e-04  4.10787956e-20 -3.33200623e-21 -2.07605988e-03\n",
      "  -5.40745910e-20 -1.04890064e-19  8.95880312e-05]]\n"
     ]
    }
   ],
   "source": [
    "print(\"gamma_matrix is \", gamma_matrix)"
   ]
  },
  {
   "cell_type": "code",
   "execution_count": 5,
   "metadata": {},
   "outputs": [],
   "source": [
    "[D,U ] = np.linalg.eigh(gamma_matrix)"
   ]
  },
  {
   "cell_type": "markdown",
   "metadata": {},
   "source": [
    "Note that we have gotten now $ U^\\dagger \\Gamma U = D$ where $U$ is a diagonal matrix. Therefore the Dissipator term is written as\n",
    "$$\n",
    "D(\\rho) = \\sum_{\\alpha, \\beta}  \\Gamma_{\\alpha,\\beta} (F_\\beta \\rho F_\\alpha^\\dagger - \\{ F_\\alpha^\\dagger F_\\beta, \\rho\\}/2 ) \\\\\n",
    "= \\sum_{\\alpha, \\beta} \\sum_{i,j} (U_{\\alpha,i} D_{i,j} U^\\dagger_{j,\\beta})  (F_\\beta \\rho F_\\alpha^\\dagger - \\{ F_\\alpha^\\dagger F_\\beta, \\rho\\}/2 )  \\\\\n",
    " = \\sum_{i,j}  D_{i,j}   (L_j \\rho L_i^\\dagger - \\{ L_i^\\dagger L_j, \\rho\\}/2 ) $$\n",
    "\n",
    "where $L_j = \\sum_{\\beta} U^\\dagger_{j,\\beta} F_\\beta $\n",
    "We can define $\\tilde{L}_j = \\sqrt{D_{jj}} L_j$ to get\n",
    "$$ D(\\rho) = \\sum_j ( \\tilde{L}_j \\rho \\tilde{L}_j^\\dagger - \\{ \\tilde{L}_j^\\dagger \\tilde{L}_j, \\rho\\}/2 ) $$"
   ]
  },
  {
   "cell_type": "code",
   "execution_count": 6,
   "metadata": {},
   "outputs": [],
   "source": [
    "## Constructing the lindblad operators we have\n",
    "\n",
    "L_list = []\n",
    "Udagger = np.transpose(np.conj(U))\n",
    "\n",
    "for j  in range(dL**2-1):\n",
    "    op = 0\n",
    "    for betaindex in range(dL**2-1):    \n",
    "        op = op+Udagger[j,betaindex]* F_list[betaindex]\n",
    "    L_list.append(op)\n",
    "\n",
    "tildeL_list = []\n",
    "\n",
    "for index in range(dL**2-1):\n",
    "    tildeL_list.append(np.sqrt(D[index])*L_list[index])\n",
    "\n"
   ]
  },
  {
   "cell_type": "markdown",
   "metadata": {},
   "source": [
    "We are done with constructing Lindblad operators. Now let us compute the L_2 according to this. Then, we will compute the steadystate.\n"
   ]
  },
  {
   "cell_type": "code",
   "execution_count": 9,
   "metadata": {},
   "outputs": [],
   "source": [
    "rho_gibbs = (-beta*H_S).expm() \n",
    "rho_th = rho_gibbs/rho_gibbs.tr()\n",
    "\n",
    "rhodot_thermal = 0\n",
    "\n",
    "for i in range(dL**2-1):\n",
    "    L = tildeL_list[i]\n",
    "    rhodot_thermal = rhodot_thermal+ L*rho_th*L.dag() - 0.5*L.dag()*L*rho_th - 0.5*rho_th*L.dag()*L\n",
    "\n",
    "violation  = np.zeros((d,1),dtype= complex)\n",
    "for i in range(d):\n",
    "    violation[i] = (eigenstates[i].dag()*rhodot_thermal*eigenstates[i]) #affected by ordering of U\n",
    "\n",
    "\n",
    "rhodot_thermal_v2 = 0\n",
    "\n",
    "for  alphaindex in range(dL**2-1):\n",
    "    for betaindex in range(dL**2-1):\n",
    "        Falpha = F_list[alphaindex]\n",
    "       \n",
    "        Fbeta = F_list[betaindex]\n",
    "       \n",
    "        rhodot_therma_v2 = rhodot_thermal_v2 + gamma_matrix[alphaindex,betaindex]*(Fbeta*rho_th*Falpha.dag()-0.5*Falpha.dag()*Fbeta*rho_th - 0.5*rho_th*Falpha.dag()*Fbeta)\n",
    "\n",
    "\n",
    "violation_v2  = np.zeros((d,1), dtype=complex)\n",
    "for i in range(d):\n",
    "    violation_v2[i] = (eigenstates[i].dag()*rhodot_thermal_v2*eigenstates[i]) #affected by ordering of U"
   ]
  },
  {
   "cell_type": "code",
   "execution_count": 10,
   "metadata": {},
   "outputs": [
    {
     "name": "stdout",
     "output_type": "stream",
     "text": [
      "[[ 4.93750006e-13+0.j]\n",
      " [ 1.99959374e-12+0.j]\n",
      " [-5.00707050e-12+0.j]\n",
      " [ 1.68403860e-12+0.j]\n",
      " [-7.82285198e-13+0.j]\n",
      " [-7.34657685e-10+0.j]\n",
      " [-2.99460283e-12+0.j]\n",
      " [ 6.02273473e-14+0.j]\n",
      " [-1.69477241e-11+0.j]\n",
      " [ 5.13087432e-12+0.j]\n",
      " [ 2.29146641e-12+0.j]\n",
      " [-7.80140826e-12+0.j]\n",
      " [ 7.22487302e-13+0.j]\n",
      " [ 1.20324870e-10+0.j]\n",
      " [-9.88344730e-12+0.j]\n",
      " [-4.54719888e-10+0.j]\n",
      " [-4.36568542e-10+0.j]\n",
      " [ 2.38716620e-10+0.j]\n",
      " [ 2.78959183e-10+0.j]\n",
      " [ 1.40396156e-11+0.j]\n",
      " [ 2.03963934e-12+0.j]\n",
      " [-2.65490495e-12+0.j]\n",
      " [ 4.52033739e-10+0.j]\n",
      " [-8.29769727e-12+0.j]\n",
      " [ 4.18060350e-12+0.j]\n",
      " [ 9.77737737e-13+0.j]\n",
      " [ 8.65056151e-13+0.j]\n",
      " [-1.29906611e-12+0.j]\n",
      " [-7.75667232e-14+0.j]\n",
      " [ 4.35428292e-11+0.j]\n",
      " [ 2.97298971e-14+0.j]\n",
      " [ 1.32949757e-10+0.j]\n",
      " [-2.54785852e-10+0.j]\n",
      " [-2.38820649e-10+0.j]\n",
      " [ 2.16897227e-10+0.j]\n",
      " [-2.06859658e-10+0.j]\n",
      " [ 2.31287872e-10+0.j]\n",
      " [ 1.72287955e-13+0.j]\n",
      " [ 9.67213924e-11+0.j]\n",
      " [ 3.34477141e-12+0.j]\n",
      " [ 2.58129748e-13+0.j]\n",
      " [ 2.56574447e-10+0.j]\n",
      " [-1.11358396e-11+0.j]\n",
      " [ 5.28892000e-13+0.j]\n",
      " [-2.69281406e-11+0.j]\n",
      " [-1.63880633e-11+0.j]\n",
      " [ 2.83451977e-11+0.j]\n",
      " [ 2.90083158e-13+0.j]\n",
      " [ 3.34827344e-11+0.j]\n",
      " [ 1.47047486e-10+0.j]\n",
      " [-1.33017200e-10+0.j]\n",
      " [-1.03518649e-10+0.j]\n",
      " [ 1.45361659e-10+0.j]\n",
      " [ 1.17280117e-10+0.j]\n",
      " [-8.22017224e-11+0.j]\n",
      " [ 3.24220453e-12+0.j]\n",
      " [-7.55223020e-13+0.j]\n",
      " [ 1.54945500e-10+0.j]\n",
      " [ 4.09855821e-13+0.j]\n",
      " [ 7.93130962e-12+0.j]\n",
      " [-1.09497154e-11+0.j]\n",
      " [-6.59458810e-11+0.j]\n",
      " [ 8.53750167e-11+0.j]\n",
      " [ 2.46048040e-12+0.j]]\n",
      "[[0.+0.j]\n",
      " [0.+0.j]\n",
      " [0.+0.j]\n",
      " [0.+0.j]\n",
      " [0.+0.j]\n",
      " [0.+0.j]\n",
      " [0.+0.j]\n",
      " [0.+0.j]\n",
      " [0.+0.j]\n",
      " [0.+0.j]\n",
      " [0.+0.j]\n",
      " [0.+0.j]\n",
      " [0.+0.j]\n",
      " [0.+0.j]\n",
      " [0.+0.j]\n",
      " [0.+0.j]\n",
      " [0.+0.j]\n",
      " [0.+0.j]\n",
      " [0.+0.j]\n",
      " [0.+0.j]\n",
      " [0.+0.j]\n",
      " [0.+0.j]\n",
      " [0.+0.j]\n",
      " [0.+0.j]\n",
      " [0.+0.j]\n",
      " [0.+0.j]\n",
      " [0.+0.j]\n",
      " [0.+0.j]\n",
      " [0.+0.j]\n",
      " [0.+0.j]\n",
      " [0.+0.j]\n",
      " [0.+0.j]\n",
      " [0.+0.j]\n",
      " [0.+0.j]\n",
      " [0.+0.j]\n",
      " [0.+0.j]\n",
      " [0.+0.j]\n",
      " [0.+0.j]\n",
      " [0.+0.j]\n",
      " [0.+0.j]\n",
      " [0.+0.j]\n",
      " [0.+0.j]\n",
      " [0.+0.j]\n",
      " [0.+0.j]\n",
      " [0.+0.j]\n",
      " [0.+0.j]\n",
      " [0.+0.j]\n",
      " [0.+0.j]\n",
      " [0.+0.j]\n",
      " [0.+0.j]\n",
      " [0.+0.j]\n",
      " [0.+0.j]\n",
      " [0.+0.j]\n",
      " [0.+0.j]\n",
      " [0.+0.j]\n",
      " [0.+0.j]\n",
      " [0.+0.j]\n",
      " [0.+0.j]\n",
      " [0.+0.j]\n",
      " [0.+0.j]\n",
      " [0.+0.j]\n",
      " [0.+0.j]\n",
      " [0.+0.j]\n",
      " [0.+0.j]]\n"
     ]
    }
   ],
   "source": [
    "print(violation)\n",
    "print(violation_v2)"
   ]
  },
  {
   "cell_type": "markdown",
   "metadata": {},
   "source": [
    "Now we compute the steady state.."
   ]
  },
  {
   "cell_type": "code",
   "execution_count": 116,
   "metadata": {},
   "outputs": [],
   "source": [
    "H_LS_matrix = matlab_data[\"H_LS\"]\n",
    "H_LS = tensor(Qobj(H_LS_matrix),qeye(dM))\n",
    "H_LS.dims = [dims,dims]\n",
    "rho_ss = steadystate(H_S+H_LS, tildeL_list)\n",
    "\n",
    "trace_dist = tracedist(rho_ss,rho_th)\n",
    "\n",
    "\n",
    "L_operator = liouvillian(H_S+H_LS, tildeL_list)\n",
    "\n",
    "L_eigen = L_operator.eigenenergies()\n"
   ]
  },
  {
   "cell_type": "markdown",
   "metadata": {},
   "source": [
    "We can also compute the SS via a different method by directly constructing L..."
   ]
  },
  {
   "cell_type": "code",
   "execution_count": 117,
   "metadata": {},
   "outputs": [],
   "source": [
    "L_v2 = spre(-1.0j*(H_S+H_LS)) + spost(1.0j*(H_S+H_LS))\n",
    "\n",
    "for alphaindex in range(dL**2-1):\n",
    "    for betaindex in range(dL**2-1):\n",
    "        Falpha = F_list[alphaindex]\n",
    "        Fbeta = F_list[betaindex]\n",
    "        L_v2= L_v2+gamma_matrix[alphaindex,betaindex]*(spre(Fbeta)*spost(Falpha.dag()) - 0.5*spre(Falpha.dag()*Fbeta) - 0.5*spost(Falpha.dag()*Fbeta))\n",
    "\n",
    "\n",
    "rho_ss_v2 = steadystate(L_v2)\n",
    "trace_dist_v2 = tracedist(rho_ss_v2,rho_th)\n",
    "L_eigen_v2 = L_v2.eigenenergies()\n",
    "        "
   ]
  },
  {
   "cell_type": "code",
   "execution_count": 118,
   "metadata": {},
   "outputs": [
    {
     "name": "stdout",
     "output_type": "stream",
     "text": [
      "Trace distance betweens steady state and thermal state is 0.0811477283396092\n",
      "Smallest eigenvalues of L are  [-2.36069306e-03+1.00011678e+00j -2.36069306e-03-1.00011678e+00j\n",
      "  4.95111244e-16+3.93144481e-16j]\n",
      "Trace distance betweens steady state v2 and thermal state is 0.08114772833959769\n",
      "Smallest eigenvalues of L_v2 are  [-2.36069306e-03+1.00011678e+00j -2.36069306e-03-1.00011678e+00j\n",
      " -2.62451595e-15+3.74546141e-15j]\n"
     ]
    }
   ],
   "source": [
    "# print(\"violation is \",violation)\n",
    "#print(\"violation_v2 is \",violation_v2)\n",
    "# print()\n",
    "#print(\"########################################################\")\n",
    " #print()\n",
    "\n",
    "\n",
    "print(\"Trace distance betweens steady state and thermal state is\", trace_dist)\n",
    "\n",
    "print(\"Smallest eigenvalues of L are \", L_eigen[-3:])\n",
    "\n",
    "#print()\n",
    "#print(\"########################################################\")\n",
    "#print()\n",
    "\n",
    "print(\"Trace distance betweens steady state v2 and thermal state is\", trace_dist_v2)\n",
    "\n",
    "print(\"Smallest eigenvalues of L_v2 are \", L_eigen_v2[-3:])"
   ]
  },
  {
   "cell_type": "code",
   "execution_count": 119,
   "metadata": {},
   "outputs": [
    {
     "name": "stdout",
     "output_type": "stream",
     "text": [
      "[-3.60000000e+00 -2.60000000e+00 -2.54428304e+00 -2.37767667e+00\n",
      " -2.13692895e+00 -1.90671250e+00 -1.63439884e+00 -1.60000000e+00\n",
      " -1.54428304e+00 -1.48194392e+00 -1.37767667e+00 -1.34976555e+00\n",
      " -1.24153782e+00 -1.13692895e+00 -1.04709831e+00 -9.06712504e-01\n",
      " -8.00000000e-01 -6.34398838e-01 -6.00000000e-01 -5.44283041e-01\n",
      " -5.38915486e-01 -5.19621977e-01 -4.81943921e-01 -4.10473943e-01\n",
      " -3.77676672e-01 -3.49765547e-01 -2.50667203e-01 -2.41537818e-01\n",
      " -1.36928946e-01 -4.70983075e-02  8.88178420e-16  2.95502591e-02\n",
      "  9.32874965e-02  2.00000000e-01  3.16838740e-01  3.65601162e-01\n",
      "  4.00000000e-01  4.55716959e-01  4.61084514e-01  4.80378023e-01\n",
      "  5.18056079e-01  6.16516819e-01  6.22323328e-01  6.50234453e-01\n",
      "  7.49332797e-01  7.58462182e-01  8.63071054e-01  9.52901692e-01\n",
      "  1.02955026e+00  1.09328750e+00  1.20000000e+00  1.27711838e+00\n",
      "  1.36560116e+00  1.40000000e+00  1.45571696e+00  1.46108451e+00\n",
      "  1.48037802e+00  1.62232333e+00  1.74933280e+00  1.86307105e+00\n",
      "  2.02955026e+00  2.09328750e+00  2.36560116e+00  2.40000000e+00]\n"
     ]
    }
   ],
   "source": [
    "# print(eigenenergies) #incase you need to check there are no degenericies"
   ]
  },
  {
   "cell_type": "code",
   "execution_count": null,
   "metadata": {},
   "outputs": [],
   "source": []
  }
 ],
 "metadata": {
  "kernelspec": {
   "display_name": "Python 3.9.12 ('bachelors_thesis')",
   "language": "python",
   "name": "python3"
  },
  "language_info": {
   "codemirror_mode": {
    "name": "ipython",
    "version": 3
   },
   "file_extension": ".py",
   "mimetype": "text/x-python",
   "name": "python",
   "nbconvert_exporter": "python",
   "pygments_lexer": "ipython3",
   "version": "3.12.3"
  },
  "orig_nbformat": 4,
  "vscode": {
   "interpreter": {
    "hash": "3b97392c4d7e63d3f462513e6561effce11c99a349b0b44c3d54d7538cfeb4b2"
   }
  }
 },
 "nbformat": 4,
 "nbformat_minor": 2
}
