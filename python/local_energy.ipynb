{
 "cells": [
  {
   "cell_type": "code",
   "execution_count": 2,
   "metadata": {},
   "outputs": [],
   "source": [
    "from qutip import *\n",
    "import matplotlib.pyplot as plt\n",
    "import numpy as np\n",
    "from helper_code_qutip import *\n",
    "from scipy import integrate\n",
    "import scipy.io"
   ]
  },
  {
   "cell_type": "code",
   "execution_count": 3,
   "metadata": {},
   "outputs": [],
   "source": [
    "import time"
   ]
  },
  {
   "cell_type": "code",
   "execution_count": 6,
   "metadata": {},
   "outputs": [
    {
     "name": "stdout",
     "output_type": "stream",
     "text": [
      "3 3\n",
      "Time taken for g =  0.0016  and N =  6  is  16.556323051452637\n",
      "Smallest eigenvalues of L_lle2 are  [-1.00656297e-05-1.00283195e+00j -1.00656297e-05+1.00283195e+00j\n",
      " -1.21913118e-16-2.57581951e-15j]\n",
      "Time taken for g =  0.0016  and N =  6  is  13.495460271835327\n",
      "Smallest eigenvalues of L_lle2 are  [-1.40173350e-05+1.00283138e+00j -1.40173350e-05-1.00283138e+00j\n",
      " -1.71147281e-15+8.85038177e-15j]\n",
      "Time taken for g =  0.0016  and N =  6  is  12.590105533599854\n",
      "Smallest eigenvalues of L_lle2 are  [-1.78821119e-05+1.00282905e+00j -1.78821119e-05-1.00282905e+00j\n",
      " -1.48307455e-15+2.64929080e-15j]\n"
     ]
    }
   ],
   "source": [
    "Tc_list = [0.001,0.18,0.20]\n",
    "Th_list = [0.4,0.7,1.0] #For some reason, integral diverges outside this range\n",
    "\n",
    "\n",
    "betalist1 = [1/Tc for Tc in Tc_list]\n",
    "betalist2 = [1/Th for Th in Th_list]\n",
    "\n",
    "gvals1 = list(np.linspace(0.001,0.01,50))\n",
    "gvals2 = list(np.linspace(0.01,1,150))\n",
    "gvals3 = list(np.linspace(1,10,50))\n",
    "\n",
    "## Add the two lists\n",
    "gvals = gvals1 + gvals2\n",
    "gvals_ext = gvals + gvals3\n",
    "\n",
    "gvals_1 = [1.6e-3]\n",
    "\n",
    "\n",
    "print(len(betalist1),len(betalist2))\n",
    "\n",
    "redfield_ss = []\n",
    "lle_ss = []\n",
    "lle_ss2 = []\n",
    "e = 0.01\n",
    "for beta2 in betalist2:\n",
    "    list_lle2 = []\n",
    "    for g in gvals_1:\n",
    "        t0 = time.time()\n",
    "        limit_value=700\n",
    "        b=500\n",
    "        N=6\n",
    "        w0min=1\n",
    "        w0max=1\n",
    "        delta=1\n",
    "        gmin=g\n",
    "        gmax=g\n",
    "            \n",
    "        w0list=np.linspace(w0min,w0max,N)\n",
    "        glist=np.linspace(gmin,gmax,N-1)\n",
    "            \n",
    "        tb=0.01\n",
    "        epsilon=1\n",
    "        gamma1=1e-3 #gamma1 is the coupling to left bath. It shows up in spectral bath function\n",
    "        #gamma2=1.1e-2   #gamma2 is the coupling to the right bath.    \n",
    "            \n",
    "            \n",
    "\n",
    "        mu=0\n",
    "            \n",
    "            \n",
    "        delta=1\n",
    "        mu1=mu\n",
    "        mu2=mu\n",
    "\n",
    "        H_S=create_hamiltonian(w0list,glist,delta,N)\n",
    "    \n",
    "    \n",
    "        #c_N=create_sm(N,N)  # we couple the Nth spin to the bath\n",
    "        c_1=create_sm(N,1)\n",
    "        \n",
    "        \n",
    "        \n",
    "        eigenergies,eigstates=H_S.eigenstates()\n",
    "        \n",
    "        #print(\"eigenenergies are : \",eigenergies)\n",
    "        \n",
    "        spectrum=max(eigenergies)-min(eigenergies)\n",
    "        \n",
    "        \n",
    "        \n",
    "        number=len(eigenergies)\n",
    "\n",
    "        gammah_plus =  gamma1*nbar(1,beta2,mu)\n",
    "        gammah_minus = gamma1*(nbar(1,beta2,mu)+1)\n",
    "\n",
    "        Delta1=(-1.0*epsilon*epsilon/(2*np.pi))*integrate.quad(spectral_bath,0,b,args=(tb,gamma1),weight='cauchy',wvar=w0list[0])[0] #Delta\n",
    "        Deltadash1=(-1.0*epsilon*epsilon/(2*np.pi))*integrate.quad(func1,0,b,args=(tb,beta2,mu2,gamma1),weight='cauchy',wvar=w0list[0])[0] #Delta\n",
    "        \n",
    "        H=H_S  +(Deltadash1+0.5*Delta1)*create_sigmaz(N,1)\n",
    "        L_lle = spre(-1.0j*(H)) + spost(1.0j*(H))\n",
    "        op1 = create_sm(N,1).dag()\n",
    "\n",
    "        L_lle = L_lle + gammah_plus*(spectral_bath(1,tb,1))*(spre(op1)*spost(op1.dag()) - 0.5*spre(op1.dag()*op1) - 0.5*spost(op1.dag()*op1)) + gammah_minus*(spectral_bath(1,tb,1))*(spre(op1.dag())*spost(op1) - 0.5*spre(op1*op1.dag()) - 0.5*spost(op1*op1.dag()))\n",
    "        ss_lindblad2 = steadystate(L_lle)\n",
    "\n",
    "        print(\"Time taken for g = \",g,\" and N = \",N,  \" is \",time.time()-t0)\n",
    "        L_eigen = L_lle.eigenenergies()\n",
    "        print(\"Smallest eigenvalues of L_lle2 are \", L_eigen[-3:])\n",
    "        list_lle2.append(ss_lindblad2)\n",
    "    lle_ss2.append(list_lle2)\n",
    "    "
   ]
  },
  {
   "cell_type": "code",
   "execution_count": 14,
   "metadata": {},
   "outputs": [],
   "source": [
    "def e_l(l,w0list,glist,delta,rho_ss):\n",
    "    print(\"Calculating e_l for l = \",l)\n",
    "    if l==1:\n",
    "        op = (w0list[l-1]/2)*create_sigmaz(N,l) - 0.5*glist[l-1]*(create_sigmax(N,l)*create_sigmax(N,l+1) + create_sigmay(N,l)*create_sigmay(N,l+1) + delta*create_sigmaz(N,l)*create_sigmaz(N,l+1))\n",
    "        ##Calculate expectation value of this operator wrt rho_ss\n",
    "        return expect(op,rho_ss)\n",
    "    elif l==N:\n",
    "        op = (w0list[l-1]/2)*create_sigmaz(N,l) - 0.5*glist[l-2]*(create_sigmax(N,l-1)*create_sigmax(N,l) + create_sigmay(N,l-1)*create_sigmay(N,l) + delta*create_sigmaz(N,l-1)*create_sigmaz(N,l))\n",
    "        ##Calculate expectation value of this operator wrt rho_ss\n",
    "        return expect(op,rho_ss)\n",
    "    \n",
    "    else:\n",
    "        op = (w0list[l-1]/2)*create_sigmaz(N,l) - 0.5*glist[l-1]*(create_sigmax(N,l)*create_sigmax(N,l+1) + create_sigmay(N,l)*create_sigmay(N,l+1) + delta*create_sigmaz(N,l)*create_sigmaz(N,l+1)) - 0.5*glist[l-2]*(create_sigmax(N,l-1)*create_sigmax(N,l) + create_sigmay(N,l-1)*create_sigmay(N,l) + delta*create_sigmaz(N,l-1)*create_sigmaz(N,l))\n",
    "        ##Calculate expectation value of this operator wrt rho_ss\n",
    "        return expect(op,rho_ss)"
   ]
  },
  {
   "cell_type": "code",
   "execution_count": 21,
   "metadata": {},
   "outputs": [],
   "source": [
    "def el_plot(w0list,glist,delta,ss_list):\n",
    "    for i in range(1,2):\n",
    "        #for j in range(len(gvals)):\n",
    "        ss = ss_list[i][0]\n",
    "        elist = [e_l(l,w0list,glist,delta,ss) for l in range(1,N+1)]\n",
    "        print(\"e_l for Th = \",Th_list[i],\" is \",elist)\n",
    "        plt.plot(range(1,N+1),elist,label = \"Th = \"+str(Th_list[i]))\n",
    "\n",
    "    plt.xlabel(\"l\")\n",
    "    plt.ylabel(\"e_l\")\n",
    "    plt.legend()\n",
    "    plt.title(\"e_l vs l for different Th\")\n",
    "    plt.show()"
   ]
  },
  {
   "cell_type": "code",
   "execution_count": 22,
   "metadata": {},
   "outputs": [
    {
     "name": "stdout",
     "output_type": "stream",
     "text": [
      "Calculating e_l for l =  1\n",
      "Calculating e_l for l =  2\n",
      "Calculating e_l for l =  3\n",
      "Calculating e_l for l =  4\n",
      "Calculating e_l for l =  5\n",
      "Calculating e_l for l =  6\n",
      "e_l for Th =  0.7  is  [-0.3069795959007944, -0.30728056160389916, -0.3072805616038966, -0.3072805616038956, -0.3072805616038988, -0.30697959590079615]\n"
     ]
    },
    {
     "data": {
      "image/png": "[encoded data removed]",
      "text/plain": [
       "<Figure size 640x480 with 1 Axes>"
      ]
     },
     "metadata": {},
     "output_type": "display_data"
    }
   ],
   "source": [
    "w0list=np.linspace(1,1,N)\n",
    "glist=np.linspace(gvals_1[0],gvals_1[0],N-1)\n",
    "delta = 1\n",
    "el_plot(w0list,glist,delta,lle_ss2)"
   ]
  }
 ],
 "metadata": {
  "kernelspec": {
   "display_name": "qiskitenv",
   "language": "python",
   "name": "python3"
  },
  "language_info": {
   "codemirror_mode": {
    "name": "ipython",
    "version": 3
   },
   "file_extension": ".py",
   "mimetype": "text/x-python",
   "name": "python",
   "nbconvert_exporter": "python",
   "pygments_lexer": "ipython3",
   "version": "3.12.3"
  }
 },
 "nbformat": 4,
 "nbformat_minor": 2
}
