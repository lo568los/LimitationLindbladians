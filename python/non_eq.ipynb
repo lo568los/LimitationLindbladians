{
 "cells": [
  {
   "cell_type": "code",
   "execution_count": 1,
   "metadata": {},
   "outputs": [],
   "source": [
    "## Here we will write out the matrix elements for our non-eq setup\n",
    "\n",
    "from qutip import *\n",
    "import numpy as np\n",
    "from scipy import integrate\n",
    "from helper_code_qutip import * \n",
    "import scipy.io"
   ]
  },
  {
   "cell_type": "code",
   "execution_count": 2,
   "metadata": {},
   "outputs": [],
   "source": [
    "## Firstly, we have to define the integral function C and D\n",
    "\n",
    "def integral1(i,k,tb,beta,mu,gamma,eigenergies,limit_value = 700,b=50):\n",
    "    freq=eigenergies[k]-eigenergies[i]\n",
    "    if( np.absolute(freq) >= 1/10**10):\n",
    "        integral = (-1.0j/(2*np.pi))*integrate.quad(func1,0,b,args=(tb,beta,mu,gamma),limit=limit_value,weight='cauchy',wvar=eigenergies[k]-eigenergies[i])[0]\n",
    "    else:\n",
    "        integral = (-1.0j/(2*np.pi))*integrate.quad(func2,0,b,args=(tb,beta,mu,gamma),limit=limit_value)[0]\n",
    "    return integral\n",
    "\n",
    "def integral2(i,k,tb,gamma,eigenergies,limit_value = 700,b=50):\n",
    "    freq=eigenergies[k]-eigenergies[i]\n",
    "    if( np.absolute(freq) >= 1/10**10):\n",
    "        integral = (-1.0j/(2*np.pi))*integrate.quad(spectral_bath,0,b,args=(tb,gamma),limit=limit_value,weight='cauchy',wvar=eigenergies[k]-eigenergies[i])[0]\n",
    "    else:\n",
    "        integral = (-1.0j/(2*np.pi))*integrate.quad(spectral_bath_2,0,b,args=(tb,gamma),limit=limit_value)[0]\n",
    "    return integral\n",
    "\n",
    "def C(i,k,tb,beta,mu,gamma,eigenergies):\n",
    "    val = integral1(i,k,tb,beta,mu,gamma,eigenergies) + 0.5*(func1(eigenergies[k]-eigenergies[i],tb,beta,mu,gamma))\n",
    "\n",
    "    return val\n",
    "\n",
    "def D(i,k,tb,beta,mu,gamma,eigenergies):\n",
    "    val = integral1(i,k,tb,beta,mu,gamma,eigenergies) + integral2(i,k,tb,gamma,eigenergies) + 0.5*(spectral_bath(eigenergies[k]-eigenergies[i],tb,gamma)+func1(eigenergies[k]-eigenergies[i],tb,beta,mu,gamma))\n",
    "    return val"
   ]
  },
  {
   "cell_type": "code",
   "execution_count": 3,
   "metadata": {},
   "outputs": [],
   "source": [
    "NL = 1\n",
    "NM = 2\n",
    "\n",
    "N = NL + NM\n",
    "dL = 2**NL\n",
    "dM = 2**NM\n",
    "d = 2**N\n",
    "dims = [2]*N"
   ]
  },
  {
   "cell_type": "code",
   "execution_count": 4,
   "metadata": {},
   "outputs": [],
   "source": [
    "## Define the Hamiltonian \n",
    "\n",
    "w0list = np.linspace(1,1,N)\n",
    "glist = np.linspace(0.0016,0.0016,N-1)\n",
    "\n",
    "delta = 1\n",
    "\n",
    "H_S = create_hamiltonian(w0list,glist,delta,N)\n",
    "\n",
    "create_sm_list = [create_sm(N,i + 1) for i in range(NL)]  # Create list of sigma_- operators\n",
    "\n",
    "eigenergies,eigstates=H_S.eigenstates()"
   ]
  },
  {
   "cell_type": "code",
   "execution_count": 6,
   "metadata": {},
   "outputs": [
    {
     "name": "stdout",
     "output_type": "stream",
     "text": [
      "Quantum object: dims=[[2, 2, 2], [2, 2, 2]], shape=(8, 8), type='oper', dtype=Dense, isherm=True\n",
      "Qobj data =\n",
      "[[1.95012772e-02 0.00000000e+00 0.00000000e+00 0.00000000e+00\n",
      "  0.00000000e+00 0.00000000e+00 0.00000000e+00 0.00000000e+00]\n",
      " [0.00000000e+00 5.28408768e-02 1.68820262e-04 0.00000000e+00\n",
      "  2.70256017e-07 0.00000000e+00 0.00000000e+00 0.00000000e+00]\n",
      " [0.00000000e+00 1.68820262e-04 5.26723268e-02 0.00000000e+00\n",
      "  1.68820262e-04 0.00000000e+00 0.00000000e+00 0.00000000e+00]\n",
      " [0.00000000e+00 0.00000000e+00 0.00000000e+00 1.43636395e-01\n",
      "  0.00000000e+00 4.58901050e-04 7.34632021e-07 0.00000000e+00]\n",
      " [0.00000000e+00 2.70256017e-07 1.68820262e-04 0.00000000e+00\n",
      "  5.28408768e-02 0.00000000e+00 0.00000000e+00 0.00000000e+00]\n",
      " [0.00000000e+00 0.00000000e+00 0.00000000e+00 4.58901050e-04\n",
      "  0.00000000e+00 1.43178229e-01 4.58901050e-04 0.00000000e+00]\n",
      " [0.00000000e+00 0.00000000e+00 0.00000000e+00 7.34632021e-07\n",
      "  0.00000000e+00 4.58901050e-04 1.43636395e-01 0.00000000e+00]\n",
      " [0.00000000e+00 0.00000000e+00 0.00000000e+00 0.00000000e+00\n",
      "  0.00000000e+00 0.00000000e+00 0.00000000e+00 3.91693623e-01]]\n"
     ]
    }
   ],
   "source": [
    "## Let us compute the thermal density matrix\n",
    "beta = 1\n",
    "\n",
    "rho_th = (-beta*H_S).expm()/((-beta*H_S).expm()).tr() \n",
    "print(rho_th)"
   ]
  },
  {
   "cell_type": "code",
   "execution_count": 7,
   "metadata": {},
   "outputs": [],
   "source": [
    "## Now we set parameters for the  non-eq setup\n",
    "\n",
    "beta_list = np.linspace(1,1,NL)\n",
    "mu_list = np.linspace(-0.5,-0.5,NL)\n",
    "\n",
    "gamma_list = np.linspace(1,1,NL)\n",
    "\n",
    "tb = 0.01"
   ]
  },
  {
   "cell_type": "code",
   "execution_count": 8,
   "metadata": {},
   "outputs": [],
   "source": [
    "number = len(eigenergies)\n",
    "\n",
    "## Now we will write out the matrix elements\n",
    "\n",
    "A = np.zeros((number,number),dtype=complex)\n",
    "\n",
    "for i in range(number):\n",
    "    for k in range(number):\n",
    "        sum = 0\n",
    "        vi = eigstates[i]\n",
    "        vk = eigstates[k]\n",
    "        proj_i = vi*vi.dag()\n",
    "        proj_k = vk*vk.dag()\n",
    "        for y in range(number):\n",
    "            for l in range(NL):\n",
    "                proj_y = eigstates[y]*eigstates[y].dag()\n",
    "                op1 = commutator(proj_k*create_sm_list[l]*proj_y,create_sm_list[l].dag())*C(k,y,tb,beta_list[l],mu_list[l],gamma_list[l],eigenergies)\n",
    "                sum += vi.dag()*(op1 + op1.dag())*vi\n",
    "\n",
    "                op2 = commutator(create_sm_list[l].dag(),proj_y*create_sm_list[l]*proj_k)*D(y,k,tb,beta_list[l],mu_list[l],gamma_list[l],eigenergies)\n",
    "                sum += vi.dag()*(op2 + op2.dag())*vi\n",
    "\n",
    "        A[i,k] = sum\n"
   ]
  },
  {
   "cell_type": "code",
   "execution_count": 9,
   "metadata": {},
   "outputs": [
    {
     "name": "stdout",
     "output_type": "stream",
     "text": [
      "8\n"
     ]
    }
   ],
   "source": [
    "print(number)  #should be 2^N"
   ]
  },
  {
   "cell_type": "code",
   "execution_count": 11,
   "metadata": {},
   "outputs": [
    {
     "name": "stdout",
     "output_type": "stream",
     "text": [
      "[(0.3916936226812361+0j), (0.1440960310223909+0j), (0.14363566070847075+0j), (0.1427193278727581+0j), (0.053009967367539976+0j), (0.05284060659372312+0j), (0.05250350658219412+0j), (0.019501277171687006+0j)]\n"
     ]
    }
   ],
   "source": [
    "rho_th_new = np.zeros((number,number),dtype=complex)\n",
    "\n",
    "for i in range(number):\n",
    "    for k in range(number):\n",
    "        vi = eigstates[i]\n",
    "        vk = eigstates[k]\n",
    "\n",
    "        rho_th_new[i,k] = vi.dag()*rho_th*vk\n",
    "\n",
    "#print(rho_th_new)\n",
    "\n",
    "rho_th_diag = [rho_th_new[i,i] for i in range(number)]\n",
    "print(rho_th_diag)\n"
   ]
  },
  {
   "cell_type": "code",
   "execution_count": 12,
   "metadata": {},
   "outputs": [
    {
     "name": "stdout",
     "output_type": "stream",
     "text": [
      "[0.+0.j 0.+0.j 0.+0.j 0.+0.j 0.+0.j 0.+0.j 0.+0.j 0.+0.j]\n"
     ]
    }
   ],
   "source": [
    "## Now we use the lin algebra solver to solve the equation Ax = b, where b is all zeroes\n",
    "\n",
    "b = np.zeros((number),dtype=complex)\n",
    "\n",
    "x = np.linalg.solve(A,b)\n",
    "\n",
    "print(x)"
   ]
  },
  {
   "cell_type": "code",
   "execution_count": 13,
   "metadata": {},
   "outputs": [
    {
     "name": "stdout",
     "output_type": "stream",
     "text": [
      "[[ 2.84077906e-01+0.00000000e+00j -4.24802965e-01+0.00000000e+00j\n",
      "  -6.38616515e-01+0.00000000e+00j -2.13812450e-01+0.00000000e+00j\n",
      "   0.00000000e+00+0.00000000e+00j  0.00000000e+00+0.00000000e+00j\n",
      "   0.00000000e+00+0.00000000e+00j  0.00000000e+00+0.00000000e+00j]\n",
      " [-9.47863536e-02+1.08420217e-19j  6.14281954e-01+1.62630326e-19j\n",
      "   9.54097912e-17-2.16840434e-19j -2.86229374e-17-1.40133131e-17j\n",
      "  -5.66403953e-01+2.77555756e-17j -2.12872172e-01-4.16333634e-17j\n",
      "  -7.12708166e-02+2.77555756e-17j  0.00000000e+00+0.00000000e+00j]\n",
      " [-1.42039351e-01+2.71050543e-19j  1.00613962e-16+0.00000000e+00j\n",
      "   7.80655063e-01+5.57279917e-17j -6.93889390e-18+2.79724161e-17j\n",
      "  -2.11930423e-01-2.77555756e-17j -8.13028269e-32-1.23259516e-32j\n",
      "  -4.26684987e-01+1.38777878e-17j  0.00000000e+00+0.00000000e+00j]\n",
      " [-4.72522007e-02+0.00000000e+00j -1.47451495e-17+0.00000000e+00j\n",
      "   4.33680869e-18+1.08420217e-19j  4.51009797e-01-5.42101086e-20j\n",
      "  -7.03290601e-02+0.00000000e+00j -4.22917979e-01+1.38777878e-17j\n",
      "  -5.66403953e-01-8.32667268e-17j  0.00000000e+00+0.00000000e+00j]\n",
      " [ 0.00000000e+00+0.00000000e+00j -1.26381805e-01+5.42101086e-20j\n",
      "  -4.74396333e-02-4.81482486e-35j -1.58439082e-02+0.00000000e+00j\n",
      "   9.43449789e-01+0.00000000e+00j -4.16333634e-17-2.16840434e-19j\n",
      "   3.46944695e-18+1.39319979e-17j -4.24802965e-01-4.16333634e-17j]\n",
      " [ 0.00000000e+00+0.00000000e+00j -4.73464505e-02-2.71050543e-20j\n",
      "  -3.16766120e-32+9.62964972e-35j -9.49716340e-02+1.08420217e-19j\n",
      "   3.46944695e-18+1.38777878e-17j  7.78109051e-01+2.16840434e-19j\n",
      "   3.29597460e-17+2.07082615e-17j -6.35791268e-01+0.00000000e+00j]\n",
      " [ 0.00000000e+00+0.00000000e+00j -1.57507336e-02-2.03287907e-20j\n",
      "  -9.45989148e-02-5.42101086e-20j -1.26381805e-01+0.00000000e+00j\n",
      "   7.45931095e-17-2.77555756e-17j -1.73472348e-17-2.76471554e-17j\n",
      "   1.11189148e+00+2.42861287e-17j -2.10987180e-01-1.38777878e-17j]\n",
      " [ 0.00000000e+00+0.00000000e+00j  0.00000000e+00+0.00000000e+00j\n",
      "   0.00000000e+00+0.00000000e+00j  0.00000000e+00+0.00000000e+00j\n",
      "  -9.47863536e-02+0.00000000e+00j -1.42318900e-01+0.00000000e+00j\n",
      "  -4.75317246e-02+0.00000000e+00j  1.27158141e+00+0.00000000e+00j]]\n"
     ]
    }
   ],
   "source": [
    "print(A)"
   ]
  },
  {
   "cell_type": "code",
   "execution_count": 14,
   "metadata": {},
   "outputs": [
    {
     "name": "stdout",
     "output_type": "stream",
     "text": [
      "7\n",
      "[[-8.45402054e-01+0.00000000e+00j  3.40519050e-01-3.66265094e-18j\n",
      "   6.37435709e-01+4.90803955e-17j  1.29943871e-01+6.81902119e-20j\n",
      "  -1.03348133e-01+2.72398379e-20j -4.78104235e-02+1.38008712e-20j\n",
      "  -1.11338020e-01-5.11652427e-20j  0.00000000e+00+0.00000000e+00j]\n",
      " [ 0.00000000e+00+0.00000000e+00j -8.00987564e-01+0.00000000e+00j\n",
      "   6.63520827e-02-1.69395842e-17j -1.62874812e-01-1.10760666e-17j\n",
      "   7.20130712e-01+3.36359576e-17j  2.22776834e-01-2.72705920e-17j\n",
      "   6.36814986e-02+1.54336407e-17j -1.09078752e-01+2.46582393e-18j]\n",
      " [ 0.00000000e+00+0.00000000e+00j  0.00000000e+00+0.00000000e+00j\n",
      "  -6.67716411e-01+0.00000000e+00j -2.86452180e-01-5.80289269e-17j\n",
      "   3.27809953e-01-5.70311577e-18j -2.35045358e-02+2.01284280e-17j\n",
      "   7.21161089e-01+2.79772499e-17j -7.12979146e-02+4.29940721e-19j]\n",
      " [ 0.00000000e+00+0.00000000e+00j  0.00000000e+00+0.00000000e+00j\n",
      "   0.00000000e+00+0.00000000e+00j -7.64717839e-01+0.00000000e+00j\n",
      "  -1.97621638e-01+4.04850379e-17j  4.39567310e-01+3.05159651e-17j\n",
      "   5.95463016e-01-7.90476135e-17j -7.26908493e-02-5.08363115e-18j]\n",
      " [ 0.00000000e+00+0.00000000e+00j  0.00000000e+00+0.00000000e+00j\n",
      "   0.00000000e+00+0.00000000e+00j  0.00000000e+00+0.00000000e+00j\n",
      "  -6.42842296e-01+0.00000000e+00j -3.21662005e-01-4.86743924e-17j\n",
      "   1.21311682e-01+9.07508440e-17j  8.43192619e-01-6.91383144e-17j]\n",
      " [ 0.00000000e+00+0.00000000e+00j  0.00000000e+00+0.00000000e+00j\n",
      "   0.00000000e+00+0.00000000e+00j  0.00000000e+00+0.00000000e+00j\n",
      "   0.00000000e+00+0.00000000e+00j -8.19629090e-01+0.00000000e+00j\n",
      "   9.56430262e-02-6.16114455e-17j  7.23986064e-01+7.31230775e-17j]\n",
      " [ 0.00000000e+00+0.00000000e+00j  0.00000000e+00+0.00000000e+00j\n",
      "   0.00000000e+00+0.00000000e+00j  0.00000000e+00+0.00000000e+00j\n",
      "   0.00000000e+00+0.00000000e+00j  0.00000000e+00+0.00000000e+00j\n",
      "  -6.25317949e-01+0.00000000e+00j  6.25317949e-01-8.02337269e-17j]\n",
      " [ 0.00000000e+00+0.00000000e+00j  0.00000000e+00+0.00000000e+00j\n",
      "   0.00000000e+00+0.00000000e+00j  0.00000000e+00+0.00000000e+00j\n",
      "   0.00000000e+00+0.00000000e+00j  0.00000000e+00+0.00000000e+00j\n",
      "   0.00000000e+00+0.00000000e+00j  1.30645366e-16+0.00000000e+00j]]\n",
      "7\n"
     ]
    }
   ],
   "source": [
    "## Now we can add one more constraint, that the sum of all the elements of x should be 1, which is basically another row in the matrix A consisting of all 1\n",
    "\n",
    "#A = np.vstack([A,np.ones((1,number))])\n",
    "\n",
    "#print(A)\n",
    "\n",
    "print(np.linalg.matrix_rank(A))\n",
    "\n",
    "q,r = np.linalg.qr(A.T)\n",
    "\n",
    "print(r)\n",
    "diag_r = [r[i][i] for i in range(number)]\n",
    "\n",
    "print(np.linalg.matrix_rank(A))\n",
    "\n",
    "\n",
    "\n"
   ]
  },
  {
   "cell_type": "code",
   "execution_count": 15,
   "metadata": {},
   "outputs": [
    {
     "name": "stdout",
     "output_type": "stream",
     "text": [
      "[(-0.8454020537838208+0j), (-0.8009875636014169+0j), (-0.6677164106560071+0j), (-0.7647178390587316+0j), (-0.6428422960658245+0j), (-0.8196290902899462+0j), (-0.6253179486917773+0j), (1.3064536567755912e-16+0j)]\n"
     ]
    }
   ],
   "source": [
    "print(diag_r)"
   ]
  },
  {
   "cell_type": "code",
   "execution_count": 16,
   "metadata": {},
   "outputs": [
    {
     "name": "stdout",
     "output_type": "stream",
     "text": [
      "8\n",
      "(8, 8)\n",
      "[[ 2.84077906e-01+0.00000000e+00j -4.24802965e-01+0.00000000e+00j\n",
      "  -6.38616515e-01+0.00000000e+00j -2.13812450e-01+0.00000000e+00j\n",
      "   0.00000000e+00+0.00000000e+00j  0.00000000e+00+0.00000000e+00j\n",
      "   0.00000000e+00+0.00000000e+00j  0.00000000e+00+0.00000000e+00j]\n",
      " [-9.47863536e-02+1.08420217e-19j  6.14281954e-01+1.62630326e-19j\n",
      "   9.54097912e-17-2.16840434e-19j -2.86229374e-17-1.40133131e-17j\n",
      "  -5.66403953e-01+2.77555756e-17j -2.12872172e-01-4.16333634e-17j\n",
      "  -7.12708166e-02+2.77555756e-17j  0.00000000e+00+0.00000000e+00j]\n",
      " [-1.42039351e-01+2.71050543e-19j  1.00613962e-16+0.00000000e+00j\n",
      "   7.80655063e-01+5.57279917e-17j -6.93889390e-18+2.79724161e-17j\n",
      "  -2.11930423e-01-2.77555756e-17j -8.13028269e-32-1.23259516e-32j\n",
      "  -4.26684987e-01+1.38777878e-17j  0.00000000e+00+0.00000000e+00j]\n",
      " [-4.72522007e-02+0.00000000e+00j -1.47451495e-17+0.00000000e+00j\n",
      "   4.33680869e-18+1.08420217e-19j  4.51009797e-01-5.42101086e-20j\n",
      "  -7.03290601e-02+0.00000000e+00j -4.22917979e-01+1.38777878e-17j\n",
      "  -5.66403953e-01-8.32667268e-17j  0.00000000e+00+0.00000000e+00j]\n",
      " [ 0.00000000e+00+0.00000000e+00j -1.26381805e-01+5.42101086e-20j\n",
      "  -4.74396333e-02-4.81482486e-35j -1.58439082e-02+0.00000000e+00j\n",
      "   9.43449789e-01+0.00000000e+00j -4.16333634e-17-2.16840434e-19j\n",
      "   3.46944695e-18+1.39319979e-17j -4.24802965e-01-4.16333634e-17j]\n",
      " [ 0.00000000e+00+0.00000000e+00j -4.73464505e-02-2.71050543e-20j\n",
      "  -3.16766120e-32+9.62964972e-35j -9.49716340e-02+1.08420217e-19j\n",
      "   3.46944695e-18+1.38777878e-17j  7.78109051e-01+2.16840434e-19j\n",
      "   3.29597460e-17+2.07082615e-17j -6.35791268e-01+0.00000000e+00j]\n",
      " [ 0.00000000e+00+0.00000000e+00j -1.57507336e-02-2.03287907e-20j\n",
      "  -9.45989148e-02-5.42101086e-20j -1.26381805e-01+0.00000000e+00j\n",
      "   7.45931095e-17-2.77555756e-17j -1.73472348e-17-2.76471554e-17j\n",
      "   1.11189148e+00+2.42861287e-17j -2.10987180e-01-1.38777878e-17j]\n",
      " [ 1.00000000e+00+0.00000000e+00j  1.00000000e+00+0.00000000e+00j\n",
      "   1.00000000e+00+0.00000000e+00j  1.00000000e+00+0.00000000e+00j\n",
      "   1.00000000e+00+0.00000000e+00j  1.00000000e+00+0.00000000e+00j\n",
      "   1.00000000e+00+0.00000000e+00j  1.00000000e+00+0.00000000e+00j]]\n"
     ]
    }
   ],
   "source": [
    "## Since last element of r is 0, we can remove the last row of  A and add a row of 1's\n",
    "\n",
    "A_new = A[:-1]\n",
    "A_new = np.vstack([A_new,np.ones((1,number))])\n",
    "\n",
    "print(np.linalg.matrix_rank(A_new))\n",
    "print(A_new.shape)\n",
    "print(A_new)"
   ]
  },
  {
   "cell_type": "code",
   "execution_count": 17,
   "metadata": {},
   "outputs": [
    {
     "name": "stdout",
     "output_type": "stream",
     "text": [
      "(8, 8)\n"
     ]
    }
   ],
   "source": [
    "print(A.shape)"
   ]
  },
  {
   "cell_type": "code",
   "execution_count": 18,
   "metadata": {},
   "outputs": [
    {
     "name": "stdout",
     "output_type": "stream",
     "text": [
      "7\n",
      "(8, 8)\n"
     ]
    }
   ],
   "source": [
    "print(np.linalg.matrix_rank(A))\n",
    "print(A.shape)"
   ]
  },
  {
   "cell_type": "code",
   "execution_count": 19,
   "metadata": {},
   "outputs": [
    {
     "name": "stdout",
     "output_type": "stream",
     "text": [
      "[0.5475308 -1.73966794e-17j 0.12217064+4.07089472e-18j\n",
      " 0.12178031-1.39867096e-17j 0.12100341+1.05737685e-17j\n",
      " 0.02725995+2.75030571e-18j 0.02717286+5.50661957e-18j\n",
      " 0.02699951+2.12606556e-18j 0.00608252+6.35573490e-18j]\n"
     ]
    }
   ],
   "source": [
    "b[-1] = 1  ## Last element of b is 1\n",
    "\n",
    "x = np.linalg.solve(A_new,b)\n",
    "print(x)"
   ]
  },
  {
   "cell_type": "code",
   "execution_count": 20,
   "metadata": {},
   "outputs": [
    {
     "name": "stdout",
     "output_type": "stream",
     "text": [
      "[-1.38777878e-17+0.00000000e+00j  0.00000000e+00+0.00000000e+00j\n",
      "  9.71771830e-18-3.85185989e-34j  0.00000000e+00-3.85185989e-34j\n",
      "  3.46944695e-18+1.54074396e-33j -2.48497300e-18-1.92592994e-34j\n",
      "  0.00000000e+00+7.70371978e-34j  1.00000000e+00+3.08148791e-33j]\n",
      "(4.0766001685454967e-17+6.93639131056905e-18j)\n"
     ]
    }
   ],
   "source": [
    "##Let us check if this is correct\n",
    "\n",
    "print(np.dot(A_new,x))\n",
    "print(np.dot(A[-1],x))"
   ]
  },
  {
   "cell_type": "code",
   "execution_count": 23,
   "metadata": {},
   "outputs": [],
   "source": [
    "## As we can see, all the checks are completely satisfied. Thus we can arrange the values of x (real values) in a diagonal density matrix and save it in a .mat file\n",
    "x_real = [np.real(x[i]) for i in range(number)]\n",
    "\n",
    "rho = np.diag(x_real)\n",
    "\n",
    "data_dict = {\"dm_ness\":rho, \"dm_th\":rho_th_new, \"dm_th_check\":np.array(rho_th)}\n",
    "\n",
    "scipy.io.savemat(F'../matlab/ness_data_NL = {NL}_NM = {NM}_1.mat',data_dict)\n"
   ]
  }
 ],
 "metadata": {
  "kernelspec": {
   "display_name": "qiskitenv",
   "language": "python",
   "name": "python3"
  },
  "language_info": {
   "codemirror_mode": {
    "name": "ipython",
    "version": 3
   },
   "file_extension": ".py",
   "mimetype": "text/x-python",
   "name": "python",
   "nbconvert_exporter": "python",
   "pygments_lexer": "ipython3",
   "version": "3.12.3"
  }
 },
 "nbformat": 4,
 "nbformat_minor": 2
}
