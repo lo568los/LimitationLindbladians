{
 "cells": [
  {
   "cell_type": "code",
   "execution_count": 1,
   "metadata": {},
   "outputs": [],
   "source": [
    "## Here we will write out the matrix elements for our non-eq setup\n",
    "\n",
    "from qutip import *\n",
    "import numpy as np\n",
    "from scipy import integrate\n",
    "from helper_code_qutip import * \n",
    "import scipy.io"
   ]
  },
  {
   "cell_type": "code",
   "execution_count": 2,
   "metadata": {},
   "outputs": [],
   "source": [
    "## Firstly, we have to define the integral function C and D\n",
    "\n",
    "def integral1(i,k,tb,beta,mu,gamma,eigenergies,limit_value = 700,b=50):\n",
    "    freq=eigenergies[k]-eigenergies[i]\n",
    "    if( np.absolute(freq) >= 1/10**10):\n",
    "        integral = (-1.0j/(2*np.pi))*integrate.quad(func1,0,b,args=(tb,beta,mu,gamma),limit=limit_value,weight='cauchy',wvar=eigenergies[k]-eigenergies[i])[0]\n",
    "    else:\n",
    "        integral = (-1.0j/(2*np.pi))*integrate.quad(func2,0,b,args=(tb,beta,mu,gamma),limit=limit_value)[0]\n",
    "    return integral\n",
    "\n",
    "def integral2(i,k,tb,gamma,eigenergies,limit_value = 700,b=50):\n",
    "    freq=eigenergies[k]-eigenergies[i]\n",
    "    if( np.absolute(freq) >= 1/10**10):\n",
    "        integral = (-1.0j/(2*np.pi))*integrate.quad(spectral_bath,0,b,args=(tb,gamma),limit=limit_value,weight='cauchy',wvar=eigenergies[k]-eigenergies[i])[0]\n",
    "    else:\n",
    "        integral = (-1.0j/(2*np.pi))*integrate.quad(spectral_bath_2,0,b,args=(tb,gamma),limit=limit_value)[0]\n",
    "    return integral\n",
    "\n",
    "def C(i,k,tb,beta,mu,gamma,eigenergies):\n",
    "    val = integral1(i,k,tb,beta,mu,gamma,eigenergies) + 0.5*(func1(eigenergies[k]-eigenergies[i],tb,beta,mu,gamma))\n",
    "\n",
    "    return val\n",
    "\n",
    "def D(i,k,tb,beta,mu,gamma,eigenergies):\n",
    "    val = integral1(i,k,tb,beta,mu,gamma,eigenergies) + integral2(i,k,tb,gamma,eigenergies) + 0.5*(spectral_bath(eigenergies[k]-eigenergies[i],tb,gamma)+func1(eigenergies[k]-eigenergies[i],tb,beta,mu,gamma))\n",
    "    return val"
   ]
  },
  {
   "cell_type": "code",
   "execution_count": 3,
   "metadata": {},
   "outputs": [],
   "source": [
    "NL1 = 2\n",
    "NL2 = 2\n",
    "NM = 2\n",
    "\n",
    "N = NL1 + NL2 + NM\n",
    "dL1 = 2**NL1\n",
    "dL2 = 2**NL2\n",
    "dM = 2**NM\n",
    "d = 2**N\n",
    "dims = [2]*N"
   ]
  },
  {
   "cell_type": "code",
   "execution_count": 4,
   "metadata": {},
   "outputs": [],
   "source": [
    "## Define the Hamiltonian \n",
    "\n",
    "w0list = np.linspace(1,1,N)\n",
    "glist = np.linspace(0.0016,0.0016,N-1)\n",
    "\n",
    "delta = 1\n",
    "\n",
    "H_S = create_hamiltonian(w0list,glist,delta,N)\n",
    "\n",
    "create_sm_list_left = [create_sm(N,i + 1) for i in range(NL1)]\n",
    "create_sm_list_right = [create_sm(N,NM + NL1 + i + 1) for i in range(NL2)]  # Create list of sigma_- operators\n",
    "\n",
    "eigenergies,eigstates=H_S.eigenstates()"
   ]
  },
  {
   "cell_type": "code",
   "execution_count": 5,
   "metadata": {},
   "outputs": [
    {
     "name": "stdout",
     "output_type": "stream",
     "text": [
      "Quantum object: dims=[[2, 2, 2, 2, 2, 2], [2, 2, 2, 2, 2, 2]], shape=(64, 64), type='oper', dtype=Dense, isherm=True\n",
      "Qobj data =\n",
      "[[3.80777093e-04 0.00000000e+00 0.00000000e+00 ... 0.00000000e+00\n",
      "  0.00000000e+00 0.00000000e+00]\n",
      " [0.00000000e+00 1.03175783e-03 3.29634248e-06 ... 0.00000000e+00\n",
      "  0.00000000e+00 0.00000000e+00]\n",
      " [0.00000000e+00 3.29634248e-06 1.02846676e-03 ... 0.00000000e+00\n",
      "  0.00000000e+00 0.00000000e+00]\n",
      " ...\n",
      " [0.00000000e+00 0.00000000e+00 0.00000000e+00 ... 5.61523826e-02\n",
      "  1.79974202e-04 0.00000000e+00]\n",
      " [0.00000000e+00 0.00000000e+00 0.00000000e+00 ... 1.79974202e-04\n",
      "  5.63320690e-02 0.00000000e+00]\n",
      " [0.00000000e+00 0.00000000e+00 0.00000000e+00 ... 0.00000000e+00\n",
      "  0.00000000e+00 1.53616443e-01]]\n"
     ]
    }
   ],
   "source": [
    "## Let us compute the thermal density matrix\n",
    "beta1 = 1  #left baths\n",
    "beta2 = 0.9 #right baths\n",
    "\n",
    "rho_th = (-beta1*H_S).expm()/((-beta1*H_S).expm()).tr() #left thermal density matrix\n",
    "print(rho_th)"
   ]
  },
  {
   "cell_type": "code",
   "execution_count": 6,
   "metadata": {},
   "outputs": [],
   "source": [
    "## Now we set parameters for the  non-eq setup\n",
    "\n",
    "beta_list_left = np.linspace(beta1,beta1,NL1)\n",
    "beta_list_right = np.linspace(beta2,beta2,NL2)\n",
    "\n",
    "mu_list_left = np.linspace(-0.5,-0.5,NL1)\n",
    "mu_list_right = np.linspace(-0.5,-0.5,NL2)\n",
    "\n",
    "gamma_list_left = np.linspace(1,1,NL1)  #coupling strengths to left baths\n",
    "gamma_list_right = np.linspace(1,1,NL2)  #coupling strengths to right baths\n",
    "\n",
    "tb = 0.01"
   ]
  },
  {
   "cell_type": "code",
   "execution_count": 7,
   "metadata": {},
   "outputs": [],
   "source": [
    "number = len(eigenergies)\n",
    "\n",
    "## Now we will write out the matrix elements\n",
    "\n",
    "A = np.zeros((number,number),dtype=complex)\n",
    "\n",
    "for i in range(number):\n",
    "    for k in range(number):\n",
    "        sum = 0\n",
    "        vi = eigstates[i]\n",
    "        vk = eigstates[k]\n",
    "        proj_i = vi*vi.dag()\n",
    "        proj_k = vk*vk.dag()\n",
    "        for y in range(number):\n",
    "            for l in range(NL1):\n",
    "                proj_y = eigstates[y]*eigstates[y].dag()\n",
    "                op1 = commutator(proj_k*create_sm_list_left[l]*proj_y,create_sm_list_left[l].dag())*C(k,y,tb,beta_list_left[l],mu_list_left[l],gamma_list_left[l],eigenergies)\n",
    "                sum += vi.dag()*(op1 + op1.dag())*vi\n",
    "\n",
    "                op2 = commutator(create_sm_list_left[l].dag(),proj_y*create_sm_list_left[l]*proj_k)*D(y,k,tb,beta_list_left[l],mu_list_left[l],gamma_list_left[l],eigenergies)\n",
    "                sum += vi.dag()*(op2 + op2.dag())*vi\n",
    "\n",
    "            for l in range(NL2):\n",
    "                proj_y = eigstates[y]*eigstates[y].dag()\n",
    "                op1 = commutator(proj_k*create_sm_list_right[l]*proj_y,create_sm_list_right[l].dag())*C(k,y,tb,beta_list_right[l],mu_list_right[l],gamma_list_right[l],eigenergies)\n",
    "                sum += vi.dag()*(op1 + op1.dag())*vi\n",
    "\n",
    "                op2 = commutator(create_sm_list_right[l].dag(),proj_y*create_sm_list_right[l]*proj_k)*D(y,k,tb,beta_list_right[l],mu_list_right[l],gamma_list_right[l],eigenergies)\n",
    "                sum += vi.dag()*(op2 + op2.dag())*vi\n",
    "\n",
    "        A[i,k] = sum\n"
   ]
  },
  {
   "cell_type": "code",
   "execution_count": 8,
   "metadata": {},
   "outputs": [
    {
     "name": "stdout",
     "output_type": "stream",
     "text": [
      "64\n"
     ]
    }
   ],
   "source": [
    "print(number)  #should be 2^N"
   ]
  },
  {
   "cell_type": "code",
   "execution_count": 9,
   "metadata": {},
   "outputs": [
    {
     "name": "stdout",
     "output_type": "stream",
     "text": [
      "[np.complex128(0.1536164432357538+0j), np.complex128(0.05651233129231378+0j), np.complex128(0.056463896272977196+0j), np.complex128(0.05633178086692867+0j), np.complex128(0.05615180727947186+0j), np.complex128(0.055972408687012254+0j), np.complex128(0.055841443273902114+0j), np.complex128(0.020789724855111807+0j), np.complex128(0.020771906607265127+0j), np.complex128(0.02075165768501958+0j), np.complex128(0.020723304065517863+0j), np.complex128(0.020710947145894693+0j), np.complex128(0.020674601227246826+0j), np.complex128(0.02065709548273863+0j), np.complex128(0.020629746935722004+0j), np.complex128(0.020591098428797645+0j), np.complex128(0.020560107729941855+0j), np.complex128(0.020542918945809906+0j), np.complex128(0.020509188788367952+0j), np.complex128(0.020490634791516974+0j), np.complex128(0.02043729694990147+0j), np.complex128(0.020361504768194885+0j), np.complex128(0.007648112361806576+0j), np.complex128(0.007641557394746085+0j), np.complex128(0.007634108232546068+0j), np.complex128(0.007625380146612352+0j), np.complex128(0.0076236775188485905+0j), np.complex128(0.0076191316621630235+0j), np.complex128(0.007605760745921979+0j), np.complex128(0.007599320742415015+0j), np.complex128(0.007589259774221687+0j), np.complex128(0.007582021888507876+0j), np.complex128(0.0075750417830922415+0j), np.complex128(0.00756364094211566+0j), np.complex128(0.007557317541814786+0j), np.complex128(0.007550840392263526+0j), np.complex128(0.007544908910344406+0j), np.complex128(0.007538083276351376+0j), np.complex128(0.007529837152007211+0j), np.complex128(0.007518461380984577+0j), np.complex128(0.007490578995533195+0j), np.complex128(0.007467049742254786+0j), np.complex128(0.0028135833016778035+0j), np.complex128(0.0028111718640586925+0j), np.complex128(0.0028084314704313546+0j), np.complex128(0.002804594225305308+0j), np.complex128(0.0028029218980881745+0j), np.complex128(0.002798003012893471+0j), np.complex128(0.0027956338680021845+0j), np.complex128(0.00279193264464558+0j), np.complex128(0.0027867021380143004+0j), np.complex128(0.0027825080030069492+0j), np.complex128(0.0027801817540379606+0j), np.complex128(0.0027756168736269384+0j), np.complex128(0.00277310586320794+0j), np.complex128(0.002765887371305677+0j), np.complex128(0.002755630014927296+0j), np.complex128(0.0010350594527105323+0j), np.complex128(0.0010341723343867946+0j), np.complex128(0.001031752556317971+0j), np.complex128(0.0010284562250806025+0j), np.complex128(0.001025170425243965+0j), np.complex128(0.0010227717100305264+0j), np.complex128(0.0003807770930423696+0j)]\n"
     ]
    }
   ],
   "source": [
    "rho_th_new = np.zeros((number,number),dtype=complex)\n",
    "\n",
    "for i in range(number):\n",
    "    for k in range(number):\n",
    "        vi = eigstates[i]\n",
    "        vk = eigstates[k]\n",
    "\n",
    "        rho_th_new[i,k] = vi.dag()*rho_th*vk\n",
    "\n",
    "#print(rho_th_new)\n",
    "\n",
    "rho_th_diag = [rho_th_new[i,i] for i in range(number)]\n",
    "print(rho_th_diag)\n"
   ]
  },
  {
   "cell_type": "code",
   "execution_count": 10,
   "metadata": {},
   "outputs": [
    {
     "name": "stdout",
     "output_type": "stream",
     "text": [
      "[ 0.+0.j  0.+0.j  0.+0.j  0.+0.j  0.+0.j  0.+0.j  0.+0.j  0.+0.j  0.+0.j\n",
      "  0.+0.j  0.+0.j  0.+0.j  0.+0.j  0.+0.j  0.+0.j  0.+0.j  0.+0.j  0.+0.j\n",
      "  0.+0.j  0.+0.j  0.+0.j  0.+0.j  0.+0.j  0.+0.j  0.+0.j  0.+0.j  0.+0.j\n",
      "  0.+0.j  0.+0.j  0.+0.j  0.+0.j  0.+0.j  0.+0.j  0.+0.j  0.+0.j  0.+0.j\n",
      "  0.+0.j  0.+0.j  0.+0.j  0.+0.j  0.+0.j  0.+0.j  0.+0.j  0.+0.j  0.+0.j\n",
      "  0.+0.j  0.+0.j  0.+0.j  0.+0.j  0.+0.j  0.+0.j  0.+0.j  0.+0.j  0.+0.j\n",
      "  0.+0.j  0.+0.j  0.+0.j  0.+0.j  0.+0.j  0.+0.j  0.+0.j  0.+0.j -0.-0.j\n",
      " -0.-0.j]\n"
     ]
    }
   ],
   "source": [
    "## Now we use the lin algebra solver to solve the equation Ax = b, where b is all zeroes\n",
    "\n",
    "b = np.zeros((number),dtype=complex)\n",
    "\n",
    "x = np.linalg.solve(A,b)\n",
    "\n",
    "print(x)"
   ]
  },
  {
   "cell_type": "code",
   "execution_count": 11,
   "metadata": {},
   "outputs": [
    {
     "name": "stdout",
     "output_type": "stream",
     "text": [
      "[[ 1.26004965e+000+0.00000000e+000j -8.70313963e-001+0.00000000e+000j\n",
      "  -1.24789653e+000+0.00000000e+000j ...  0.00000000e+000+0.00000000e+000j\n",
      "  -2.31309218e-125+0.00000000e+000j  0.00000000e+000+0.00000000e+000j]\n",
      " [-2.10280741e-001+1.01643954e-019j  1.92062780e+000-6.43914447e-018j\n",
      "   1.29479626e-017-2.75730704e-017j ... -1.50033577e-034+1.08411309e-050j\n",
      "  -6.80247213e-035-2.75529829e-050j -1.11210758e-065-1.34086745e-081j]\n",
      " [-3.01265785e-001-1.70084216e-018j  6.71215787e-018-4.06575815e-020j\n",
      "   2.20722606e+000-2.76046408e-017j ... -1.04900591e-034-3.17165956e-050j\n",
      "  -4.59887284e-035-1.21726208e-050j  3.81455601e-067+7.72195917e-082j]\n",
      " ...\n",
      " [ 0.00000000e+000+0.00000000e+000j -8.97570715e-037-1.25051445e-052j\n",
      "  -2.55827609e-036+2.83562051e-052j ...  4.39324370e+000+2.36085023e-017j\n",
      "  -8.90768978e-018+1.11734618e-017j -1.08079631e+000-2.60208521e-018j]\n",
      " [ 3.48028785e-098+7.47416528e-114j -4.06537005e-037-6.85128581e-054j\n",
      "  -1.13390332e-036+9.43720634e-053j ...  3.45960968e-017-4.84062389e-017j\n",
      "   4.84067512e+000+3.07464490e-017j -4.89451515e-001+7.70867745e-017j]\n",
      " [ 0.00000000e+000+0.00000000e+000j -1.61102351e-068+0.00000000e+000j\n",
      "  -1.94783220e-068+0.00000000e+000j ... -2.63519035e-001+0.00000000e+000j\n",
      "  -1.19602531e-001+0.00000000e+000j  5.20485551e+000+0.00000000e+000j]]\n"
     ]
    }
   ],
   "source": [
    "print(A)"
   ]
  },
  {
   "cell_type": "code",
   "execution_count": 12,
   "metadata": {},
   "outputs": [
    {
     "name": "stdout",
     "output_type": "stream",
     "text": [
      "63\n",
      "[[-2.55749532e+00+0.00000000e+00j  7.57191364e-01-2.22470189e-17j\n",
      "   1.22541752e+00-2.30281365e-18j ... -3.21590966e-34+1.46076551e-51j\n",
      "  -1.45764735e-34+2.17736544e-52j -8.82504401e-66+0.00000000e+00j]\n",
      " [ 0.00000000e+00+0.00000000e+00j -2.66991087e+00+0.00000000e+00j\n",
      "   1.06043697e-02-2.64285345e-17j ... -4.57942278e-32-1.72752269e-48j\n",
      "  -3.60228121e-32-1.93092473e-48j -1.17944197e-34+2.75238817e-51j]\n",
      " [ 0.00000000e+00+0.00000000e+00j  0.00000000e+00+0.00000000e+00j\n",
      "  -2.60409121e+00+0.00000000e+00j ... -4.25922065e-32+6.50975709e-50j\n",
      "  -2.54370632e-32-2.86638660e-48j -8.46586209e-35+2.04769520e-50j]\n",
      " ...\n",
      " [ 0.00000000e+00+0.00000000e+00j  0.00000000e+00+0.00000000e+00j\n",
      "   0.00000000e+00+0.00000000e+00j ... -3.80769042e+00+0.00000000e+00j\n",
      "   1.26784168e+00+3.39312320e-17j  2.53984874e+00-2.32099252e-18j]\n",
      " [ 0.00000000e+00+0.00000000e+00j  0.00000000e+00+0.00000000e+00j\n",
      "   0.00000000e+00+0.00000000e+00j ...  0.00000000e+00+0.00000000e+00j\n",
      "  -2.91356729e+00+0.00000000e+00j  2.91356729e+00+1.96362365e-16j]\n",
      " [ 0.00000000e+00+0.00000000e+00j  0.00000000e+00+0.00000000e+00j\n",
      "   0.00000000e+00+0.00000000e+00j ...  0.00000000e+00+0.00000000e+00j\n",
      "   0.00000000e+00+0.00000000e+00j  3.48427585e-15+0.00000000e+00j]]\n",
      "63\n"
     ]
    }
   ],
   "source": [
    "## Now we can add one more constraint, that the sum of all the elements of x should be 1, which is basically another row in the matrix A consisting of all 1\n",
    "\n",
    "#A = np.vstack([A,np.ones((1,number))])\n",
    "\n",
    "#print(A)\n",
    "\n",
    "print(np.linalg.matrix_rank(A))\n",
    "\n",
    "q,r = np.linalg.qr(A.T)\n",
    "\n",
    "print(r)\n",
    "diag_r = [r[i][i] for i in range(number)]\n",
    "\n",
    "print(np.linalg.matrix_rank(A))\n",
    "\n",
    "\n",
    "\n"
   ]
  },
  {
   "cell_type": "code",
   "execution_count": 13,
   "metadata": {},
   "outputs": [
    {
     "name": "stdout",
     "output_type": "stream",
     "text": [
      "[np.complex128(-2.5574953224588657+0j), np.complex128(-2.669910873113885+0j), np.complex128(-2.6040912089451442+0j), np.complex128(-2.365048792858441+0j), np.complex128(-2.2821930601873763+0j), np.complex128(-2.3079810921090744+0j), np.complex128(-2.490112192101455+0j), np.complex128(-2.8017822595967257+0j), np.complex128(-2.7832724555577837+0j), np.complex128(-2.484902268984881+0j), np.complex128(-2.700164231946677+0j), np.complex128(-2.599401536750435+0j), np.complex128(-2.4659539901474603+0j), np.complex128(-2.6834458774546985+0j), np.complex128(-2.607442246028976+0j), np.complex128(-2.702973079203711+0j), np.complex128(-2.6067713715936605+0j), np.complex128(-2.740256332155743+0j), np.complex128(-2.5000529908489773+0j), np.complex128(-2.4545526068199788+0j), np.complex128(-2.491708812818465+0j), np.complex128(-2.553747598207202+0j), np.complex128(-2.9133795556436133+0j), np.complex128(-3.145444376238775+0j), np.complex128(-3.1058219152533755+0j), np.complex128(-3.068546429689175+0j), np.complex128(-3.0287387760674824+0j), np.complex128(-3.1482363290113624+0j), np.complex128(-3.0595146097809693+0j), np.complex128(-3.1183111791527063+0j), np.complex128(-3.1410676994668663+0j), np.complex128(-3.0945626887689217+0j), np.complex128(-3.122381483960431+0j), np.complex128(-3.1594594358279706+0j), np.complex128(-3.0213338541882533+0j), np.complex128(-3.1234202690422084+0j), np.complex128(-3.138456777296371+0j), np.complex128(-3.153783980524496+0j), np.complex128(-3.095419041832126+0j), np.complex128(-3.142626961121763+0j), np.complex128(-3.106915966894644+0j), np.complex128(-3.027837656508525+0j), np.complex128(-3.036832619206044+0j), np.complex128(-3.4902323094276153+0j), np.complex128(-3.4854020011318987+0j), np.complex128(-3.4400120454358816+0j), np.complex128(-3.6300717832066205+0j), np.complex128(-3.568543645698673+0j), np.complex128(-3.5675691027624548+0j), np.complex128(-3.5512377540392817+0j), np.complex128(-3.5562461095825557+0j), np.complex128(-3.6605166573076304+0j), np.complex128(-3.3352750529117436+0j), np.complex128(-3.7075404701818604+0j), np.complex128(-3.651376056720244+0j), np.complex128(-3.5704080413606403+0j), np.complex128(-3.4087668718556228+0j), np.complex128(-3.1162438624944833+0j), np.complex128(-3.615388011571035+0j), np.complex128(-3.7413951872476385+0j), np.complex128(-3.7592417051916165+0j), np.complex128(-3.807690420101816+0j), np.complex128(-2.9135672941483888+0j), np.complex128(3.484275853602582e-15+0j)]\n"
     ]
    }
   ],
   "source": [
    "print(diag_r)"
   ]
  },
  {
   "cell_type": "code",
   "execution_count": 14,
   "metadata": {},
   "outputs": [
    {
     "name": "stdout",
     "output_type": "stream",
     "text": [
      "64\n",
      "(64, 64)\n",
      "[[ 1.26004965e+000+0.00000000e+000j -8.70313963e-001+0.00000000e+000j\n",
      "  -1.24789653e+000+0.00000000e+000j ...  0.00000000e+000+0.00000000e+000j\n",
      "  -2.31309218e-125+0.00000000e+000j  0.00000000e+000+0.00000000e+000j]\n",
      " [-2.10280741e-001+1.01643954e-019j  1.92062780e+000-6.43914447e-018j\n",
      "   1.29479626e-017-2.75730704e-017j ... -1.50033577e-034+1.08411309e-050j\n",
      "  -6.80247213e-035-2.75529829e-050j -1.11210758e-065-1.34086745e-081j]\n",
      " [-3.01265785e-001-1.70084216e-018j  6.71215787e-018-4.06575815e-020j\n",
      "   2.20722606e+000-2.76046408e-017j ... -1.04900591e-034-3.17165956e-050j\n",
      "  -4.59887284e-035-1.21726208e-050j  3.81455601e-067+7.72195917e-082j]\n",
      " ...\n",
      " [ 0.00000000e+000+0.00000000e+000j -8.97570715e-037-1.25051445e-052j\n",
      "  -2.55827609e-036+2.83562051e-052j ...  4.39324370e+000+2.36085023e-017j\n",
      "  -8.90768978e-018+1.11734618e-017j -1.08079631e+000-2.60208521e-018j]\n",
      " [ 3.48028785e-098+7.47416528e-114j -4.06537005e-037-6.85128581e-054j\n",
      "  -1.13390332e-036+9.43720634e-053j ...  3.45960968e-017-4.84062389e-017j\n",
      "   4.84067512e+000+3.07464490e-017j -4.89451515e-001+7.70867745e-017j]\n",
      " [ 1.00000000e+000+0.00000000e+000j  1.00000000e+000+0.00000000e+000j\n",
      "   1.00000000e+000+0.00000000e+000j ...  1.00000000e+000+0.00000000e+000j\n",
      "   1.00000000e+000+0.00000000e+000j  1.00000000e+000+0.00000000e+000j]]\n"
     ]
    }
   ],
   "source": [
    "## Since last element of r is 0, we can remove the last row of  A and add a row of 1's\n",
    "\n",
    "A_new = A[:-1]\n",
    "A_new = np.vstack([A_new,np.ones((1,number))])\n",
    "\n",
    "print(np.linalg.matrix_rank(A_new))\n",
    "print(A_new.shape)\n",
    "print(A_new)"
   ]
  },
  {
   "cell_type": "code",
   "execution_count": 15,
   "metadata": {},
   "outputs": [
    {
     "name": "stdout",
     "output_type": "stream",
     "text": [
      "(64, 64)\n"
     ]
    }
   ],
   "source": [
    "print(A.shape)"
   ]
  },
  {
   "cell_type": "code",
   "execution_count": 16,
   "metadata": {},
   "outputs": [
    {
     "name": "stdout",
     "output_type": "stream",
     "text": [
      "63\n",
      "(64, 64)\n"
     ]
    }
   ],
   "source": [
    "print(np.linalg.matrix_rank(A))\n",
    "print(A.shape)"
   ]
  },
  {
   "cell_type": "code",
   "execution_count": 17,
   "metadata": {},
   "outputs": [
    {
     "name": "stdout",
     "output_type": "stream",
     "text": [
      "[2.74241552e-01+1.13043002e-17j 6.62608206e-02+2.75486861e-18j\n",
      " 6.62070894e-02+3.61662144e-18j 6.60605161e-02+3.42221495e-18j\n",
      " 6.58608173e-02+6.61066687e-19j 6.56617229e-02+3.02358033e-18j\n",
      " 6.55163576e-02+2.42436134e-18j 1.60095957e-02+2.50542970e-19j\n",
      " 1.59966137e-02+1.16415556e-19j 1.59818596e-02+1.23231908e-18j\n",
      " 1.59611991e-02-4.93532592e-20j 1.59521946e-02-4.27667335e-19j\n",
      " 1.59257074e-02-3.98864923e-19j 1.59129489e-02-2.28482008e-19j\n",
      " 1.58930159e-02-4.18180851e-19j 1.58648447e-02+6.44367947e-19j\n",
      " 1.58422530e-02+1.26457555e-19j 1.58297222e-02-5.84226193e-19j\n",
      " 1.58051304e-02-4.50587439e-19j 1.57916021e-02+4.66207386e-19j\n",
      " 1.57527087e-02-2.17436982e-19j 1.56974324e-02+1.93568335e-20j\n",
      " 3.86815550e-03-2.51157138e-19j 3.86501885e-03-3.66264387e-19j\n",
      " 3.86145411e-03-4.73478223e-19j 3.85727706e-03-5.86862027e-19j\n",
      " 3.85646214e-03-2.66294831e-19j 3.85428651e-03-6.50079985e-19j\n",
      " 3.84788679e-03-3.78641122e-19j 3.84480418e-03-3.93092908e-19j\n",
      " 3.83998807e-03-5.13256491e-19j 3.83652314e-03-3.31921927e-19j\n",
      " 3.83318147e-03-2.12455575e-19j 3.82772301e-03-3.75776198e-19j\n",
      " 3.82469534e-03-2.87602180e-19j 3.82159385e-03-4.55777052e-19j\n",
      " 3.81875362e-03-2.83172344e-19j 3.81548495e-03-4.26241281e-19j\n",
      " 3.81153594e-03-5.85017773e-19j 3.80608771e-03-5.04758909e-19j\n",
      " 3.79273210e-03-3.71817733e-19j 3.78145953e-03-5.06639804e-19j\n",
      " 9.34603678e-04-5.40613801e-19j 9.33845816e-04-6.45484698e-19j\n",
      " 9.32984518e-04-1.03973737e-18j 9.31778388e-04-4.90108075e-19j\n",
      " 9.31252733e-04-6.33114934e-19j 9.29706453e-04-3.22722030e-19j\n",
      " 9.28961651e-04-5.85673184e-19j 9.27798002e-04-5.34009353e-19j\n",
      " 9.26153427e-04-5.97451276e-19j 9.24834587e-04-6.32084409e-19j\n",
      " 9.24103050e-04-4.08626796e-19j 9.22667439e-04-3.91019414e-19j\n",
      " 9.21877683e-04-6.51698647e-19j 9.19607170e-04-3.41353341e-19j\n",
      " 9.16380242e-04-4.85597534e-19j 2.25814097e-04-1.01557999e-18j\n",
      " 2.25630985e-04-1.51964699e-18j 2.25131465e-04-7.75011156e-19j\n",
      " 2.24450898e-04-1.00766923e-18j 2.23772389e-04-1.27319387e-18j\n",
      " 2.23276987e-04-5.70690764e-19j 5.45600317e-05-4.60648715e-18j]\n"
     ]
    }
   ],
   "source": [
    "b[-1] = 1  ## Last element of b is 1\n",
    "\n",
    "x = np.linalg.solve(A_new,b)\n",
    "print(x)"
   ]
  },
  {
   "cell_type": "code",
   "execution_count": 18,
   "metadata": {},
   "outputs": [
    {
     "name": "stdout",
     "output_type": "stream",
     "text": [
      "[-2.77555756e-17+0.00000000e+00j -1.38777878e-17-7.70371978e-34j\n",
      "  2.35922393e-16-6.54816181e-33j  2.84457419e-34-3.85185989e-33j\n",
      " -2.08166817e-17-5.77778983e-34j -4.16333634e-17+7.70371978e-34j\n",
      " -6.93889390e-18+1.54074396e-33j -1.38777878e-17+9.62964972e-35j\n",
      " -3.81639165e-17-5.77778983e-34j -9.02056208e-17-3.85185989e-34j\n",
      " -2.77555756e-17+6.74075481e-34j -6.93889390e-18+9.62964972e-34j\n",
      " -1.04083409e-17+5.77778983e-34j -3.12250226e-17+1.92592994e-34j\n",
      " -3.46944695e-18+5.77778983e-34j  2.08166817e-17+5.77778983e-34j\n",
      " -4.51028104e-17+5.77778983e-34j  6.93889390e-18-1.92592994e-34j\n",
      "  1.04083409e-17+1.92592994e-34j  6.39833261e-36+1.92592994e-33j\n",
      " -1.73472348e-17+0.00000000e+00j -1.73472348e-17+6.74075481e-34j\n",
      "  5.20417043e-18-9.62964972e-35j  1.73472348e-18-6.74075481e-34j\n",
      "  6.93889390e-18+1.92592994e-34j -1.73472348e-18-5.29630735e-34j\n",
      "  1.73472348e-18+9.62964972e-35j  2.60208521e-18+3.85185989e-34j\n",
      " -8.67361738e-19+0.00000000e+00j  2.60208521e-18+1.92592994e-34j\n",
      "  2.60208521e-18+1.68518870e-34j -1.73472348e-18+0.00000000e+00j\n",
      " -1.74779842e-34-3.85185989e-34j  8.67361738e-19+9.62964972e-35j\n",
      "  1.73472348e-18+9.62964972e-35j -1.36239265e-35-4.69445424e-34j\n",
      " -8.67361738e-19+9.62964972e-35j  1.73472348e-18-1.44444746e-34j\n",
      "  5.20417043e-18-1.92592994e-34j  8.67361738e-19-9.62964972e-35j\n",
      "  1.73472348e-18-3.37037740e-34j  1.73472348e-18-9.62964972e-35j\n",
      " -1.51788304e-18+8.66668475e-34j  8.67361738e-19-3.85185989e-34j\n",
      " -1.30104261e-18+2.40741243e-35j -4.33680869e-19-1.44444746e-34j\n",
      "  4.33680869e-19+4.81482486e-35j  1.08492501e-35-3.25000678e-34j\n",
      " -8.67361738e-19-4.09260113e-34j -2.16840434e-19-1.14352090e-34j\n",
      " -8.72202599e-35+1.92592994e-34j -1.30104261e-18+3.37037740e-34j\n",
      "  1.08420217e-18+1.32407684e-34j  8.67361738e-19-5.41667797e-34j\n",
      "  4.33680869e-19+9.02779661e-34j -1.73472348e-18-1.20370622e-34j\n",
      " -6.11942735e-35-5.41667797e-35j  2.52850708e-35-2.79861695e-34j\n",
      " -5.42101086e-20+5.10070509e-34j -4.33680869e-19+8.39585085e-34j\n",
      "  1.62630326e-19+2.22685650e-34j -2.16840434e-19-7.94446102e-34j\n",
      "  1.08420217e-19-1.01863638e-33j  1.00000000e+00-3.08148791e-33j]\n",
      "(-1.1332894258447856e-15-2.2566162994534704e-17j)\n"
     ]
    }
   ],
   "source": [
    "##Let us check if this is correct\n",
    "\n",
    "print(np.dot(A_new,x))\n",
    "print(np.dot(A[-1],x))"
   ]
  },
  {
   "cell_type": "code",
   "execution_count": 19,
   "metadata": {},
   "outputs": [
    {
     "name": "stdout",
     "output_type": "stream",
     "text": [
      "[ 0.00000000e+00+0.j -5.75754671e-84-0.j -7.20269094e-81-0.j\n",
      "  9.97707536e-26+0.j  0.00000000e+00+0.j -9.97750790e-26+0.j\n",
      " -4.68927578e-18+0.j  7.44164867e-30+0.j  6.93446618e-39+0.j\n",
      "  4.68927558e-18+0.j  2.00350271e-22+0.j  1.62645715e-28+0.j\n",
      " -2.76943731e-22+0.j  1.69750167e-16+0.j -1.69218316e-16+0.j\n",
      " -3.47076771e-19+0.j  2.16692542e-36+0.j  4.68887508e-18+0.j\n",
      "  3.61763387e-22+0.j -1.69750168e-16+0.j -2.45816511e-22+0.j\n",
      "  1.45324297e-17+0.j  7.48129298e-17+0.j  1.36203428e-17+0.j\n",
      "  4.68870187e-18+0.j -1.46662039e-16+0.j  3.47937418e-17+0.j\n",
      "  3.84671301e-17+0.j -1.38911464e-16+0.j -1.73142083e-16+0.j\n",
      " -1.15759670e-16+0.j -4.08248290e-01+0.j  1.00408924e-33+0.j\n",
      " -3.30354054e-22+0.j -4.68835463e-18+0.j  1.40153459e-16+0.j\n",
      " -4.68902623e-18+0.j  5.20265203e-17+0.j  2.06555726e-17+0.j\n",
      " -1.76440484e-16+0.j -1.19785237e-22+0.j -4.79489729e-17+0.j\n",
      "  6.25997904e-17+0.j  1.98793246e-16+0.j  2.21017512e-16+0.j\n",
      "  2.22708655e-16+0.j -2.92101574e-16+0.j -4.08248290e-01+0.j\n",
      "  2.00903823e-22+0.j -9.98162034e-17+0.j -7.80852981e-17+0.j\n",
      " -1.86292454e-16+0.j  7.87131195e-17+0.j  4.08717327e-16+0.j\n",
      "  2.05223992e-16+0.j -4.08248290e-01+0.j -1.38836100e-16+0.j\n",
      " -2.14405024e-16+0.j  2.32456940e-16+0.j -4.08248290e-01+0.j\n",
      " -9.84840341e-17+0.j -4.08248290e-01+0.j -4.08248290e-01+0.j\n",
      "  0.00000000e+00+0.j]\n",
      "Quantum object: dims=[[2, 2, 2, 2, 2, 2], [1, 1, 1, 1, 1, 1]], shape=(64, 1), type='ket', dtype=Dense\n",
      "Qobj data =\n",
      "[[ 0.00000000e+00]\n",
      " [-5.75754671e-84]\n",
      " [-7.20269094e-81]\n",
      " [ 9.97707536e-26]\n",
      " [ 0.00000000e+00]\n",
      " [-9.97750790e-26]\n",
      " [-4.68927578e-18]\n",
      " [ 7.44164867e-30]\n",
      " [ 6.93446618e-39]\n",
      " [ 4.68927558e-18]\n",
      " [ 2.00350271e-22]\n",
      " [ 1.62645715e-28]\n",
      " [-2.76943731e-22]\n",
      " [ 1.69750167e-16]\n",
      " [-1.69218316e-16]\n",
      " [-3.47076771e-19]\n",
      " [ 2.16692542e-36]\n",
      " [ 4.68887508e-18]\n",
      " [ 3.61763387e-22]\n",
      " [-1.69750168e-16]\n",
      " [-2.45816511e-22]\n",
      " [ 1.45324297e-17]\n",
      " [ 7.48129298e-17]\n",
      " [ 1.36203428e-17]\n",
      " [ 4.68870187e-18]\n",
      " [-1.46662039e-16]\n",
      " [ 3.47937418e-17]\n",
      " [ 3.84671301e-17]\n",
      " [-1.38911464e-16]\n",
      " [-1.73142083e-16]\n",
      " [-1.15759670e-16]\n",
      " [-4.08248290e-01]\n",
      " [ 1.00408924e-33]\n",
      " [-3.30354054e-22]\n",
      " [-4.68835463e-18]\n",
      " [ 1.40153459e-16]\n",
      " [-4.68902623e-18]\n",
      " [ 5.20265203e-17]\n",
      " [ 2.06555726e-17]\n",
      " [-1.76440484e-16]\n",
      " [-1.19785237e-22]\n",
      " [-4.79489729e-17]\n",
      " [ 6.25997904e-17]\n",
      " [ 1.98793246e-16]\n",
      " [ 2.21017512e-16]\n",
      " [ 2.22708655e-16]\n",
      " [-2.92101574e-16]\n",
      " [-4.08248290e-01]\n",
      " [ 2.00903823e-22]\n",
      " [-9.98162034e-17]\n",
      " [-7.80852981e-17]\n",
      " [-1.86292454e-16]\n",
      " [ 7.87131195e-17]\n",
      " [ 4.08717327e-16]\n",
      " [ 2.05223992e-16]\n",
      " [-4.08248290e-01]\n",
      " [-1.38836100e-16]\n",
      " [-2.14405024e-16]\n",
      " [ 2.32456940e-16]\n",
      " [-4.08248290e-01]\n",
      " [-9.84840341e-17]\n",
      " [-4.08248290e-01]\n",
      " [-4.08248290e-01]\n",
      " [ 0.00000000e+00]]\n"
     ]
    }
   ],
   "source": [
    "#We have to tranfer the basis of the solution rho matrix to computational basis from the eigenbasis\n",
    "\n",
    "x_real = [np.real(x[i]) for i in range(number)]\n",
    "\n",
    "rho = np.diag(x_real)\n",
    "\n",
    "#set U matrix whose columns are the eigenvectors of the Hamiltonian\n",
    "\n",
    "U = np.zeros((number,number),dtype=complex)\n",
    "for i in range(number):\n",
    "    U[:,i] = eigstates[i].full().flatten()\n",
    "\n",
    "check = 1\n",
    "\n",
    "print(U[:,check])\n",
    "print(eigstates[check])"
   ]
  },
  {
   "cell_type": "code",
   "execution_count": 20,
   "metadata": {},
   "outputs": [
    {
     "name": "stdout",
     "output_type": "stream",
     "text": [
      "[[ 5.45600317e-05+0.j  0.00000000e+00+0.j  0.00000000e+00+0.j ...\n",
      "   0.00000000e+00+0.j  0.00000000e+00+0.j  0.00000000e+00+0.j]\n",
      " [ 0.00000000e+00+0.j  1.05966960e-03+0.j -9.82652642e-04+0.j ...\n",
      "   1.60132166e-35+0.j  8.00140657e-36+0.j  0.00000000e+00+0.j]\n",
      " [ 0.00000000e+00+0.j -9.82652642e-04+0.j  1.48042248e-03+0.j ...\n",
      "   2.74710686e-35+0.j  1.37381146e-35+0.j  0.00000000e+00+0.j]\n",
      " ...\n",
      " [ 0.00000000e+00+0.j  1.60132166e-35+0.j  2.74710686e-35+0.j ...\n",
      "   4.00124002e-02+0.j -2.25915364e-02+0.j  0.00000000e+00+0.j]\n",
      " [ 0.00000000e+00+0.j  8.00140657e-36+0.j  1.37381146e-35+0.j ...\n",
      "  -2.25915364e-02+0.j  4.06980339e-02+0.j  0.00000000e+00+0.j]\n",
      " [ 0.00000000e+00+0.j  0.00000000e+00+0.j  0.00000000e+00+0.j ...\n",
      "   0.00000000e+00+0.j  0.00000000e+00+0.j  2.74241552e-01+0.j]]\n",
      "(1.0000000000000018+0j)\n"
     ]
    }
   ],
   "source": [
    "rho_comp = np.dot(np.conjugate(U.T),np.dot(rho,U))\n",
    "\n",
    "print(rho_comp)\n",
    "print(np.trace(rho_comp))"
   ]
  },
  {
   "cell_type": "code",
   "execution_count": 21,
   "metadata": {},
   "outputs": [],
   "source": [
    "def L2_red(rho,eigenergies,eigstates,beta_list_left,beta_list_right,mu_list_left,mu_list_right,gamma_list_left,gamma_list_right,tb):\n",
    "    sum = 0\n",
    "    rho = Qobj(rho)\n",
    "    rho.dims = [dims,dims]\n",
    "    for i in range(number):\n",
    "        for k in range(number):\n",
    "            vi = eigstates[i]\n",
    "            vk = eigstates[k]\n",
    "\n",
    "            proj_i = vi*vi.dag()\n",
    "            proj_k = vk*vk.dag()\n",
    "\n",
    "            for l in range(NL1):\n",
    "                op = commutator(rho*proj_i*create_sm_list_left[l]*proj_k,create_sm_list_left[l].dag())*C(i,k,tb,beta_list_left[l],mu_list_left[l],gamma_list_left[l],eigenergies) + commutator(create_sm_list_left[l].dag(),proj_i*create_sm_list_left[l]*proj_k*rho)*D(i,k,tb,beta_list_left[l],mu_list_left[l],gamma_list_left[l],eigenergies)\n",
    "                sum += op\n",
    "                sum += op.dag()\n",
    "\n",
    "            for l in range(NL2):\n",
    "                op = commutator(rho*proj_i*create_sm_list_right[l]*proj_k,create_sm_list_right[l].dag())*C(i,k,tb,beta_list_right[l],mu_list_right[l],gamma_list_right[l],eigenergies) + commutator(create_sm_list_right[l].dag(),proj_i*create_sm_list_right[l]*proj_k*rho)*D(i,k,tb,beta_list_right[l],mu_list_right[l],gamma_list_right[l],eigenergies)\n",
    "                sum += op\n",
    "                sum += op.dag()\n",
    "    data = sum.full()\n",
    "    sum = np.array(data,dtype=complex)\n",
    "    return sum"
   ]
  },
  {
   "cell_type": "code",
   "execution_count": 22,
   "metadata": {},
   "outputs": [],
   "source": [
    "L2_redfield = L2_red(rho_comp,eigenergies,eigstates,beta_list_left,beta_list_right,mu_list_left,mu_list_right,gamma_list_left,gamma_list_right,tb)"
   ]
  },
  {
   "cell_type": "code",
   "execution_count": 23,
   "metadata": {},
   "outputs": [
    {
     "name": "stdout",
     "output_type": "stream",
     "text": [
      "[[-3.05753591e-03+0.00000000e+00j  9.54009910e-04-1.50507354e-06j\n",
      "   3.66529238e-04+1.42769551e-06j ...  1.12036931e-25-6.96037398e-25j\n",
      "   1.87015105e-25-2.59392848e-25j  0.00000000e+00+0.00000000e+00j]\n",
      " [ 9.54009910e-04+1.50507354e-06j  1.25370550e-03+0.00000000e+00j\n",
      "  -3.96625302e-03+6.18729147e-07j ... -2.73550446e-21-4.12063653e-21j\n",
      "  -6.08408461e-22-8.88334383e-22j -3.61425642e-30-2.02169746e-30j]\n",
      " [ 3.66529238e-04-1.42769551e-06j -3.96625302e-03-6.18729147e-07j\n",
      "   3.07643046e-03+0.00000000e+00j ...  2.52692686e-21+4.50109522e-21j\n",
      "   5.54982205e-22+9.83883803e-22j -1.61431332e-28-5.14012637e-30j]\n",
      " ...\n",
      " [ 1.12036931e-25+6.96037398e-25j -2.73550446e-21+4.12063653e-21j\n",
      "   2.52692686e-21-4.50109522e-21j ... -8.46953179e-02+0.00000000e+00j\n",
      "  -3.00580954e-02-1.32545004e-05j -4.97501553e-03+2.71944864e-06j]\n",
      " [ 1.87015105e-25+2.59392848e-25j -6.08408461e-22+8.88334383e-22j\n",
      "   5.54982205e-22-9.83883803e-22j ... -3.00580954e-02+1.32545004e-05j\n",
      "  -1.00592039e-01+0.00000000e+00j  3.72818225e-02-2.81267613e-07j]\n",
      " [ 0.00000000e+00+0.00000000e+00j -3.61425642e-30+2.02169746e-30j\n",
      "  -1.61431332e-28+5.14012637e-30j ... -4.97501553e-03-2.71944864e-06j\n",
      "   3.72818225e-02+2.81267613e-07j  1.95452913e-01+0.00000000e+00j]]\n"
     ]
    }
   ],
   "source": [
    "print(L2_redfield)"
   ]
  },
  {
   "cell_type": "code",
   "execution_count": 24,
   "metadata": {},
   "outputs": [
    {
     "name": "stdout",
     "output_type": "stream",
     "text": [
      "[[3.80777093e-04+0.j 0.00000000e+00+0.j 0.00000000e+00+0.j ...\n",
      "  0.00000000e+00+0.j 0.00000000e+00+0.j 0.00000000e+00+0.j]\n",
      " [0.00000000e+00+0.j 1.03175783e-03+0.j 3.29634248e-06+0.j ...\n",
      "  0.00000000e+00+0.j 0.00000000e+00+0.j 0.00000000e+00+0.j]\n",
      " [0.00000000e+00+0.j 3.29634248e-06+0.j 1.02846676e-03+0.j ...\n",
      "  0.00000000e+00+0.j 0.00000000e+00+0.j 0.00000000e+00+0.j]\n",
      " ...\n",
      " [0.00000000e+00+0.j 0.00000000e+00+0.j 0.00000000e+00+0.j ...\n",
      "  5.61523826e-02+0.j 1.79974202e-04+0.j 0.00000000e+00+0.j]\n",
      " [0.00000000e+00+0.j 0.00000000e+00+0.j 0.00000000e+00+0.j ...\n",
      "  1.79974202e-04+0.j 5.63320690e-02+0.j 0.00000000e+00+0.j]\n",
      " [0.00000000e+00+0.j 0.00000000e+00+0.j 0.00000000e+00+0.j ...\n",
      "  0.00000000e+00+0.j 0.00000000e+00+0.j 1.53616443e-01+0.j]]\n"
     ]
    }
   ],
   "source": [
    "## As we can see, all the checks are completely satisfied. Thus we can arrange the values of x (real values) in a diagonal density matrix and save it in a .mat file\n",
    "#We will also pass in L2_redfield operator\n",
    "\n",
    "rho_th_check = np.zeros((number,number),dtype=complex)\n",
    "for i in range(number):\n",
    "    for k in range(number):\n",
    "        rho_th_check[i,k] = rho_th[i,k]\n",
    "\n",
    "print(rho_th_check)\n",
    "\n",
    "data_dict = {\"dm_ness\":rho_comp, \"dm_th\":rho_th_new,\"L2_red\":L2_redfield, \"dm_th_check\":rho_th_check}\n",
    "\n",
    "scipy.io.savemat(F'../matlab/ness_data_NL1 = {NL1}_NL2 = {NL2}_NM = {NM}_6.mat',data_dict)\n"
   ]
  },
  {
   "cell_type": "code",
   "execution_count": null,
   "metadata": {},
   "outputs": [],
   "source": []
  }
 ],
 "metadata": {
  "kernelspec": {
   "display_name": "qiskitenv",
   "language": "python",
   "name": "python3"
  },
  "language_info": {
   "codemirror_mode": {
    "name": "ipython",
    "version": 3
   },
   "file_extension": ".py",
   "mimetype": "text/x-python",
   "name": "python",
   "nbconvert_exporter": "python",
   "pygments_lexer": "ipython3",
   "version": "3.12.4"
  }
 },
 "nbformat": 4,
 "nbformat_minor": 2
}
