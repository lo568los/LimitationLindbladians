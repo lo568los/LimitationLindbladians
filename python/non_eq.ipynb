{
 "cells": [
  {
   "cell_type": "code",
   "execution_count": 1,
   "metadata": {},
   "outputs": [],
   "source": [
    "## Here we will write out the matrix elements for our non-eq setup\n",
    "\n",
    "from qutip import *\n",
    "import numpy as np\n",
    "from scipy import integrate\n",
    "from helper_code_qutip import * \n",
    "import scipy.io"
   ]
  },
  {
   "cell_type": "code",
   "execution_count": 2,
   "metadata": {},
   "outputs": [],
   "source": [
    "## Firstly, we have to define the integral function C and D\n",
    "\n",
    "def integral1(i,k,tb,beta,mu,gamma,eigenergies,limit_value = 700,b=50):\n",
    "    freq=eigenergies[k]-eigenergies[i]\n",
    "    if( np.absolute(freq) >= 1/10**10):\n",
    "        integral = (-1.0j/(2*np.pi))*integrate.quad(func1,0,b,args=(tb,beta,mu,gamma),limit=limit_value,weight='cauchy',wvar=eigenergies[k]-eigenergies[i])[0]\n",
    "    else:\n",
    "        integral = (-1.0j/(2*np.pi))*integrate.quad(func2,0,b,args=(tb,beta,mu,gamma),limit=limit_value)[0]\n",
    "    return integral\n",
    "\n",
    "def integral2(i,k,tb,gamma,eigenergies,limit_value = 700,b=50):\n",
    "    freq=eigenergies[k]-eigenergies[i]\n",
    "    if( np.absolute(freq) >= 1/10**10):\n",
    "        integral = (-1.0j/(2*np.pi))*integrate.quad(spectral_bath,0,b,args=(tb,gamma),limit=limit_value,weight='cauchy',wvar=eigenergies[k]-eigenergies[i])[0]\n",
    "    else:\n",
    "        integral = (-1.0j/(2*np.pi))*integrate.quad(spectral_bath_2,0,b,args=(tb,gamma),limit=limit_value)[0]\n",
    "    return integral\n",
    "\n",
    "def C(i,k,tb,beta,mu,gamma,eigenergies):\n",
    "    val = integral1(i,k,tb,beta,mu,gamma,eigenergies) + 0.5*(func1(eigenergies[k]-eigenergies[i],tb,beta,mu,gamma))\n",
    "\n",
    "    return val\n",
    "\n",
    "def D(i,k,tb,beta,mu,gamma,eigenergies):\n",
    "    val = integral1(i,k,tb,beta,mu,gamma,eigenergies) + integral2(i,k,tb,gamma,eigenergies) + 0.5*(spectral_bath(eigenergies[k]-eigenergies[i],tb,gamma)+func1(eigenergies[k]-eigenergies[i],tb,beta,mu,gamma))\n",
    "    return val"
   ]
  },
  {
   "cell_type": "code",
   "execution_count": 3,
   "metadata": {},
   "outputs": [],
   "source": [
    "NL1 = 2\n",
    "NL2 = 2\n",
    "NM = 2\n",
    "\n",
    "N = NL1 + NL2 + NM\n",
    "dL1 = 2**NL1\n",
    "dL2 = 2**NL2\n",
    "dM = 2**NM\n",
    "d = 2**N\n",
    "dims = [2]*N"
   ]
  },
  {
   "cell_type": "code",
   "execution_count": 4,
   "metadata": {},
   "outputs": [],
   "source": [
    "## Define the Hamiltonian \n",
    "\n",
    "w0list = np.linspace(1,1,N)\n",
    "glist = np.linspace(0.0016,0.0016,N-1)\n",
    "\n",
    "delta = 1\n",
    "\n",
    "H_S = create_hamiltonian(w0list,glist,delta,N)\n",
    "\n",
    "create_sm_list_left = [create_sm(N,i + 1) for i in range(NL1)]\n",
    "create_sm_list_right = [create_sm(N,NM + NL1 + i + 1) for i in range(NL2)]  # Create list of sigma_- operators\n",
    "\n",
    "eigenergies,eigstates=H_S.eigenstates()"
   ]
  },
  {
   "cell_type": "code",
   "execution_count": 5,
   "metadata": {},
   "outputs": [
    {
     "name": "stdout",
     "output_type": "stream",
     "text": [
      "Quantum object: dims=[[2, 2, 2, 2, 2, 2], [2, 2, 2, 2, 2, 2]], shape=(64, 64), type='oper', dtype=Dense, isherm=True\n",
      "Qobj data =\n",
      "[[3.80777093e-04 0.00000000e+00 0.00000000e+00 ... 0.00000000e+00\n",
      "  0.00000000e+00 0.00000000e+00]\n",
      " [0.00000000e+00 1.03175783e-03 3.29634248e-06 ... 0.00000000e+00\n",
      "  0.00000000e+00 0.00000000e+00]\n",
      " [0.00000000e+00 3.29634248e-06 1.02846676e-03 ... 0.00000000e+00\n",
      "  0.00000000e+00 0.00000000e+00]\n",
      " ...\n",
      " [0.00000000e+00 0.00000000e+00 0.00000000e+00 ... 5.61523826e-02\n",
      "  1.79974202e-04 0.00000000e+00]\n",
      " [0.00000000e+00 0.00000000e+00 0.00000000e+00 ... 1.79974202e-04\n",
      "  5.63320690e-02 0.00000000e+00]\n",
      " [0.00000000e+00 0.00000000e+00 0.00000000e+00 ... 0.00000000e+00\n",
      "  0.00000000e+00 1.53616443e-01]]\n"
     ]
    }
   ],
   "source": [
    "## Let us compute the thermal density matrix\n",
    "beta1 = 1  #left baths\n",
    "beta2 = 0.6 #right baths\n",
    "\n",
    "rho_th = (-beta1*H_S).expm()/((-beta1*H_S).expm()).tr() #left thermal density matrix\n",
    "print(rho_th)"
   ]
  },
  {
   "cell_type": "code",
   "execution_count": 6,
   "metadata": {},
   "outputs": [],
   "source": [
    "## Now we set parameters for the  non-eq setup\n",
    "\n",
    "beta_list_left = np.linspace(beta1,beta1,NL1)\n",
    "beta_list_right = np.linspace(beta2,beta2,NL2)\n",
    "\n",
    "mu_list_left = np.linspace(-0.5,-0.5,NL1)\n",
    "mu_list_right = np.linspace(-0.5,-0.5,NL2)\n",
    "\n",
    "gamma_list_left = np.linspace(1,1,NL1)  #coupling strengths to left baths\n",
    "gamma_list_right = np.linspace(1,1,NL2)  #coupling strengths to right baths\n",
    "\n",
    "tb = 0.01"
   ]
  },
  {
   "cell_type": "code",
   "execution_count": 7,
   "metadata": {},
   "outputs": [
    {
     "ename": "KeyboardInterrupt",
     "evalue": "",
     "output_type": "error",
     "traceback": [
      "\u001b[1;31m---------------------------------------------------------------------------\u001b[0m",
      "\u001b[1;31mKeyboardInterrupt\u001b[0m                         Traceback (most recent call last)",
      "Cell \u001b[1;32mIn[7], line 20\u001b[0m\n\u001b[0;32m     17\u001b[0m     op1 \u001b[38;5;241m=\u001b[39m commutator(proj_k\u001b[38;5;241m*\u001b[39mcreate_sm_list_left[l]\u001b[38;5;241m*\u001b[39mproj_y,create_sm_list_left[l]\u001b[38;5;241m.\u001b[39mdag())\u001b[38;5;241m*\u001b[39mC(k,y,tb,beta_list_left[l],mu_list_left[l],gamma_list_left[l],eigenergies)\n\u001b[0;32m     18\u001b[0m     \u001b[38;5;28msum\u001b[39m \u001b[38;5;241m+\u001b[39m\u001b[38;5;241m=\u001b[39m vi\u001b[38;5;241m.\u001b[39mdag()\u001b[38;5;241m*\u001b[39m(op1 \u001b[38;5;241m+\u001b[39m op1\u001b[38;5;241m.\u001b[39mdag())\u001b[38;5;241m*\u001b[39mvi\n\u001b[1;32m---> 20\u001b[0m     op2 \u001b[38;5;241m=\u001b[39m \u001b[43mcommutator\u001b[49m\u001b[43m(\u001b[49m\u001b[43mcreate_sm_list_left\u001b[49m\u001b[43m[\u001b[49m\u001b[43ml\u001b[49m\u001b[43m]\u001b[49m\u001b[38;5;241;43m.\u001b[39;49m\u001b[43mdag\u001b[49m\u001b[43m(\u001b[49m\u001b[43m)\u001b[49m\u001b[43m,\u001b[49m\u001b[43mproj_y\u001b[49m\u001b[38;5;241;43m*\u001b[39;49m\u001b[43mcreate_sm_list_left\u001b[49m\u001b[43m[\u001b[49m\u001b[43ml\u001b[49m\u001b[43m]\u001b[49m\u001b[38;5;241;43m*\u001b[39;49m\u001b[43mproj_k\u001b[49m\u001b[43m)\u001b[49m\u001b[38;5;241;43m*\u001b[39;49m\u001b[43mD\u001b[49m\u001b[43m(\u001b[49m\u001b[43my\u001b[49m\u001b[43m,\u001b[49m\u001b[43mk\u001b[49m\u001b[43m,\u001b[49m\u001b[43mtb\u001b[49m\u001b[43m,\u001b[49m\u001b[43mbeta_list_left\u001b[49m\u001b[43m[\u001b[49m\u001b[43ml\u001b[49m\u001b[43m]\u001b[49m\u001b[43m,\u001b[49m\u001b[43mmu_list_left\u001b[49m\u001b[43m[\u001b[49m\u001b[43ml\u001b[49m\u001b[43m]\u001b[49m\u001b[43m,\u001b[49m\u001b[43mgamma_list_left\u001b[49m\u001b[43m[\u001b[49m\u001b[43ml\u001b[49m\u001b[43m]\u001b[49m\u001b[43m,\u001b[49m\u001b[43meigenergies\u001b[49m\u001b[43m)\u001b[49m\n\u001b[0;32m     21\u001b[0m     \u001b[38;5;28msum\u001b[39m \u001b[38;5;241m+\u001b[39m\u001b[38;5;241m=\u001b[39m vi\u001b[38;5;241m.\u001b[39mdag()\u001b[38;5;241m*\u001b[39m(op2 \u001b[38;5;241m+\u001b[39m op2\u001b[38;5;241m.\u001b[39mdag())\u001b[38;5;241m*\u001b[39mvi\n\u001b[0;32m     23\u001b[0m \u001b[38;5;28;01mfor\u001b[39;00m l \u001b[38;5;129;01min\u001b[39;00m \u001b[38;5;28mrange\u001b[39m(NL2):\n",
      "File \u001b[1;32md:\\Anaconda\\envs\\qiskitenv\\Lib\\site-packages\\qutip\\core\\qobj.py:440\u001b[0m, in \u001b[0;36mQobj.__mul__\u001b[1;34m(self, other)\u001b[0m\n\u001b[0;32m    436\u001b[0m \u001b[38;5;66;03m# We send other to mul instead of complex(other) to be more flexible.\u001b[39;00m\n\u001b[0;32m    437\u001b[0m \u001b[38;5;66;03m# The dispatcher can then decide how to handle other and return\u001b[39;00m\n\u001b[0;32m    438\u001b[0m \u001b[38;5;66;03m# TypeError if it does not know what to do with the type of other.\u001b[39;00m\n\u001b[0;32m    439\u001b[0m \u001b[38;5;28;01mtry\u001b[39;00m:\n\u001b[1;32m--> 440\u001b[0m     out \u001b[38;5;241m=\u001b[39m \u001b[43m_data\u001b[49m\u001b[38;5;241;43m.\u001b[39;49m\u001b[43mmul\u001b[49m\u001b[43m(\u001b[49m\u001b[38;5;28;43mself\u001b[39;49m\u001b[38;5;241;43m.\u001b[39;49m\u001b[43m_data\u001b[49m\u001b[43m,\u001b[49m\u001b[43m \u001b[49m\u001b[43mother\u001b[49m\u001b[43m)\u001b[49m\n\u001b[0;32m    441\u001b[0m \u001b[38;5;28;01mexcept\u001b[39;00m \u001b[38;5;167;01mTypeError\u001b[39;00m:\n\u001b[0;32m    442\u001b[0m     \u001b[38;5;28;01mreturn\u001b[39;00m \u001b[38;5;28mNotImplemented\u001b[39m\n",
      "\u001b[1;31mKeyboardInterrupt\u001b[0m: "
     ]
    }
   ],
   "source": [
    "number = len(eigenergies)\n",
    "\n",
    "## Now we will write out the matrix elements\n",
    "\n",
    "A = np.zeros((number,number),dtype=complex)\n",
    "\n",
    "for i in range(number):\n",
    "    for k in range(number):\n",
    "        sum = 0\n",
    "        vi = eigstates[i]\n",
    "        vk = eigstates[k]\n",
    "        proj_i = vi*vi.dag()\n",
    "        proj_k = vk*vk.dag()\n",
    "        for y in range(number):\n",
    "            for l in range(NL1):\n",
    "                proj_y = eigstates[y]*eigstates[y].dag()\n",
    "                op1 = commutator(proj_k*create_sm_list_left[l]*proj_y,create_sm_list_left[l].dag())*C(k,y,tb,beta_list_left[l],mu_list_left[l],gamma_list_left[l],eigenergies)\n",
    "                sum += vi.dag()*(op1 + op1.dag())*vi\n",
    "\n",
    "                op2 = commutator(create_sm_list_left[l].dag(),proj_y*create_sm_list_left[l]*proj_k)*D(y,k,tb,beta_list_left[l],mu_list_left[l],gamma_list_left[l],eigenergies)\n",
    "                sum += vi.dag()*(op2 + op2.dag())*vi\n",
    "\n",
    "            for l in range(NL2):\n",
    "                proj_y = eigstates[y]*eigstates[y].dag()\n",
    "                op1 = commutator(proj_k*create_sm_list_right[l]*proj_y,create_sm_list_right[l].dag())*C(k,y,tb,beta_list_right[l],mu_list_right[l],gamma_list_right[l],eigenergies)\n",
    "                sum += vi.dag()*(op1 + op1.dag())*vi\n",
    "\n",
    "                op2 = commutator(create_sm_list_right[l].dag(),proj_y*create_sm_list_right[l]*proj_k)*D(y,k,tb,beta_list_right[l],mu_list_right[l],gamma_list_right[l],eigenergies)\n",
    "                sum += vi.dag()*(op2 + op2.dag())*vi\n",
    "\n",
    "        A[i,k] = sum\n"
   ]
  },
  {
   "cell_type": "code",
   "execution_count": 8,
   "metadata": {},
   "outputs": [
    {
     "name": "stdout",
     "output_type": "stream",
     "text": [
      "64\n"
     ]
    }
   ],
   "source": [
    "print(number)  #should be 2^N"
   ]
  },
  {
   "cell_type": "code",
   "execution_count": 9,
   "metadata": {},
   "outputs": [
    {
     "name": "stdout",
     "output_type": "stream",
     "text": [
      "[(0.1536164432357538+0j), (0.0565123312923138+0j), (0.056463896272977196+0j), (0.05633178086692868+0j), (0.05615180727947185+0j), (0.055972408687012254+0j), (0.055841443273902135+0j), (0.020789724855111803+0j), (0.020771906607265127+0j), (0.020751657685019565+0j), (0.02072330406551786+0j), (0.020710947145894693+0j), (0.020674601227246823+0j), (0.02065709548273864+0j), (0.020629746935722008+0j), (0.02059109842879765+0j), (0.020560107729941855+0j), (0.02054291894580991+0j), (0.020509188788367938+0j), (0.02049063479151697+0j), (0.020437296949901474+0j), (0.020361504768194885+0j), (0.007648112361806578+0j), (0.007641557394746083+0j), (0.007634108232546067+0j), (0.007625380146612352+0j), (0.007623677518848587+0j), (0.00761913166216302+0j), (0.00760576074592198+0j), (0.007599320742415012+0j), (0.007589259774221686+0j), (0.007582021888507876+0j), (0.0075750417830922415+0j), (0.007563640942115659+0j), (0.007557317541814783+0j), (0.007550840392263523+0j), (0.00754490891034441+0j), (0.007538083276351376+0j), (0.0075298371520072065+0j), (0.007518461380984575+0j), (0.007490578995533195+0j), (0.00746704974225478+0j), (0.002813583301677803+0j), (0.002811171864058692+0j), (0.0028084314704313546+0j), (0.002804594225305308+0j), (0.0028029218980881745+0j), (0.002798003012893471+0j), (0.0027956338680021862+0j), (0.0027919326446455795+0j), (0.0027867021380143012+0j), (0.00278250800300695+0j), (0.0027801817540379615+0j), (0.0027756168736269376+0j), (0.0027731058632079393+0j), (0.002765887371305677+0j), (0.0027556300149272966+0j), (0.0010350594527105319+0j), (0.001034172334386794+0j), (0.0010317525563179712+0j), (0.0010284562250806025+0j), (0.0010251704252439648+0j), (0.0010227717100305261+0j), (0.00038077709304236955+0j)]\n"
     ]
    }
   ],
   "source": [
    "rho_th_new = np.zeros((number,number),dtype=complex)\n",
    "\n",
    "for i in range(number):\n",
    "    for k in range(number):\n",
    "        vi = eigstates[i]\n",
    "        vk = eigstates[k]\n",
    "\n",
    "        rho_th_new[i,k] = vi.dag()*rho_th*vk\n",
    "\n",
    "#print(rho_th_new)\n",
    "\n",
    "rho_th_diag = [rho_th_new[i,i] for i in range(number)]\n",
    "print(rho_th_diag)\n"
   ]
  },
  {
   "cell_type": "code",
   "execution_count": 10,
   "metadata": {},
   "outputs": [
    {
     "name": "stdout",
     "output_type": "stream",
     "text": [
      "[0.+0.j 0.+0.j 0.+0.j 0.+0.j 0.+0.j 0.+0.j 0.+0.j 0.+0.j 0.+0.j 0.+0.j\n",
      " 0.+0.j 0.+0.j 0.+0.j 0.+0.j 0.+0.j 0.+0.j 0.+0.j 0.+0.j 0.+0.j 0.+0.j\n",
      " 0.+0.j 0.+0.j 0.+0.j 0.+0.j 0.+0.j 0.+0.j 0.+0.j 0.+0.j 0.+0.j 0.+0.j\n",
      " 0.+0.j 0.+0.j 0.+0.j 0.+0.j 0.+0.j 0.+0.j 0.+0.j 0.+0.j 0.+0.j 0.+0.j\n",
      " 0.+0.j 0.+0.j 0.+0.j 0.+0.j 0.+0.j 0.+0.j 0.+0.j 0.+0.j 0.+0.j 0.+0.j\n",
      " 0.+0.j 0.+0.j 0.+0.j 0.+0.j 0.+0.j 0.+0.j 0.+0.j 0.+0.j 0.+0.j 0.+0.j\n",
      " 0.+0.j 0.+0.j 0.+0.j 0.+0.j]\n"
     ]
    }
   ],
   "source": [
    "## Now we use the lin algebra solver to solve the equation Ax = b, where b is all zeroes\n",
    "\n",
    "b = np.zeros((number),dtype=complex)\n",
    "\n",
    "x = np.linalg.solve(A,b)\n",
    "\n",
    "print(x)"
   ]
  },
  {
   "cell_type": "code",
   "execution_count": 11,
   "metadata": {},
   "outputs": [
    {
     "name": "stdout",
     "output_type": "stream",
     "text": [
      "[[ 1.13574613e+000+0.00000000e+00j -8.49605930e-001+0.00000000e+00j\n",
      "  -1.21821923e+000+0.00000000e+00j ...  0.00000000e+000+0.00000000e+00j\n",
      "  -5.78272338e-126+0.00000000e+00j  0.00000000e+000+0.00000000e+00j]\n",
      " [-1.89572707e-001+1.05032085e-19j  1.79634272e+000-3.47469856e-17j\n",
      "   7.98654563e-018+5.54758123e-17j ... -9.15328014e-033-9.24785823e-49j\n",
      "  -5.87261726e-033+9.83285569e-49j -2.54914290e-033-1.20289214e-49j]\n",
      " [-2.71588481e-001-7.45388994e-20j  2.21412015e-017-1.39675733e-17j\n",
      "   2.08294089e+000+8.33753673e-17j ... -1.26222269e-032+1.89375879e-49j\n",
      "  -1.59624176e-033-7.31079584e-50j -1.05660838e-032+1.08253512e-49j]\n",
      " ...\n",
      " [ 0.00000000e+000+0.00000000e+00j  4.09500135e-034-2.67997059e-51j\n",
      "  -1.36610799e-034-2.75883851e-50j ...  4.26903572e+000-4.91956736e-17j\n",
      "  -4.70383093e-017+1.43446739e-17j -1.05493590e+000-1.39645240e-16j]\n",
      " [-1.37969086e-081-5.13942435e-99j -2.74175204e-034+7.61470398e-51j\n",
      "  -1.31682022e-035+8.06325552e-50j ... -4.04473985e-018+4.04119419e-17j\n",
      "   4.71646686e+000+4.36882654e-17j -4.77724338e-001+2.84060969e-17j]\n",
      " [ 0.00000000e+000+0.00000000e+00j -7.85783445e-036+0.00000000e+00j\n",
      "  -3.26167509e-035+0.00000000e+00j ... -2.37658623e-001+0.00000000e+00j\n",
      "  -1.07875354e-001+0.00000000e+00j  5.08066619e+000+0.00000000e+00j]]\n"
     ]
    }
   ],
   "source": [
    "print(A)"
   ]
  },
  {
   "cell_type": "code",
   "execution_count": 12,
   "metadata": {},
   "outputs": [
    {
     "name": "stdout",
     "output_type": "stream",
     "text": [
      "63\n",
      "[[-2.45166743e+00+0.00000000e+00j  7.10328766e-01+1.05018262e-17j\n",
      "   1.16081577e+00+4.22212865e-17j ... -1.47338940e-33-2.27258422e-50j\n",
      "  -7.26750648e-34+5.01400042e-50j -3.22229367e-35+0.00000000e+00j]\n",
      " [ 0.00000000e+00+0.00000000e+00j -2.55745996e+00+0.00000000e+00j\n",
      "  -9.34295971e-03+8.54342675e-17j ... -2.24927461e-32-4.14293119e-48j\n",
      "  -3.16371709e-32+2.28546459e-48j -2.08770243e-33-5.94038004e-49j]\n",
      " [ 0.00000000e+00+0.00000000e+00j  0.00000000e+00+0.00000000e+00j\n",
      "  -2.49585810e+00+0.00000000e+00j ... -4.95831686e-32+1.64233917e-48j\n",
      "  -6.06678882e-32-1.86873995e-48j  1.86651205e-32+4.63808124e-49j]\n",
      " ...\n",
      " [ 0.00000000e+00+0.00000000e+00j  0.00000000e+00+0.00000000e+00j\n",
      "   0.00000000e+00+0.00000000e+00j ... -3.70374477e+00+0.00000000e+00j\n",
      "   1.22831339e+00+8.52989986e-17j  2.47543137e+00-1.76837328e-16j]\n",
      " [ 0.00000000e+00+0.00000000e+00j  0.00000000e+00+0.00000000e+00j\n",
      "   0.00000000e+00+0.00000000e+00j ...  0.00000000e+00+0.00000000e+00j\n",
      "  -2.82590708e+00+0.00000000e+00j  2.82590708e+00-1.60237527e-16j]\n",
      " [ 0.00000000e+00+0.00000000e+00j  0.00000000e+00+0.00000000e+00j\n",
      "   0.00000000e+00+0.00000000e+00j ...  0.00000000e+00+0.00000000e+00j\n",
      "   0.00000000e+00+0.00000000e+00j -8.04157602e-16+0.00000000e+00j]]\n",
      "63\n"
     ]
    }
   ],
   "source": [
    "## Now we can add one more constraint, that the sum of all the elements of x should be 1, which is basically another row in the matrix A consisting of all 1\n",
    "\n",
    "#A = np.vstack([A,np.ones((1,number))])\n",
    "\n",
    "#print(A)\n",
    "\n",
    "print(np.linalg.matrix_rank(A))\n",
    "\n",
    "q,r = np.linalg.qr(A.T)\n",
    "\n",
    "print(r)\n",
    "diag_r = [r[i][i] for i in range(number)]\n",
    "\n",
    "print(np.linalg.matrix_rank(A))\n",
    "\n",
    "\n",
    "\n"
   ]
  },
  {
   "cell_type": "code",
   "execution_count": 13,
   "metadata": {},
   "outputs": [
    {
     "name": "stdout",
     "output_type": "stream",
     "text": [
      "[(-2.451667426237998+0j), (-2.5574599563573286+0j), (-2.495858099431737+0j), (-2.249381061730985+0j), (-2.1646880224904206+0j), (-2.1943571318223394+0j), (-2.3736299242305035+0j), (-2.691577315895321+0j), (-2.666392155080533+0j), (-2.378334061776155+0j), (-2.579916670122432+0j), (-2.481580957218562+0j), (-2.34340529290274+0j), (-2.5630865864462296+0j), (-2.4880766149850246+0j), (-2.584504525581906+0j), (-2.4883483436279086+0j), (-2.6211411530385647+0j), (-2.3823105707693504+0j), (-2.3369756072688066+0j), (-2.37200535606612+0j), (-2.438450247997556+0j), (-2.8063794510117024+0j), (-3.0273226381853227+0j), (-2.987645904220277+0j), (-2.951734755977438+0j), (-2.9115578233530206+0j), (-3.029798091732018+0j), (-2.93940134772522+0j), (-2.999932129886+0j), (-3.020953203834045+0j), (-2.9769084394448466+0j), (-3.004484747461636+0j), (-3.0390126492444747+0j), (-2.9053979300028527+0j), (-3.004961440745749+0j), (-3.017992986470041+0j), (-3.0338780402869934+0j), (-2.9760738668685796+0j), (-3.0229569210144533+0j), (-2.9888490980414737+0j), (-2.9135732030735406+0j), (-2.932196520310069+0j), (-3.374237397768064+0j), (-3.3659366892717237+0j), (-3.328145459951268+0j), (-3.5111248049210957+0j), (-3.4576992692284607+0j), (-3.4528274526988914+0j), (-3.4354105107358195+0j), (-3.440456470531141+0j), (-3.5417525900004354+0j), (-3.223712291836548+0j), (-3.591370171916976+0j), (-3.5329602060341445+0j), (-3.4563820138332644+0j), (-3.2913188423335136+0j), (-3.0119458502883236+0j), (-3.510312997538159+0j), (-3.6380181660504123+0j), (-3.6557488716187123+0j), (-3.7037447668779353+0j), (-2.8259070758920997+0j), (-8.041576016835912e-16+0j)]\n"
     ]
    }
   ],
   "source": [
    "print(diag_r)"
   ]
  },
  {
   "cell_type": "code",
   "execution_count": 14,
   "metadata": {},
   "outputs": [
    {
     "name": "stdout",
     "output_type": "stream",
     "text": [
      "64\n",
      "(64, 64)\n",
      "[[ 1.13574613e+000+0.00000000e+00j -8.49605930e-001+0.00000000e+00j\n",
      "  -1.21821923e+000+0.00000000e+00j ...  0.00000000e+000+0.00000000e+00j\n",
      "  -5.78272338e-126+0.00000000e+00j  0.00000000e+000+0.00000000e+00j]\n",
      " [-1.89572707e-001+1.05032085e-19j  1.79634272e+000-3.47469856e-17j\n",
      "   7.98654563e-018+5.54758123e-17j ... -9.15328014e-033-9.24785823e-49j\n",
      "  -5.87261726e-033+9.83285569e-49j -2.54914290e-033-1.20289214e-49j]\n",
      " [-2.71588481e-001-7.45388994e-20j  2.21412015e-017-1.39675733e-17j\n",
      "   2.08294089e+000+8.33753673e-17j ... -1.26222269e-032+1.89375879e-49j\n",
      "  -1.59624176e-033-7.31079584e-50j -1.05660838e-032+1.08253512e-49j]\n",
      " ...\n",
      " [ 0.00000000e+000+0.00000000e+00j  4.09500135e-034-2.67997059e-51j\n",
      "  -1.36610799e-034-2.75883851e-50j ...  4.26903572e+000-4.91956736e-17j\n",
      "  -4.70383093e-017+1.43446739e-17j -1.05493590e+000-1.39645240e-16j]\n",
      " [-1.37969086e-081-5.13942435e-99j -2.74175204e-034+7.61470398e-51j\n",
      "  -1.31682022e-035+8.06325552e-50j ... -4.04473985e-018+4.04119419e-17j\n",
      "   4.71646686e+000+4.36882654e-17j -4.77724338e-001+2.84060969e-17j]\n",
      " [ 1.00000000e+000+0.00000000e+00j  1.00000000e+000+0.00000000e+00j\n",
      "   1.00000000e+000+0.00000000e+00j ...  1.00000000e+000+0.00000000e+00j\n",
      "   1.00000000e+000+0.00000000e+00j  1.00000000e+000+0.00000000e+00j]]\n"
     ]
    }
   ],
   "source": [
    "## Since last element of r is 0, we can remove the last row of  A and add a row of 1's\n",
    "\n",
    "A_new = A[:-1]\n",
    "A_new = np.vstack([A_new,np.ones((1,number))])\n",
    "\n",
    "print(np.linalg.matrix_rank(A_new))\n",
    "print(A_new.shape)\n",
    "print(A_new)"
   ]
  },
  {
   "cell_type": "code",
   "execution_count": 15,
   "metadata": {},
   "outputs": [
    {
     "name": "stdout",
     "output_type": "stream",
     "text": [
      "(64, 64)\n"
     ]
    }
   ],
   "source": [
    "print(A.shape)"
   ]
  },
  {
   "cell_type": "code",
   "execution_count": 16,
   "metadata": {},
   "outputs": [
    {
     "name": "stdout",
     "output_type": "stream",
     "text": [
      "63\n",
      "(64, 64)\n"
     ]
    }
   ],
   "source": [
    "print(np.linalg.matrix_rank(A))\n",
    "print(A.shape)"
   ]
  },
  {
   "cell_type": "code",
   "execution_count": 17,
   "metadata": {},
   "outputs": [
    {
     "name": "stdout",
     "output_type": "stream",
     "text": [
      "[3.00075127e-01-8.61196434e-18j 6.69558112e-02-4.43431313e-19j\n",
      " 6.68984254e-02-4.19858488e-18j 6.67418950e-02-3.37272604e-18j\n",
      " 6.65286623e-02-3.22045838e-18j 6.63161109e-02+1.36705655e-18j\n",
      " 6.61609430e-02-1.74762581e-18j 1.49398609e-02+1.21578622e-18j\n",
      " 1.49270564e-02+1.49704999e-19j 1.49125051e-02-6.10551957e-20j\n",
      " 1.48921297e-02-1.15025120e-19j 1.48832498e-02-1.94193162e-19j\n",
      " 1.48571310e-02-4.07161129e-19j 1.48445511e-02+2.03709852e-19j\n",
      " 1.48248979e-02+4.39535597e-19j 1.47971244e-02+4.32316354e-19j\n",
      " 1.47748540e-02+6.28530575e-19j 1.47625018e-02-2.91444314e-19j\n",
      " 1.47382627e-02+5.62719781e-19j 1.47249295e-02+4.10969763e-19j\n",
      " 1.46866000e-02-4.75904215e-19j 1.46321344e-02-8.57514210e-19j\n",
      " 3.33353355e-03+4.01771844e-19j 3.33067648e-03+3.57547327e-19j\n",
      " 3.32742966e-03+3.62065489e-19j 3.32362540e-03+3.32402740e-19j\n",
      " 3.32288329e-03+3.06278289e-19j 3.32090192e-03+3.46767557e-19j\n",
      " 3.31507402e-03+7.05919138e-20j 3.31226706e-03+3.22674540e-19j\n",
      " 3.30788185e-03+2.83059435e-19j 3.30472712e-03+1.77190599e-20j\n",
      " 3.30168475e-03+5.17841593e-19j 3.29671553e-03+3.05634406e-19j\n",
      " 3.29395939e-03+1.51411159e-19j 3.29113624e-03+6.17939538e-19j\n",
      " 3.28855092e-03+2.48595288e-19j 3.28557588e-03+3.14028750e-19j\n",
      " 3.28198169e-03+1.40085552e-19j 3.27702341e-03+4.05749570e-19j\n",
      " 3.26487049e-03+7.39831151e-21j 3.25461495e-03+1.82671671e-19j\n",
      " 7.43811875e-04+3.71328955e-19j 7.43174376e-04+4.41694535e-19j\n",
      " 7.42449913e-04+7.21180880e-19j 7.41435481e-04+3.49383896e-19j\n",
      " 7.40993377e-04+3.91003444e-19j 7.39692997e-04+1.64428817e-19j\n",
      " 7.39066679e-04+4.06188930e-19j 7.38088207e-04+3.49940264e-19j\n",
      " 7.36705446e-04+3.93025167e-19j 7.35596665e-04+4.62123132e-19j\n",
      " 7.34981687e-04+2.69804543e-19j 7.33774894e-04+2.71183508e-19j\n",
      " 7.33111072e-04+4.31602823e-19j 7.31202758e-04+2.08466564e-19j\n",
      " 7.28491076e-04+2.63960680e-19j 1.65966863e-04+6.93163689e-19j\n",
      " 1.65824617e-04+1.04522740e-18j 1.65436618e-04+5.23199006e-19j\n",
      " 1.64908067e-04+6.93725104e-19j 1.64381204e-04+8.75023398e-19j\n",
      " 1.63996582e-04+3.78639093e-19j 3.70322127e-05+3.19023056e-18j]\n"
     ]
    }
   ],
   "source": [
    "b[-1] = 1  ## Last element of b is 1\n",
    "\n",
    "x = np.linalg.solve(A_new,b)\n",
    "print(x)"
   ]
  },
  {
   "cell_type": "code",
   "execution_count": 18,
   "metadata": {},
   "outputs": [
    {
     "name": "stdout",
     "output_type": "stream",
     "text": [
      "[-8.32667268e-17+3.85185989e-34j -5.55111512e-17+7.70371978e-33j\n",
      " -5.55111512e-17+1.92592994e-33j  2.77555756e-17-3.08148791e-33j\n",
      "  7.63278329e-17-1.05926147e-33j -1.38777878e-17-7.70371978e-34j\n",
      "  2.08166817e-17-3.85185989e-33j  1.90819582e-17-7.70371978e-34j\n",
      "  2.08166817e-17-9.62964972e-34j  3.46944695e-18+7.70371978e-34j\n",
      " -2.08166817e-17-7.70371978e-34j  6.93889390e-18+4.81482486e-34j\n",
      "  1.73472348e-18-8.66668475e-34j  3.46944695e-18-7.46297853e-34j\n",
      " -1.38777878e-17+3.85185989e-34j -5.20417043e-18-3.85185989e-34j\n",
      "  3.46944695e-18+9.62964972e-35j  1.38777878e-17+0.00000000e+00j\n",
      "  1.73472348e-18-3.12963616e-34j  1.04083409e-17-3.85185989e-34j\n",
      " -2.25514052e-17+1.30000271e-33j -1.73472348e-17-1.44444746e-34j\n",
      "  6.07153217e-18+3.85185989e-34j -6.93889390e-18+4.81482486e-34j\n",
      "  0.00000000e+00-3.85185989e-34j -1.73472348e-18+9.62964972e-35j\n",
      " -1.73472348e-18+0.00000000e+00j  6.93889390e-18+0.00000000e+00j\n",
      " -2.60208521e-18-1.08333559e-34j -8.67361738e-19+2.88889492e-34j\n",
      " -3.46944695e-18-3.85185989e-34j  0.00000000e+00+4.81482486e-35j\n",
      " -4.33680869e-18+3.85185989e-34j -4.33680869e-18+9.62964972e-35j\n",
      " -5.20417043e-18-9.62964972e-35j  3.46944695e-18-7.70371978e-34j\n",
      " -8.67361738e-19-1.92592994e-34j  5.20417043e-18-1.92592994e-34j\n",
      "  3.46944695e-18+2.16667119e-34j  3.46944695e-18+5.77778983e-34j\n",
      "  4.33680869e-18-4.81482486e-35j  2.60208521e-18-3.37037740e-34j\n",
      "  2.16840434e-19+0.00000000e+00j -4.33680869e-19+9.62964972e-35j\n",
      " -8.67361738e-19-1.05926147e-33j  8.67361738e-19+0.00000000e+00j\n",
      "  0.00000000e+00-1.92592994e-34j  1.08420217e-18+9.62964972e-35j\n",
      "  2.16840434e-19+2.88889492e-34j  0.00000000e+00+1.92592994e-34j\n",
      "  4.33680869e-19+1.92592994e-34j -2.16840434e-18-5.77778983e-34j\n",
      "  2.05998413e-18+9.62964972e-35j -8.67361738e-19-4.81482486e-34j\n",
      "  2.16840434e-19+5.77778983e-34j  4.33680869e-19+0.00000000e+00j\n",
      " -4.33680869e-19-1.92592994e-34j  0.00000000e+00+5.29630735e-34j\n",
      " -1.62630326e-19+7.70371978e-34j  0.00000000e+00-2.64815367e-34j\n",
      "  5.42101086e-20-3.85185989e-34j  3.25260652e-19+7.70371978e-34j\n",
      "  0.00000000e+00-7.70371978e-34j  1.00000000e+00+6.16297582e-33j]\n",
      "(1.7839191495533369e-16+1.5338038136897846e-17j)\n"
     ]
    }
   ],
   "source": [
    "##Let us check if this is correct\n",
    "\n",
    "print(np.dot(A_new,x))\n",
    "print(np.dot(A[-1],x))"
   ]
  },
  {
   "cell_type": "code",
   "execution_count": 19,
   "metadata": {},
   "outputs": [
    {
     "name": "stdout",
     "output_type": "stream",
     "text": [
      "[ 0.00000000e+00+0.j -1.03425420e-84+0.j -1.29385200e-81+0.j\n",
      " -6.60377089e-23+0.j -2.02811560e-75+0.j -3.94016465e-21+0.j\n",
      "  4.36262361e-17+0.j  3.93220192e-19+0.j  8.66497715e-18+0.j\n",
      " -4.17622434e-17+0.j -8.15604823e-18+0.j  1.18468672e-17+0.j\n",
      "  8.03666527e-19+0.j  6.35123446e-17+0.j  1.14703171e-16+0.j\n",
      " -7.33868575e-17+0.j  1.55225137e-17+0.j -3.76611699e-17+0.j\n",
      "  5.35043640e-18+0.j -4.91511623e-17+0.j -1.97885547e-17+0.j\n",
      "  2.72396445e-17+0.j -1.95005694e-17+0.j  4.56317247e-17+0.j\n",
      " -3.44748267e-17+0.j -3.34075540e-18+0.j  1.31588542e-16+0.j\n",
      "  3.96918990e-16+0.j  5.67913017e-17+0.j -3.41149140e-16+0.j\n",
      " -2.91107809e-16+0.j  4.08248290e-01+0.j  1.58368328e-17+0.j\n",
      "  0.00000000e+00+0.j  5.55111512e-17+0.j -6.93889390e-17+0.j\n",
      "  2.77555756e-17+0.j  6.93889390e-18+0.j  5.55111512e-17+0.j\n",
      " -4.44089210e-16+0.j  4.16333634e-17+0.j -1.94289029e-16+0.j\n",
      " -4.16333634e-17+0.j  4.66423775e-16+0.j  8.15320034e-17+0.j\n",
      "  7.12134480e-16+0.j -7.20276902e-16+0.j  4.08248290e-01+0.j\n",
      "  1.35525272e-17+0.j  1.38777878e-17+0.j -1.29236899e-16+0.j\n",
      " -8.16820976e-16+0.j  2.77555756e-17+0.j  1.29287287e-15+0.j\n",
      "  5.29128679e-16+0.j  4.08248290e-01+0.j  1.63064007e-16+0.j\n",
      " -2.39157268e-16+0.j  7.77235205e-16+0.j  4.08248290e-01+0.j\n",
      " -4.72195176e-16+0.j  4.08248290e-01+0.j  4.08248290e-01+0.j\n",
      "  0.00000000e+00+0.j]\n",
      "Quantum object: dims=[[2, 2, 2, 2, 2, 2], [1, 1, 1, 1, 1, 1]], shape=(64, 1), type='ket', dtype=Dense\n",
      "Qobj data =\n",
      "[[ 0.00000000e+00]\n",
      " [-1.03425420e-84]\n",
      " [-1.29385200e-81]\n",
      " [-6.60377089e-23]\n",
      " [-2.02811560e-75]\n",
      " [-3.94016465e-21]\n",
      " [ 4.36262361e-17]\n",
      " [ 3.93220192e-19]\n",
      " [ 8.66497715e-18]\n",
      " [-4.17622434e-17]\n",
      " [-8.15604823e-18]\n",
      " [ 1.18468672e-17]\n",
      " [ 8.03666527e-19]\n",
      " [ 6.35123446e-17]\n",
      " [ 1.14703171e-16]\n",
      " [-7.33868575e-17]\n",
      " [ 1.55225137e-17]\n",
      " [-3.76611699e-17]\n",
      " [ 5.35043640e-18]\n",
      " [-4.91511623e-17]\n",
      " [-1.97885547e-17]\n",
      " [ 2.72396445e-17]\n",
      " [-1.95005694e-17]\n",
      " [ 4.56317247e-17]\n",
      " [-3.44748267e-17]\n",
      " [-3.34075540e-18]\n",
      " [ 1.31588542e-16]\n",
      " [ 3.96918990e-16]\n",
      " [ 5.67913017e-17]\n",
      " [-3.41149140e-16]\n",
      " [-2.91107809e-16]\n",
      " [ 4.08248290e-01]\n",
      " [ 1.58368328e-17]\n",
      " [ 0.00000000e+00]\n",
      " [ 5.55111512e-17]\n",
      " [-6.93889390e-17]\n",
      " [ 2.77555756e-17]\n",
      " [ 6.93889390e-18]\n",
      " [ 5.55111512e-17]\n",
      " [-4.44089210e-16]\n",
      " [ 4.16333634e-17]\n",
      " [-1.94289029e-16]\n",
      " [-4.16333634e-17]\n",
      " [ 4.66423775e-16]\n",
      " [ 8.15320034e-17]\n",
      " [ 7.12134480e-16]\n",
      " [-7.20276902e-16]\n",
      " [ 4.08248290e-01]\n",
      " [ 1.35525272e-17]\n",
      " [ 1.38777878e-17]\n",
      " [-1.29236899e-16]\n",
      " [-8.16820976e-16]\n",
      " [ 2.77555756e-17]\n",
      " [ 1.29287287e-15]\n",
      " [ 5.29128679e-16]\n",
      " [ 4.08248290e-01]\n",
      " [ 1.63064007e-16]\n",
      " [-2.39157268e-16]\n",
      " [ 7.77235205e-16]\n",
      " [ 4.08248290e-01]\n",
      " [-4.72195176e-16]\n",
      " [ 4.08248290e-01]\n",
      " [ 4.08248290e-01]\n",
      " [ 0.00000000e+00]]\n"
     ]
    }
   ],
   "source": [
    "#We have to tranfer the basis of the solution rho matrix to computational basis from the eigenbasis\n",
    "\n",
    "x_real = [np.real(x[i]) for i in range(number)]\n",
    "\n",
    "rho = np.diag(x_real)\n",
    "\n",
    "#set U matrix whose columns are the eigenvectors of the Hamiltonian\n",
    "\n",
    "U = np.zeros((number,number),dtype=complex)\n",
    "for i in range(number):\n",
    "    U[:,i] = eigstates[i].full().flatten()\n",
    "\n",
    "check = 1\n",
    "\n",
    "print(U[:,check])\n",
    "print(eigstates[check])"
   ]
  },
  {
   "cell_type": "code",
   "execution_count": 25,
   "metadata": {},
   "outputs": [
    {
     "name": "stdout",
     "output_type": "stream",
     "text": [
      "[[ 3.70322127e-05+0.j  0.00000000e+00+0.j  0.00000000e+00+0.j ...\n",
      "   0.00000000e+00+0.j  0.00000000e+00+0.j  0.00000000e+00+0.j]\n",
      " [ 0.00000000e+00+0.j  8.78239546e-04+0.j  8.45452379e-04+0.j ...\n",
      "   7.99788651e-20+0.j -1.36839818e-20+0.j  0.00000000e+00+0.j]\n",
      " [ 0.00000000e+00+0.j  8.45452379e-04+0.j  1.24948794e-03+0.j ...\n",
      "   2.77546727e-19+0.j -7.17285327e-20+0.j  0.00000000e+00+0.j]\n",
      " ...\n",
      " [ 0.00000000e+00+0.j  7.99788651e-20+0.j  2.77546727e-19+0.j ...\n",
      "   3.98671943e-02+0.j  2.33386809e-02+0.j  0.00000000e+00+0.j]\n",
      " [ 0.00000000e+00+0.j -1.36839818e-20+0.j -7.17285327e-20+0.j ...\n",
      "   2.33386809e-02+0.j  4.05140732e-02+0.j  0.00000000e+00+0.j]\n",
      " [ 0.00000000e+00+0.j  0.00000000e+00+0.j  0.00000000e+00+0.j ...\n",
      "   0.00000000e+00+0.j  0.00000000e+00+0.j  3.00075127e-01+0.j]]\n",
      "(1.0000000000000018+0j)\n"
     ]
    }
   ],
   "source": [
    "rho_comp = np.dot(np.conjugate(U.T),np.dot(rho,U))\n",
    "\n",
    "print(rho_comp)\n",
    "print(np.trace(rho_comp))"
   ]
  },
  {
   "cell_type": "code",
   "execution_count": 21,
   "metadata": {},
   "outputs": [],
   "source": [
    "def L2_red(rho,eigenergies,eigstates,beta_list_left,beta_list_right,mu_list_left,mu_list_right,gamma_list_left,gamma_list_right,tb):\n",
    "    sum = 0\n",
    "    rho = Qobj(rho)\n",
    "    rho.dims = [dims,dims]\n",
    "    for i in range(number):\n",
    "        for k in range(number):\n",
    "            vi = eigstates[i]\n",
    "            vk = eigstates[k]\n",
    "\n",
    "            proj_i = vi*vi.dag()\n",
    "            proj_k = vk*vk.dag()\n",
    "\n",
    "            for l in range(NL1):\n",
    "                op = commutator(rho*proj_i*create_sm_list_left[l]*proj_k,create_sm_list_left[l].dag())*C(i,k,tb,beta_list_left[l],mu_list_left[l],gamma_list_left[l],eigenergies) + commutator(create_sm_list_left[l].dag(),proj_i*create_sm_list_left[l]*proj_k*rho)*D(i,k,tb,beta_list_left[l],mu_list_left[l],gamma_list_left[l],eigenergies)\n",
    "                sum += op\n",
    "                sum += op.dag()\n",
    "\n",
    "            for l in range(NL2):\n",
    "                op = commutator(rho*proj_i*create_sm_list_right[l]*proj_k,create_sm_list_right[l].dag())*C(i,k,tb,beta_list_right[l],mu_list_right[l],gamma_list_right[l],eigenergies) + commutator(create_sm_list_right[l].dag(),proj_i*create_sm_list_right[l]*proj_k*rho)*D(i,k,tb,beta_list_right[l],mu_list_right[l],gamma_list_right[l],eigenergies)\n",
    "                sum += op\n",
    "                sum += op.dag()\n",
    "    data = sum.full()\n",
    "    sum = np.array(data,dtype=complex)\n",
    "    return sum"
   ]
  },
  {
   "cell_type": "code",
   "execution_count": 22,
   "metadata": {},
   "outputs": [],
   "source": [
    "L2_redfield = L2_red(rho_comp,eigenergies,eigstates,beta_list_left,beta_list_right,mu_list_left,mu_list_right,gamma_list_left,gamma_list_right,tb)"
   ]
  },
  {
   "cell_type": "code",
   "execution_count": 23,
   "metadata": {},
   "outputs": [
    {
     "name": "stdout",
     "output_type": "stream",
     "text": [
      "[[-2.61400523e-03+0.00000000e+00j -9.66804988e-04-1.19531035e-07j\n",
      "   2.93275475e-04-6.43389149e-07j ... -4.39988869e-25-6.69888200e-23j\n",
      "  -7.20745962e-26-4.97273622e-22j  0.00000000e+00+0.00000000e+00j]\n",
      " [-9.66804988e-04+1.19531035e-07j  7.90764205e-04+0.00000000e+00j\n",
      "   3.30224216e-03-7.64373041e-07j ...  2.60803136e-19-2.55417756e-19j\n",
      "  -4.14005116e-20+4.81647787e-20j -4.77279084e-30+4.77961183e-26j]\n",
      " [ 2.93275475e-04+6.43389149e-07j  3.30224216e-03+7.64373041e-07j\n",
      "   2.36545737e-03+0.00000000e+00j ...  8.76832506e-19-9.32539784e-19j\n",
      "  -2.22756759e-19+2.47495247e-19j  2.41864155e-28+5.28166807e-26j]\n",
      " ...\n",
      " [-4.39988869e-25+6.69888200e-23j  2.60803136e-19+2.55417756e-19j\n",
      "   8.76832506e-19+9.32539784e-19j ... -7.63787292e-02+0.00000000e+00j\n",
      "   2.81791270e-02+9.55154968e-06j -7.28303109e-03+1.57785785e-06j]\n",
      " [-7.20745962e-26+4.97273622e-22j -4.14005116e-20-4.81647787e-20j\n",
      "  -2.22756759e-19-2.47495247e-19j ...  2.81791270e-02-9.55154968e-06j\n",
      "  -9.30386304e-02+0.00000000e+00j -2.59961677e-03-3.00906021e-06j]\n",
      " [ 0.00000000e+00+0.00000000e+00j -4.77279084e-30-4.77961183e-26j\n",
      "   2.41864155e-28-5.28166807e-26j ... -7.28303109e-03-1.57785785e-06j\n",
      "  -2.59961677e-03+3.00906021e-06j  1.97650946e-01+0.00000000e+00j]]\n"
     ]
    }
   ],
   "source": [
    "print(L2_redfield)"
   ]
  },
  {
   "cell_type": "code",
   "execution_count": 24,
   "metadata": {},
   "outputs": [
    {
     "name": "stdout",
     "output_type": "stream",
     "text": [
      "[[3.80777093e-04+0.j 0.00000000e+00+0.j 0.00000000e+00+0.j ...\n",
      "  0.00000000e+00+0.j 0.00000000e+00+0.j 0.00000000e+00+0.j]\n",
      " [0.00000000e+00+0.j 1.03175783e-03+0.j 3.29634248e-06+0.j ...\n",
      "  0.00000000e+00+0.j 0.00000000e+00+0.j 0.00000000e+00+0.j]\n",
      " [0.00000000e+00+0.j 3.29634248e-06+0.j 1.02846676e-03+0.j ...\n",
      "  0.00000000e+00+0.j 0.00000000e+00+0.j 0.00000000e+00+0.j]\n",
      " ...\n",
      " [0.00000000e+00+0.j 0.00000000e+00+0.j 0.00000000e+00+0.j ...\n",
      "  5.61523826e-02+0.j 1.79974202e-04+0.j 0.00000000e+00+0.j]\n",
      " [0.00000000e+00+0.j 0.00000000e+00+0.j 0.00000000e+00+0.j ...\n",
      "  1.79974202e-04+0.j 5.63320690e-02+0.j 0.00000000e+00+0.j]\n",
      " [0.00000000e+00+0.j 0.00000000e+00+0.j 0.00000000e+00+0.j ...\n",
      "  0.00000000e+00+0.j 0.00000000e+00+0.j 1.53616443e-01+0.j]]\n"
     ]
    }
   ],
   "source": [
    "## As we can see, all the checks are completely satisfied. Thus we can arrange the values of x (real values) in a diagonal density matrix and save it in a .mat file\n",
    "#We will also pass in L2_redfield operator\n",
    "\n",
    "rho_th_check = np.zeros((number,number),dtype=complex)\n",
    "for i in range(number):\n",
    "    for k in range(number):\n",
    "        rho_th_check[i,k] = rho_th[i,k]\n",
    "\n",
    "print(rho_th_check)\n",
    "\n",
    "data_dict = {\"dm_ness\":rho_comp, \"dm_th\":rho_th_new,\"L2_red\":L2_redfield, \"dm_th_check\":rho_th_check}\n",
    "\n",
    "scipy.io.savemat(F'../matlab/ness_data_NL1 = {NL1}_NL2 = {NL2}_NM = {NM}_3.mat',data_dict)\n"
   ]
  },
  {
   "cell_type": "code",
   "execution_count": null,
   "metadata": {},
   "outputs": [],
   "source": []
  }
 ],
 "metadata": {
  "kernelspec": {
   "display_name": "qiskitenv",
   "language": "python",
   "name": "python3"
  },
  "language_info": {
   "codemirror_mode": {
    "name": "ipython",
    "version": 3
   },
   "file_extension": ".py",
   "mimetype": "text/x-python",
   "name": "python",
   "nbconvert_exporter": "python",
   "pygments_lexer": "ipython3",
   "version": "3.12.3"
  }
 },
 "nbformat": 4,
 "nbformat_minor": 2
}
