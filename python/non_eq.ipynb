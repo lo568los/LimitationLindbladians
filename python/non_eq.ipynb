{
 "cells": [
  {
   "cell_type": "code",
   "execution_count": 2,
   "metadata": {},
   "outputs": [],
   "source": [
    "## Here we will write out the matrix elements for our non-eq setup\n",
    "\n",
    "from qutip import *\n",
    "import numpy as np\n",
    "from scipy import integrate\n",
    "from helper_code_qutip import * \n",
    "import scipy.io"
   ]
  },
  {
   "cell_type": "code",
   "execution_count": 3,
   "metadata": {},
   "outputs": [],
   "source": [
    "## Firstly, we have to define the integral function C and D\n",
    "\n",
    "def integral1(i,k,tb,beta,mu,gamma,eigenergies,limit_value = 700,b=50):\n",
    "    freq=eigenergies[k]-eigenergies[i]\n",
    "    if( np.absolute(freq) >= 1/10**10):\n",
    "        integral = (-1.0j/(2*np.pi))*integrate.quad(func1,0,b,args=(tb,beta,mu,gamma),limit=limit_value,weight='cauchy',wvar=eigenergies[k]-eigenergies[i])[0]\n",
    "    else:\n",
    "        integral = (-1.0j/(2*np.pi))*integrate.quad(func2,0,b,args=(tb,beta,mu,gamma),limit=limit_value)[0]\n",
    "    return integral\n",
    "\n",
    "def integral2(i,k,tb,gamma,eigenergies,limit_value = 700,b=50):\n",
    "    freq=eigenergies[k]-eigenergies[i]\n",
    "    if( np.absolute(freq) >= 1/10**10):\n",
    "        integral = (-1.0j/(2*np.pi))*integrate.quad(spectral_bath,0,b,args=(tb,gamma),limit=limit_value,weight='cauchy',wvar=eigenergies[k]-eigenergies[i])[0]\n",
    "    else:\n",
    "        integral = (-1.0j/(2*np.pi))*integrate.quad(spectral_bath_2,0,b,args=(tb,gamma),limit=limit_value)[0]\n",
    "    return integral\n",
    "\n",
    "def C(i,k,tb,beta,mu,gamma,eigenergies):\n",
    "    val = integral1(i,k,tb,beta,mu,gamma,eigenergies) + 0.5*(func1(eigenergies[k]-eigenergies[i],tb,beta,mu,gamma))\n",
    "\n",
    "    return val\n",
    "\n",
    "def D(i,k,tb,beta,mu,gamma,eigenergies):\n",
    "    val = integral1(i,k,tb,beta,mu,gamma,eigenergies) + integral2(i,k,tb,gamma,eigenergies) + 0.5*(spectral_bath(eigenergies[k]-eigenergies[i],tb,gamma)+func1(eigenergies[k]-eigenergies[i],tb,beta,mu,gamma))\n",
    "    return val"
   ]
  },
  {
   "cell_type": "code",
   "execution_count": 4,
   "metadata": {},
   "outputs": [],
   "source": [
    "NL1 = 2\n",
    "NL2 = 2\n",
    "NM = 2\n",
    "\n",
    "N = NL1 + NL2 + NM\n",
    "dL1 = 2**NL1\n",
    "dL2 = 2**NL2\n",
    "dM = 2**NM\n",
    "d = 2**N\n",
    "dims = [2]*N"
   ]
  },
  {
   "cell_type": "code",
   "execution_count": 5,
   "metadata": {},
   "outputs": [],
   "source": [
    "## Define the Hamiltonian \n",
    "\n",
    "w0list = np.linspace(1,1,N)\n",
    "glist = np.linspace(0.0016,0.0016,N-1)\n",
    "\n",
    "delta = 1\n",
    "\n",
    "H_S = create_hamiltonian(w0list,glist,delta,N)\n",
    "\n",
    "create_sm_list_left = [create_sm(N,i + 1) for i in range(NL1)]\n",
    "create_sm_list_right = [create_sm(N,NM + NL1 + i + 1) for i in range(NL2)]  # Create list of sigma_- operators\n",
    "\n",
    "eigenergies,eigstates=H_S.eigenstates()"
   ]
  },
  {
   "cell_type": "code",
   "execution_count": 6,
   "metadata": {},
   "outputs": [
    {
     "name": "stdout",
     "output_type": "stream",
     "text": [
      "Quantum object: dims=[[2, 2, 2, 2, 2, 2], [2, 2, 2, 2, 2, 2]], shape=(64, 64), type='oper', dtype=Dense, isherm=True\n",
      "Qobj data =\n",
      "[[3.80777093e-04 0.00000000e+00 0.00000000e+00 ... 0.00000000e+00\n",
      "  0.00000000e+00 0.00000000e+00]\n",
      " [0.00000000e+00 1.03175783e-03 3.29634248e-06 ... 0.00000000e+00\n",
      "  0.00000000e+00 0.00000000e+00]\n",
      " [0.00000000e+00 3.29634248e-06 1.02846676e-03 ... 0.00000000e+00\n",
      "  0.00000000e+00 0.00000000e+00]\n",
      " ...\n",
      " [0.00000000e+00 0.00000000e+00 0.00000000e+00 ... 5.61523826e-02\n",
      "  1.79974202e-04 0.00000000e+00]\n",
      " [0.00000000e+00 0.00000000e+00 0.00000000e+00 ... 1.79974202e-04\n",
      "  5.63320690e-02 0.00000000e+00]\n",
      " [0.00000000e+00 0.00000000e+00 0.00000000e+00 ... 0.00000000e+00\n",
      "  0.00000000e+00 1.53616443e-01]]\n"
     ]
    }
   ],
   "source": [
    "## Let us compute the thermal density matrix\n",
    "beta1 = 1  #left baths\n",
    "beta2 = 0.5 #right baths\n",
    "\n",
    "rho_th = (-beta1*H_S).expm()/((-beta1*H_S).expm()).tr() #left thermal density matrix\n",
    "print(rho_th)"
   ]
  },
  {
   "cell_type": "code",
   "execution_count": 7,
   "metadata": {},
   "outputs": [],
   "source": [
    "## Now we set parameters for the  non-eq setup\n",
    "\n",
    "beta_list_left = np.linspace(beta1,beta1,NL1)\n",
    "beta_list_right = np.linspace(beta2,beta2,NL2)\n",
    "\n",
    "mu_list_left = np.linspace(-0.5,-0.5,NL1)\n",
    "mu_list_right = np.linspace(-0.5,-0.5,NL2)\n",
    "\n",
    "gamma_list_left = np.linspace(1,1,NL1)  #coupling strengths to left baths\n",
    "gamma_list_right = np.linspace(1,1,NL2)  #coupling strengths to right baths\n",
    "\n",
    "tb = 0.01"
   ]
  },
  {
   "cell_type": "code",
   "execution_count": 8,
   "metadata": {},
   "outputs": [],
   "source": [
    "number = len(eigenergies)\n",
    "\n",
    "## Now we will write out the matrix elements\n",
    "\n",
    "A = np.zeros((number,number),dtype=complex)\n",
    "\n",
    "for i in range(number):\n",
    "    for k in range(number):\n",
    "        sum = 0\n",
    "        vi = eigstates[i]\n",
    "        vk = eigstates[k]\n",
    "        proj_i = vi*vi.dag()\n",
    "        proj_k = vk*vk.dag()\n",
    "        for y in range(number):\n",
    "            for l in range(NL1):\n",
    "                proj_y = eigstates[y]*eigstates[y].dag()\n",
    "                op1 = commutator(proj_k*create_sm_list_left[l]*proj_y,create_sm_list_left[l].dag())*C(k,y,tb,beta_list_left[l],mu_list_left[l],gamma_list_left[l],eigenergies)\n",
    "                sum += vi.dag()*(op1 + op1.dag())*vi\n",
    "\n",
    "                op2 = commutator(create_sm_list_left[l].dag(),proj_y*create_sm_list_left[l]*proj_k)*D(y,k,tb,beta_list_left[l],mu_list_left[l],gamma_list_left[l],eigenergies)\n",
    "                sum += vi.dag()*(op2 + op2.dag())*vi\n",
    "\n",
    "            for l in range(NL2):\n",
    "                proj_y = eigstates[y]*eigstates[y].dag()\n",
    "                op1 = commutator(proj_k*create_sm_list_right[l]*proj_y,create_sm_list_right[l].dag())*C(k,y,tb,beta_list_right[l],mu_list_right[l],gamma_list_right[l],eigenergies)\n",
    "                sum += vi.dag()*(op1 + op1.dag())*vi\n",
    "\n",
    "                op2 = commutator(create_sm_list_right[l].dag(),proj_y*create_sm_list_right[l]*proj_k)*D(y,k,tb,beta_list_right[l],mu_list_right[l],gamma_list_right[l],eigenergies)\n",
    "                sum += vi.dag()*(op2 + op2.dag())*vi\n",
    "\n",
    "        A[i,k] = sum\n"
   ]
  },
  {
   "cell_type": "code",
   "execution_count": 9,
   "metadata": {},
   "outputs": [
    {
     "name": "stdout",
     "output_type": "stream",
     "text": [
      "64\n"
     ]
    }
   ],
   "source": [
    "print(number)  #should be 2^N"
   ]
  },
  {
   "cell_type": "code",
   "execution_count": 10,
   "metadata": {},
   "outputs": [
    {
     "name": "stdout",
     "output_type": "stream",
     "text": [
      "[np.complex128(0.1536164432357538+0j), np.complex128(0.05651233129231378+0j), np.complex128(0.056463896272977196+0j), np.complex128(0.05633178086692867+0j), np.complex128(0.05615180727947186+0j), np.complex128(0.055972408687012254+0j), np.complex128(0.055841443273902114+0j), np.complex128(0.020789724855111807+0j), np.complex128(0.020771906607265127+0j), np.complex128(0.02075165768501958+0j), np.complex128(0.020723304065517863+0j), np.complex128(0.020710947145894693+0j), np.complex128(0.020674601227246826+0j), np.complex128(0.02065709548273863+0j), np.complex128(0.020629746935722004+0j), np.complex128(0.020591098428797645+0j), np.complex128(0.020560107729941855+0j), np.complex128(0.020542918945809906+0j), np.complex128(0.020509188788367952+0j), np.complex128(0.020490634791516974+0j), np.complex128(0.02043729694990147+0j), np.complex128(0.020361504768194885+0j), np.complex128(0.007648112361806576+0j), np.complex128(0.007641557394746085+0j), np.complex128(0.007634108232546068+0j), np.complex128(0.007625380146612352+0j), np.complex128(0.0076236775188485905+0j), np.complex128(0.0076191316621630235+0j), np.complex128(0.007605760745921979+0j), np.complex128(0.007599320742415015+0j), np.complex128(0.007589259774221687+0j), np.complex128(0.007582021888507876+0j), np.complex128(0.0075750417830922415+0j), np.complex128(0.00756364094211566+0j), np.complex128(0.007557317541814786+0j), np.complex128(0.007550840392263526+0j), np.complex128(0.007544908910344406+0j), np.complex128(0.007538083276351376+0j), np.complex128(0.007529837152007211+0j), np.complex128(0.007518461380984577+0j), np.complex128(0.007490578995533195+0j), np.complex128(0.007467049742254786+0j), np.complex128(0.0028135833016778035+0j), np.complex128(0.0028111718640586925+0j), np.complex128(0.0028084314704313546+0j), np.complex128(0.002804594225305308+0j), np.complex128(0.0028029218980881745+0j), np.complex128(0.002798003012893471+0j), np.complex128(0.0027956338680021845+0j), np.complex128(0.00279193264464558+0j), np.complex128(0.0027867021380143004+0j), np.complex128(0.0027825080030069492+0j), np.complex128(0.0027801817540379606+0j), np.complex128(0.0027756168736269384+0j), np.complex128(0.00277310586320794+0j), np.complex128(0.002765887371305677+0j), np.complex128(0.002755630014927296+0j), np.complex128(0.0010350594527105323+0j), np.complex128(0.0010341723343867946+0j), np.complex128(0.001031752556317971+0j), np.complex128(0.0010284562250806025+0j), np.complex128(0.001025170425243965+0j), np.complex128(0.0010227717100305264+0j), np.complex128(0.0003807770930423696+0j)]\n"
     ]
    }
   ],
   "source": [
    "rho_th_new = np.zeros((number,number),dtype=complex)\n",
    "\n",
    "for i in range(number):\n",
    "    for k in range(number):\n",
    "        vi = eigstates[i]\n",
    "        vk = eigstates[k]\n",
    "\n",
    "        rho_th_new[i,k] = vi.dag()*rho_th*vk\n",
    "\n",
    "#print(rho_th_new)\n",
    "\n",
    "rho_th_diag = [rho_th_new[i,i] for i in range(number)]\n",
    "print(rho_th_diag)\n"
   ]
  },
  {
   "cell_type": "code",
   "execution_count": 11,
   "metadata": {},
   "outputs": [
    {
     "name": "stdout",
     "output_type": "stream",
     "text": [
      "[ 0.+0.j  0.+0.j  0.+0.j  0.+0.j  0.+0.j  0.+0.j  0.+0.j  0.+0.j  0.+0.j\n",
      "  0.+0.j  0.+0.j  0.+0.j  0.+0.j  0.+0.j  0.+0.j  0.+0.j  0.+0.j  0.+0.j\n",
      "  0.+0.j  0.+0.j  0.+0.j  0.+0.j  0.+0.j  0.+0.j  0.+0.j  0.+0.j  0.+0.j\n",
      "  0.+0.j  0.+0.j  0.+0.j  0.+0.j  0.+0.j  0.+0.j  0.+0.j  0.+0.j  0.+0.j\n",
      "  0.+0.j  0.+0.j  0.+0.j  0.+0.j  0.+0.j  0.+0.j  0.+0.j  0.+0.j  0.+0.j\n",
      "  0.+0.j  0.+0.j  0.+0.j  0.+0.j  0.+0.j  0.+0.j  0.+0.j  0.+0.j  0.+0.j\n",
      "  0.+0.j  0.+0.j  0.+0.j  0.+0.j  0.+0.j  0.+0.j  0.+0.j  0.+0.j -0.-0.j\n",
      " -0.-0.j]\n"
     ]
    }
   ],
   "source": [
    "## Now we use the lin algebra solver to solve the equation Ax = b, where b is all zeroes\n",
    "\n",
    "b = np.zeros((number),dtype=complex)\n",
    "\n",
    "x = np.linalg.solve(A,b)\n",
    "\n",
    "print(x)"
   ]
  },
  {
   "cell_type": "code",
   "execution_count": 12,
   "metadata": {},
   "outputs": [
    {
     "name": "stdout",
     "output_type": "stream",
     "text": [
      "[[ 2.34082148e+000+0.00000000e+000j -1.05026864e+000+0.00000000e+000j\n",
      "  -1.50581891e+000+0.00000000e+000j ...  0.00000000e+000+0.00000000e+000j\n",
      "  -2.31309218e-125+0.00000000e+000j  0.00000000e+000+0.00000000e+000j]\n",
      " [-3.90235419e-001-6.49843677e-018j  3.00105171e+000+2.61682359e-017j\n",
      "   9.77188114e-019+1.65765390e-017j ... -1.71032420e-034+5.28869931e-051j\n",
      "  -7.75229684e-035-2.26855059e-050j -1.11210758e-065-1.34086745e-081j]\n",
      " [-5.59188164e-001+2.79859686e-018j  3.23565678e-017-1.37151575e-017j\n",
      "   3.28765063e+000+5.10343902e-017j ... -9.79756135e-035+1.15715720e-050j\n",
      "  -4.28643131e-035-1.26575307e-051j  3.81455601e-067+7.72195917e-082j]\n",
      " ...\n",
      " [ 0.00000000e+000+0.00000000e+000j -4.01315383e-036-1.49470652e-054j\n",
      "  -1.13612866e-035+7.38571894e-052j ...  5.47225092e+000-4.67291136e-017j\n",
      "   6.21194047e-018-4.13150151e-017j -1.30529295e+000+7.32920669e-017j]\n",
      " [ 3.48028785e-098+7.47416528e-114j -1.81899287e-036-2.85404455e-054j\n",
      "  -5.07036151e-036-3.38418710e-052j ...  2.80788361e-018-2.45808961e-017j\n",
      "   5.91968446e+000-1.26733070e-017j -5.91230595e-001+3.52365706e-017j]\n",
      " [ 0.00000000e+000+0.00000000e+000j -1.61102351e-068+0.00000000e+000j\n",
      "  -1.94783220e-068+0.00000000e+000j ... -4.88015675e-001+0.00000000e+000j\n",
      "  -2.21381611e-001+0.00000000e+000j  6.28351315e+000+0.00000000e+000j]]\n"
     ]
    }
   ],
   "source": [
    "print(A)"
   ]
  },
  {
   "cell_type": "code",
   "execution_count": 13,
   "metadata": {},
   "outputs": [
    {
     "name": "stdout",
     "output_type": "stream",
     "text": [
      "63\n",
      "[[-3.56192881e+00+0.00000000e+00j  1.14134284e+00+4.18663613e-18j\n",
      "   1.75735297e+00-1.42059621e-17j ... -4.34283045e-34+3.34142653e-51j\n",
      "  -1.96924663e-34+3.08841995e-51j -6.34002230e-66+0.00000000e+00j]\n",
      " [ 0.00000000e+00+0.00000000e+00j -3.69232386e+00+0.00000000e+00j\n",
      "   1.54490042e-01-3.15573685e-17j ... -7.11705698e-32+2.34773060e-48j\n",
      "  -5.42865828e-32+1.51863357e-48j -1.80305111e-34+1.17170177e-50j]\n",
      " [ 0.00000000e+00+0.00000000e+00j  0.00000000e+00+0.00000000e+00j\n",
      "  -3.58374196e+00+0.00000000e+00j ... -6.44349201e-32+1.06343132e-48j\n",
      "  -3.88959613e-32-1.99244231e-48j -1.13743847e-34+2.27617320e-50j]\n",
      " ...\n",
      " [ 0.00000000e+00+0.00000000e+00j  0.00000000e+00+0.00000000e+00j\n",
      "   0.00000000e+00+0.00000000e+00j ... -4.70907726e+00+0.00000000e+00j\n",
      "   1.60082892e+00-1.05909216e-16j  3.10824834e+00+6.79810487e-17j]\n",
      " [ 0.00000000e+00+0.00000000e+00j  0.00000000e+00+0.00000000e+00j\n",
      "   0.00000000e+00+0.00000000e+00j ...  0.00000000e+00+0.00000000e+00j\n",
      "  -3.60859910e+00+0.00000000e+00j  3.60859910e+00+2.71368884e-16j]\n",
      " [ 0.00000000e+00+0.00000000e+00j  0.00000000e+00+0.00000000e+00j\n",
      "   0.00000000e+00+0.00000000e+00j ...  0.00000000e+00+0.00000000e+00j\n",
      "   0.00000000e+00+0.00000000e+00j  3.13035581e-14+0.00000000e+00j]]\n",
      "63\n"
     ]
    }
   ],
   "source": [
    "## Now we can add one more constraint, that the sum of all the elements of x should be 1, which is basically another row in the matrix A consisting of all 1\n",
    "\n",
    "#A = np.vstack([A,np.ones((1,number))])\n",
    "\n",
    "#print(A)\n",
    "\n",
    "print(np.linalg.matrix_rank(A))\n",
    "\n",
    "q,r = np.linalg.qr(A.T)\n",
    "\n",
    "print(r)\n",
    "diag_r = [r[i][i] for i in range(number)]\n",
    "\n",
    "print(np.linalg.matrix_rank(A))\n",
    "\n",
    "\n",
    "\n"
   ]
  },
  {
   "cell_type": "code",
   "execution_count": 14,
   "metadata": {},
   "outputs": [
    {
     "name": "stdout",
     "output_type": "stream",
     "text": [
      "[np.complex128(-3.5619288054017195+0j), np.complex128(-3.6923238583970783+0j), np.complex128(-3.5837419571612577+0j), np.complex128(-3.4034180287810964+0j), np.complex128(-3.318265983767635+0j), np.complex128(-3.3082773251782305+0j), np.complex128(-3.5430341982550164+0j), np.complex128(-3.785748132109142+0j), np.complex128(-3.808823396943822+0j), np.complex128(-3.4143230975283783+0j), np.complex128(-3.75085938464644+0j), np.complex128(-3.6220128369686786+0j), np.complex128(-3.5463522969718144+0j), np.complex128(-3.730223259819991+0j), np.complex128(-3.6444572504048978+0j), np.complex128(-3.733745524905896+0j), np.complex128(-3.6307586846325806+0j), np.complex128(-3.7904384582863004+0j), np.complex128(-3.5342978743750315+0j), np.complex128(-3.4623054892102822+0j), np.complex128(-3.5413620179075+0j), np.complex128(-3.557334188734087+0j), np.complex128(-3.851709981470998+0j), np.complex128(-4.174031963764874+0j), np.complex128(-4.131725564147+0j), np.complex128(-4.082200446673106+0j), np.complex128(-4.040203772777875+0j), np.complex128(-4.177753038149211+0j), np.complex128(-4.09507377831087+0j), np.complex128(-4.143757530120151+0j), np.complex128(-4.18046129769319+0j), np.complex128(-4.115347443472605+0j), np.complex128(-4.144262860855598+0j), np.complex128(-4.200157309171838+0j), np.complex128(-4.02717431852571+0j), np.complex128(-4.149888701534265+0j), np.complex128(-4.182479934275657+0j), np.complex128(-4.1901778211506+0j), np.complex128(-4.128117768910043+0j), np.complex128(-4.180309178696227+0j), np.complex128(-4.131044590029209+0j), np.complex128(-4.021323195658819+0j), np.complex128(-3.9334584864290396+0j), np.complex128(-4.495537130178306+0j), np.complex128(-4.525108496089632+0j), np.complex128(-4.4020717623024375+0j), np.complex128(-4.661223499202551+0j), np.complex128(-4.507127174368787+0j), np.complex128(-4.559813420998657+0j), np.complex128(-4.547160773633034+0j), np.complex128(-4.556911423607595+0j), np.complex128(-4.689470461155043+0j), np.complex128(-4.281667875448267+0j), np.complex128(-4.7063977959563195+0j), np.complex128(-4.675769038320889+0j), np.complex128(-4.538471741013486+0j), np.complex128(-4.401141899671365+0j), np.complex128(-3.9634969377525695+0j), np.complex128(-4.5223351985290074+0j), np.complex128(-4.616069593424664+0j), np.complex128(-4.645097249949784+0j), np.complex128(-4.709077255428823+0j), np.complex128(-3.60859910460418+0j), np.complex128(3.130355811545778e-14+0j)]\n"
     ]
    }
   ],
   "source": [
    "print(diag_r)"
   ]
  },
  {
   "cell_type": "code",
   "execution_count": 15,
   "metadata": {},
   "outputs": [
    {
     "name": "stdout",
     "output_type": "stream",
     "text": [
      "64\n",
      "(64, 64)\n",
      "[[ 2.34082148e+000+0.00000000e+000j -1.05026864e+000+0.00000000e+000j\n",
      "  -1.50581891e+000+0.00000000e+000j ...  0.00000000e+000+0.00000000e+000j\n",
      "  -2.31309218e-125+0.00000000e+000j  0.00000000e+000+0.00000000e+000j]\n",
      " [-3.90235419e-001-6.49843677e-018j  3.00105171e+000+2.61682359e-017j\n",
      "   9.77188114e-019+1.65765390e-017j ... -1.71032420e-034+5.28869931e-051j\n",
      "  -7.75229684e-035-2.26855059e-050j -1.11210758e-065-1.34086745e-081j]\n",
      " [-5.59188164e-001+2.79859686e-018j  3.23565678e-017-1.37151575e-017j\n",
      "   3.28765063e+000+5.10343902e-017j ... -9.79756135e-035+1.15715720e-050j\n",
      "  -4.28643131e-035-1.26575307e-051j  3.81455601e-067+7.72195917e-082j]\n",
      " ...\n",
      " [ 0.00000000e+000+0.00000000e+000j -4.01315383e-036-1.49470652e-054j\n",
      "  -1.13612866e-035+7.38571894e-052j ...  5.47225092e+000-4.67291136e-017j\n",
      "   6.21194047e-018-4.13150151e-017j -1.30529295e+000+7.32920669e-017j]\n",
      " [ 3.48028785e-098+7.47416528e-114j -1.81899287e-036-2.85404455e-054j\n",
      "  -5.07036151e-036-3.38418710e-052j ...  2.80788361e-018-2.45808961e-017j\n",
      "   5.91968446e+000-1.26733070e-017j -5.91230595e-001+3.52365706e-017j]\n",
      " [ 1.00000000e+000+0.00000000e+000j  1.00000000e+000+0.00000000e+000j\n",
      "   1.00000000e+000+0.00000000e+000j ...  1.00000000e+000+0.00000000e+000j\n",
      "   1.00000000e+000+0.00000000e+000j  1.00000000e+000+0.00000000e+000j]]\n"
     ]
    }
   ],
   "source": [
    "## Since last element of r is 0, we can remove the last row of  A and add a row of 1's\n",
    "\n",
    "A_new = A[:-1]\n",
    "A_new = np.vstack([A_new,np.ones((1,number))])\n",
    "\n",
    "print(np.linalg.matrix_rank(A_new))\n",
    "print(A_new.shape)\n",
    "print(A_new)"
   ]
  },
  {
   "cell_type": "code",
   "execution_count": 16,
   "metadata": {},
   "outputs": [
    {
     "name": "stdout",
     "output_type": "stream",
     "text": [
      "(64, 64)\n"
     ]
    }
   ],
   "source": [
    "print(A.shape)"
   ]
  },
  {
   "cell_type": "code",
   "execution_count": 17,
   "metadata": {},
   "outputs": [
    {
     "name": "stdout",
     "output_type": "stream",
     "text": [
      "63\n",
      "(64, 64)\n"
     ]
    }
   ],
   "source": [
    "print(np.linalg.matrix_rank(A))\n",
    "print(A.shape)"
   ]
  },
  {
   "cell_type": "code",
   "execution_count": 18,
   "metadata": {},
   "outputs": [
    {
     "name": "stdout",
     "output_type": "stream",
     "text": [
      "[0.15083039+2.87379435e-18j 0.05604221-1.28877942e-18j\n",
      " 0.05601111+2.65646298e-18j 0.05592624+2.13414591e-18j\n",
      " 0.05581052-8.37289613e-20j 0.05569504+2.57615703e-18j\n",
      " 0.05561065-1.52899617e-18j 0.02082292-1.54340385e-19j\n",
      " 0.02081137-1.34975904e-20j 0.02079823+1.12194878e-18j\n",
      " 0.02077983+2.52428368e-19j 0.02077181-3.42086761e-19j\n",
      " 0.02074821-5.68784778e-19j 0.02073683+6.48437641e-19j\n",
      " 0.02071906+3.48379069e-19j 0.02069392-8.86336812e-19j\n",
      " 0.02067376-2.85891187e-19j 0.02066257-3.04879766e-20j\n",
      " 0.0206406 -5.22273452e-19j 0.02062851+5.05557824e-19j\n",
      " 0.02059374+6.49889909e-19j 0.02054427-5.09842458e-19j\n",
      " 0.00773692-1.34499840e-19j 0.00773263-9.72608610e-20j\n",
      " 0.00772775+1.03451869e-19j 0.00772203-1.31004114e-19j\n",
      " 0.00772091+1.60845599e-19j 0.00771793-4.23736379e-20j\n",
      " 0.00770916+1.01120645e-19j 0.00770493+2.06693728e-19j\n",
      " 0.00769833-4.82454558e-19j 0.00769357-3.82841123e-20j\n",
      " 0.00768899+1.47340431e-19j 0.0076815 -3.97286643e-19j\n",
      " 0.00767734+1.40687346e-19j 0.00767308-2.45033084e-19j\n",
      " 0.00766918-5.31702015e-19j 0.00766468-1.58569062e-20j\n",
      " 0.00765926-4.44789333e-19j 0.00765176-5.55187217e-20j\n",
      " 0.00763338-1.55111401e-19j 0.00761785-2.63409868e-19j\n",
      " 0.00287471-6.73749979e-21j 0.00287312-1.69369285e-19j\n",
      " 0.00287131-3.13718825e-19j 0.00286876-8.81572327e-20j\n",
      " 0.00286766-2.91361211e-19j 0.0028644 -1.00489929e-19j\n",
      " 0.00286283-1.55444739e-19j 0.00286037-1.18740953e-19j\n",
      " 0.0028569 -1.29003232e-19j 0.00285412-1.39621622e-19j\n",
      " 0.00285258-4.93689408e-21j 0.00284954-9.07864133e-20j\n",
      " 0.00284787-2.49168835e-19j 0.00284307-2.03562668e-19j\n",
      " 0.00283624-2.03720660e-19j 0.00106812-2.84788101e-19j\n",
      " 0.00106753-4.42977649e-19j 0.00106591-2.49860282e-19j\n",
      " 0.00106371-2.93998946e-19j 0.00106151-3.53694375e-19j\n",
      " 0.0010599 -1.79353511e-19j 0.00039687-1.30821757e-18j]\n"
     ]
    }
   ],
   "source": [
    "b[-1] = 1  ## Last element of b is 1\n",
    "\n",
    "x = np.linalg.solve(A_new,b)\n",
    "print(x)"
   ]
  },
  {
   "cell_type": "code",
   "execution_count": 19,
   "metadata": {},
   "outputs": [
    {
     "name": "stdout",
     "output_type": "stream",
     "text": [
      "[ 2.77555756e-17+1.54074396e-33j -5.63747680e-36+0.00000000e+00j\n",
      " -5.55111512e-17-2.31111593e-33j  1.38777878e-17+0.00000000e+00j\n",
      "  1.38777878e-17-7.70371978e-34j -1.68072642e-34+0.00000000e+00j\n",
      "  7.64203105e-35+7.70371978e-34j  6.93889390e-18-1.44444746e-34j\n",
      "  6.93889390e-18+7.70371978e-34j -3.60822483e-16+7.70371978e-34j\n",
      "  7.54978670e-35+7.22223729e-34j -1.38777878e-17+2.31111593e-33j\n",
      "  6.93889390e-18-1.54074396e-33j  1.38777878e-17-1.15555797e-33j\n",
      "  1.38777878e-17+1.82963345e-33j -3.46944695e-17+0.00000000e+00j\n",
      "  6.93889390e-17-1.92592994e-33j  7.93814167e-35-2.88889492e-34j\n",
      "  4.51028104e-17-2.88889492e-34j  5.55111512e-17+3.85185989e-34j\n",
      "  6.93889390e-18+7.70371978e-34j  4.85722573e-17+5.77778983e-34j\n",
      "  2.25397970e-35+1.10740972e-33j  1.21430643e-17-1.92592994e-34j\n",
      " -3.03104108e-35+0.00000000e+00j -1.04083409e-17+2.88889492e-34j\n",
      "  1.38777878e-17-3.85185989e-34j -6.93889390e-18+2.40741243e-34j\n",
      " -1.73472348e-18-3.85185989e-34j  8.67361738e-18+0.00000000e+00j\n",
      " -3.46944695e-18+3.85185989e-34j -1.73472348e-17+5.77778983e-34j\n",
      "  1.04083409e-17+3.85185989e-34j  1.90819582e-17+0.00000000e+00j\n",
      "  6.93889390e-18+5.77778983e-34j  8.19556532e-36-2.40741243e-34j\n",
      "  6.93889390e-18-7.70371978e-34j  6.93889390e-18-1.44444746e-34j\n",
      " -5.20417043e-18+1.73333695e-33j -6.93889390e-18+1.92592994e-34j\n",
      "  1.38777878e-17-2.40741243e-34j -1.04083409e-17+5.77778983e-34j\n",
      "  5.20417043e-18+1.92592994e-34j -6.33506471e-36-9.62964972e-35j\n",
      "  5.20417043e-18-1.92592994e-34j -1.73472348e-18-1.68518870e-34j\n",
      "  2.60208521e-18+1.92592994e-34j  3.46944695e-18-6.01853108e-35j\n",
      "  1.73472348e-18+7.22223729e-35j -1.73472348e-18+2.88889492e-34j\n",
      " -3.46944695e-18+4.81482486e-35j -1.73472348e-18-2.88889492e-34j\n",
      "  4.77048956e-18+9.62964972e-35j  1.73472348e-18-3.37037740e-34j\n",
      "  3.50800907e-35-9.62964972e-35j  2.60208521e-18-9.62964972e-35j\n",
      " -1.73472348e-18-2.88889492e-34j -1.73472348e-18+2.88889492e-34j\n",
      " -2.60208521e-18+1.02315028e-34j  9.41847543e-35-1.08333559e-34j\n",
      "  1.30104261e-18-4.69445424e-34j -1.73472348e-18+6.37964294e-34j\n",
      " -1.73472348e-18+6.81598644e-34j  1.00000000e+00-2.88889492e-33j]\n",
      "(-7.181755190543981e-15-7.461120805607403e-18j)\n"
     ]
    }
   ],
   "source": [
    "##Let us check if this is correct\n",
    "\n",
    "print(np.dot(A_new,x))\n",
    "print(np.dot(A[-1],x))"
   ]
  },
  {
   "cell_type": "code",
   "execution_count": 20,
   "metadata": {},
   "outputs": [
    {
     "name": "stdout",
     "output_type": "stream",
     "text": [
      "[ 0.00000000e+00+0.j -5.75754671e-84-0.j -7.20269094e-81-0.j\n",
      "  9.97707536e-26+0.j  0.00000000e+00+0.j -9.97750790e-26+0.j\n",
      " -4.68927578e-18+0.j  7.44164867e-30+0.j  6.93446618e-39+0.j\n",
      "  4.68927558e-18+0.j  2.00350271e-22+0.j  1.62645715e-28+0.j\n",
      " -2.76943731e-22+0.j  1.69750167e-16+0.j -1.69218316e-16+0.j\n",
      " -3.47076771e-19+0.j  2.16692542e-36+0.j  4.68887508e-18+0.j\n",
      "  3.61763387e-22+0.j -1.69750168e-16+0.j -2.45816511e-22+0.j\n",
      "  1.45324297e-17+0.j  7.48129298e-17+0.j  1.36203428e-17+0.j\n",
      "  4.68870187e-18+0.j -1.46662039e-16+0.j  3.47937418e-17+0.j\n",
      "  3.84671301e-17+0.j -1.38911464e-16+0.j -1.73142083e-16+0.j\n",
      " -1.15759670e-16+0.j -4.08248290e-01+0.j  1.00408924e-33+0.j\n",
      " -3.30354054e-22+0.j -4.68835463e-18+0.j  1.40153459e-16+0.j\n",
      " -4.68902623e-18+0.j  5.20265203e-17+0.j  2.06555726e-17+0.j\n",
      " -1.76440484e-16+0.j -1.19785237e-22+0.j -4.79489729e-17+0.j\n",
      "  6.25997904e-17+0.j  1.98793246e-16+0.j  2.21017512e-16+0.j\n",
      "  2.22708655e-16+0.j -2.92101574e-16+0.j -4.08248290e-01+0.j\n",
      "  2.00903823e-22+0.j -9.98162034e-17+0.j -7.80852981e-17+0.j\n",
      " -1.86292454e-16+0.j  7.87131195e-17+0.j  4.08717327e-16+0.j\n",
      "  2.05223992e-16+0.j -4.08248290e-01+0.j -1.38836100e-16+0.j\n",
      " -2.14405024e-16+0.j  2.32456940e-16+0.j -4.08248290e-01+0.j\n",
      " -9.84840341e-17+0.j -4.08248290e-01+0.j -4.08248290e-01+0.j\n",
      "  0.00000000e+00+0.j]\n",
      "Quantum object: dims=[[2, 2, 2, 2, 2, 2], [1, 1, 1, 1, 1, 1]], shape=(64, 1), type='ket', dtype=Dense\n",
      "Qobj data =\n",
      "[[ 0.00000000e+00]\n",
      " [-5.75754671e-84]\n",
      " [-7.20269094e-81]\n",
      " [ 9.97707536e-26]\n",
      " [ 0.00000000e+00]\n",
      " [-9.97750790e-26]\n",
      " [-4.68927578e-18]\n",
      " [ 7.44164867e-30]\n",
      " [ 6.93446618e-39]\n",
      " [ 4.68927558e-18]\n",
      " [ 2.00350271e-22]\n",
      " [ 1.62645715e-28]\n",
      " [-2.76943731e-22]\n",
      " [ 1.69750167e-16]\n",
      " [-1.69218316e-16]\n",
      " [-3.47076771e-19]\n",
      " [ 2.16692542e-36]\n",
      " [ 4.68887508e-18]\n",
      " [ 3.61763387e-22]\n",
      " [-1.69750168e-16]\n",
      " [-2.45816511e-22]\n",
      " [ 1.45324297e-17]\n",
      " [ 7.48129298e-17]\n",
      " [ 1.36203428e-17]\n",
      " [ 4.68870187e-18]\n",
      " [-1.46662039e-16]\n",
      " [ 3.47937418e-17]\n",
      " [ 3.84671301e-17]\n",
      " [-1.38911464e-16]\n",
      " [-1.73142083e-16]\n",
      " [-1.15759670e-16]\n",
      " [-4.08248290e-01]\n",
      " [ 1.00408924e-33]\n",
      " [-3.30354054e-22]\n",
      " [-4.68835463e-18]\n",
      " [ 1.40153459e-16]\n",
      " [-4.68902623e-18]\n",
      " [ 5.20265203e-17]\n",
      " [ 2.06555726e-17]\n",
      " [-1.76440484e-16]\n",
      " [-1.19785237e-22]\n",
      " [-4.79489729e-17]\n",
      " [ 6.25997904e-17]\n",
      " [ 1.98793246e-16]\n",
      " [ 2.21017512e-16]\n",
      " [ 2.22708655e-16]\n",
      " [-2.92101574e-16]\n",
      " [-4.08248290e-01]\n",
      " [ 2.00903823e-22]\n",
      " [-9.98162034e-17]\n",
      " [-7.80852981e-17]\n",
      " [-1.86292454e-16]\n",
      " [ 7.87131195e-17]\n",
      " [ 4.08717327e-16]\n",
      " [ 2.05223992e-16]\n",
      " [-4.08248290e-01]\n",
      " [-1.38836100e-16]\n",
      " [-2.14405024e-16]\n",
      " [ 2.32456940e-16]\n",
      " [-4.08248290e-01]\n",
      " [-9.84840341e-17]\n",
      " [-4.08248290e-01]\n",
      " [-4.08248290e-01]\n",
      " [ 0.00000000e+00]]\n"
     ]
    }
   ],
   "source": [
    "#We have to tranfer the basis of the solution rho matrix to computational basis from the eigenbasis\n",
    "\n",
    "x_real = [np.real(x[i]) for i in range(number)]\n",
    "\n",
    "rho = np.diag(x_real)\n",
    "\n",
    "#set U matrix whose columns are the eigenvectors of the Hamiltonian\n",
    "\n",
    "U = np.zeros((number,number),dtype=complex)\n",
    "for i in range(number):\n",
    "    U[:,i] = eigstates[i].full().flatten()\n",
    "\n",
    "check = 1\n",
    "\n",
    "print(U[:,check])\n",
    "print(eigstates[check])"
   ]
  },
  {
   "cell_type": "code",
   "execution_count": 21,
   "metadata": {},
   "outputs": [
    {
     "name": "stdout",
     "output_type": "stream",
     "text": [
      "[[ 3.96869452e-04+0.j  0.00000000e+00+0.j  0.00000000e+00+0.j ...\n",
      "   0.00000000e+00+0.j  0.00000000e+00+0.j  0.00000000e+00+0.j]\n",
      " [ 0.00000000e+00+0.j  2.76472669e-03+0.j -1.91919191e-03+0.j ...\n",
      "   1.23382369e-35+0.j  6.14854028e-36+0.j  0.00000000e+00+0.j]\n",
      " [ 0.00000000e+00+0.j -1.91919191e-03+0.j  3.46396810e-03+0.j ...\n",
      "   2.19576880e-35+0.j  1.09670227e-35+0.j  0.00000000e+00+0.j]\n",
      " ...\n",
      " [ 0.00000000e+00+0.j  1.23382369e-35+0.j  2.19576880e-35+0.j ...\n",
      "   3.72577112e-02+0.j -1.60493125e-02+0.j  0.00000000e+00+0.j]\n",
      " [ 0.00000000e+00+0.j  6.14854028e-36+0.j  1.09670227e-35+0.j ...\n",
      "  -1.60493125e-02+0.j  3.80336012e-02+0.j  0.00000000e+00+0.j]\n",
      " [ 0.00000000e+00+0.j  0.00000000e+00+0.j  0.00000000e+00+0.j ...\n",
      "   0.00000000e+00+0.j  0.00000000e+00+0.j  1.50830392e-01+0.j]]\n"
     ]
    }
   ],
   "source": [
    "rho_comp = np.dot(np.conjugate(U.T),np.dot(rho,U))\n",
    "\n",
    "print(rho_comp)"
   ]
  },
  {
   "cell_type": "code",
   "execution_count": 22,
   "metadata": {},
   "outputs": [],
   "source": [
    "def L2_red(rho,eigenergies,eigstates,beta_list_left,beta_list_right,mu_list_left,mu_list_right,gamma_list_left,gamma_list_right,tb):\n",
    "    sum = 0\n",
    "    rho = Qobj(rho)\n",
    "    rho.dims = [dims,dims]\n",
    "    for i in range(number):\n",
    "        for k in range(number):\n",
    "            vi = eigstates[i]\n",
    "            vk = eigstates[k]\n",
    "\n",
    "            proj_i = vi*vi.dag()\n",
    "            proj_k = vk*vk.dag()\n",
    "\n",
    "            for l in range(NL1):\n",
    "                op = commutator(rho*proj_i*create_sm_list_left[l]*proj_k,create_sm_list_left[l].dag())*C(i,k,tb,beta_list_left[l],mu_list_left[l],gamma_list_left[l],eigenergies) + commutator(create_sm_list_left[l].dag(),proj_i*create_sm_list_left[l]*proj_k*rho)*D(i,k,tb,beta_list_left[l],mu_list_left[l],gamma_list_left[l],eigenergies)\n",
    "                sum += op\n",
    "                sum += op.dag()\n",
    "\n",
    "            for l in range(NL2):\n",
    "                op = commutator(rho*proj_i*create_sm_list_right[l]*proj_k,create_sm_list_right[l].dag())*C(i,k,tb,beta_list_right[l],mu_list_right[l],gamma_list_right[l],eigenergies) + commutator(create_sm_list_right[l].dag(),proj_i*create_sm_list_right[l]*proj_k*rho)*D(i,k,tb,beta_list_right[l],mu_list_right[l],gamma_list_right[l],eigenergies)\n",
    "                sum += op\n",
    "                sum += op.dag()\n",
    "    data = sum.full()\n",
    "    sum = np.array(data,dtype=complex)\n",
    "    return sum"
   ]
  },
  {
   "cell_type": "code",
   "execution_count": 23,
   "metadata": {},
   "outputs": [],
   "source": [
    "L2_redfield = L2_red(rho_comp,eigenergies,eigstates,beta_list_left,beta_list_right,mu_list_left,mu_list_right,gamma_list_left,gamma_list_right,tb)"
   ]
  },
  {
   "cell_type": "code",
   "execution_count": 24,
   "metadata": {},
   "outputs": [
    {
     "name": "stdout",
     "output_type": "stream",
     "text": [
      "[[-7.27012285e-03+0.00000000e+00j  7.07643897e-05-6.37136687e-06j\n",
      "   1.13721041e-03+5.65359500e-06j ...  1.00668787e-25+3.18963083e-25j\n",
      "   1.76352681e-25-2.22026578e-26j  0.00000000e+00+0.00000000e+00j]\n",
      " [ 7.07643897e-05+6.37136687e-06j  6.77671500e-03+0.00000000e+00j\n",
      "  -9.81197069e-03+2.63936399e-06j ... -7.86704063e-21-7.99715198e-21j\n",
      "  -1.72726837e-21-1.74064237e-21j -3.10789640e-30-1.73843348e-30j]\n",
      " [ 1.13721041e-03-5.65359500e-06j -9.81197069e-03-2.63936399e-06j\n",
      "   1.04669989e-02+0.00000000e+00j ...  6.19233363e-21+6.91143607e-21j\n",
      "   1.35153944e-21+1.51667208e-21j -1.38814447e-28-4.41998271e-30j]\n",
      " ...\n",
      " [ 1.00668787e-25-3.18963083e-25j -7.86704063e-21+7.99715198e-21j\n",
      "   6.19233363e-21-6.91143607e-21j ... -1.13099905e-01+0.00000000e+00j\n",
      "  -3.52215065e-02-2.97185715e-05j -9.97623448e-04+1.12085895e-05j]\n",
      " [ 1.76352681e-25+2.22026578e-26j -1.72726837e-21+1.74064237e-21j\n",
      "   1.35153944e-21-1.51667208e-21j ... -3.52215065e-02+2.97185715e-05j\n",
      "  -1.22543918e-01+0.00000000e+00j  3.19535617e-02-2.23044074e-07j]\n",
      " [ 0.00000000e+00+0.00000000e+00j -3.10789640e-30+1.73843348e-30j\n",
      "  -1.38814447e-28+4.41998271e-30j ... -9.97623448e-04-1.12085895e-05j\n",
      "   3.19535617e-02+2.23044074e-07j  1.64771601e-01+0.00000000e+00j]]\n"
     ]
    }
   ],
   "source": [
    "print(L2_redfield)"
   ]
  },
  {
   "cell_type": "code",
   "execution_count": 25,
   "metadata": {},
   "outputs": [
    {
     "name": "stdout",
     "output_type": "stream",
     "text": [
      "[[3.80777093e-04+0.j 0.00000000e+00+0.j 0.00000000e+00+0.j ...\n",
      "  0.00000000e+00+0.j 0.00000000e+00+0.j 0.00000000e+00+0.j]\n",
      " [0.00000000e+00+0.j 1.03175783e-03+0.j 3.29634248e-06+0.j ...\n",
      "  0.00000000e+00+0.j 0.00000000e+00+0.j 0.00000000e+00+0.j]\n",
      " [0.00000000e+00+0.j 3.29634248e-06+0.j 1.02846676e-03+0.j ...\n",
      "  0.00000000e+00+0.j 0.00000000e+00+0.j 0.00000000e+00+0.j]\n",
      " ...\n",
      " [0.00000000e+00+0.j 0.00000000e+00+0.j 0.00000000e+00+0.j ...\n",
      "  5.61523826e-02+0.j 1.79974202e-04+0.j 0.00000000e+00+0.j]\n",
      " [0.00000000e+00+0.j 0.00000000e+00+0.j 0.00000000e+00+0.j ...\n",
      "  1.79974202e-04+0.j 5.63320690e-02+0.j 0.00000000e+00+0.j]\n",
      " [0.00000000e+00+0.j 0.00000000e+00+0.j 0.00000000e+00+0.j ...\n",
      "  0.00000000e+00+0.j 0.00000000e+00+0.j 1.53616443e-01+0.j]]\n"
     ]
    }
   ],
   "source": [
    "## As we can see, all the checks are completely satisfied. Thus we can arrange the values of x (real values) in a diagonal density matrix and save it in a .mat file\n",
    "#We will also pass in L2_redfield operator\n",
    "\n",
    "rho_th_check = np.zeros((number,number),dtype=complex)\n",
    "for i in range(number):\n",
    "    for k in range(number):\n",
    "        rho_th_check[i,k] = rho_th[i,k]\n",
    "\n",
    "print(rho_th_check)\n",
    "\n",
    "data_dict = {\"dm_ness\":rho_comp, \"dm_th\":rho_th_new,\"L2_red\":L2_redfield, \"dm_th_check\":rho_th_check}\n",
    "\n",
    "scipy.io.savemat(F'../matlab/ness_data_NL1 = {NL1}_NL2 = {NL2}_NM = {NM}_1.mat',data_dict)\n"
   ]
  },
  {
   "cell_type": "code",
   "execution_count": null,
   "metadata": {},
   "outputs": [],
   "source": []
  }
 ],
 "metadata": {
  "kernelspec": {
   "display_name": "qiskitenv",
   "language": "python",
   "name": "python3"
  },
  "language_info": {
   "codemirror_mode": {
    "name": "ipython",
    "version": 3
   },
   "file_extension": ".py",
   "mimetype": "text/x-python",
   "name": "python",
   "nbconvert_exporter": "python",
   "pygments_lexer": "ipython3",
   "version": "3.12.4"
  }
 },
 "nbformat": 4,
 "nbformat_minor": 2
}
