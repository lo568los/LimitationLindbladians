{
 "cells": [
  {
   "cell_type": "code",
   "execution_count": 1,
   "metadata": {},
   "outputs": [],
   "source": [
    "## Here we will write out the matrix elements for our non-eq setup\n",
    "\n",
    "from qutip import *\n",
    "import numpy as np\n",
    "from scipy import integrate\n",
    "from helper_code_qutip import * \n",
    "import scipy.io"
   ]
  },
  {
   "cell_type": "code",
   "execution_count": 2,
   "metadata": {},
   "outputs": [],
   "source": [
    "## Firstly, we have to define the integral function C and D\n",
    "\n",
    "def integral1(i,k,tb,beta,mu,gamma,eigenergies,limit_value = 700,b=50):\n",
    "    freq=eigenergies[k]-eigenergies[i]\n",
    "    if( np.absolute(freq) >= 1/10**10):\n",
    "        integral = (-1.0j/(2*np.pi))*integrate.quad(func1,0,b,args=(tb,beta,mu,gamma),limit=limit_value,weight='cauchy',wvar=eigenergies[k]-eigenergies[i])[0]\n",
    "    else:\n",
    "        integral = (-1.0j/(2*np.pi))*integrate.quad(func2,0,b,args=(tb,beta,mu,gamma),limit=limit_value)[0]\n",
    "    return integral\n",
    "\n",
    "def integral2(i,k,tb,gamma,eigenergies,limit_value = 700,b=50):\n",
    "    freq=eigenergies[k]-eigenergies[i]\n",
    "    if( np.absolute(freq) >= 1/10**10):\n",
    "        integral = (-1.0j/(2*np.pi))*integrate.quad(spectral_bath,0,b,args=(tb,gamma),limit=limit_value,weight='cauchy',wvar=eigenergies[k]-eigenergies[i])[0]\n",
    "    else:\n",
    "        integral = (-1.0j/(2*np.pi))*integrate.quad(spectral_bath_2,0,b,args=(tb,gamma),limit=limit_value)[0]\n",
    "    return integral\n",
    "\n",
    "def C(i,k,tb,beta,mu,gamma,eigenergies):\n",
    "    val = integral1(i,k,tb,beta,mu,gamma,eigenergies) + 0.5*(func1(eigenergies[k]-eigenergies[i],tb,beta,mu,gamma))\n",
    "\n",
    "    return val\n",
    "\n",
    "def D(i,k,tb,beta,mu,gamma,eigenergies):\n",
    "    val = integral1(i,k,tb,beta,mu,gamma,eigenergies) + integral2(i,k,tb,gamma,eigenergies) + 0.5*(spectral_bath(eigenergies[k]-eigenergies[i],tb,gamma)+func1(eigenergies[k]-eigenergies[i],tb,beta,mu,gamma))\n",
    "    return val"
   ]
  },
  {
   "cell_type": "code",
   "execution_count": 3,
   "metadata": {},
   "outputs": [],
   "source": [
    "NL1 = 2\n",
    "NL2 = 2\n",
    "NM = 2\n",
    "\n",
    "N = NL1 + NL2 + NM\n",
    "dL1 = 2**NL1\n",
    "dL2 = 2**NL2\n",
    "dM = 2**NM\n",
    "d = 2**N\n",
    "dims = [2]*N"
   ]
  },
  {
   "cell_type": "code",
   "execution_count": 4,
   "metadata": {},
   "outputs": [],
   "source": [
    "## Define the Hamiltonian \n",
    "\n",
    "w0list = np.linspace(1,1,N)\n",
    "glist = np.linspace(0.0016,0.0016,N-1)\n",
    "\n",
    "delta = 1\n",
    "\n",
    "H_S = create_hamiltonian(w0list,glist,delta,N)\n",
    "\n",
    "create_sm_list_left = [create_sm(N,i + 1) for i in range(NL1)]\n",
    "create_sm_list_right = [create_sm(N,NM + NL1 + i + 1) for i in range(NL2)]  # Create list of sigma_- operators\n",
    "\n",
    "eigenergies,eigstates=H_S.eigenstates()"
   ]
  },
  {
   "cell_type": "code",
   "execution_count": 5,
   "metadata": {},
   "outputs": [
    {
     "name": "stdout",
     "output_type": "stream",
     "text": [
      "Quantum object: dims=[[2, 2, 2, 2, 2, 2], [2, 2, 2, 2, 2, 2]], shape=(64, 64), type='oper', dtype=Dense, isherm=True\n",
      "Qobj data =\n",
      "[[3.80777093e-04 0.00000000e+00 0.00000000e+00 ... 0.00000000e+00\n",
      "  0.00000000e+00 0.00000000e+00]\n",
      " [0.00000000e+00 1.03175783e-03 3.29634248e-06 ... 0.00000000e+00\n",
      "  0.00000000e+00 0.00000000e+00]\n",
      " [0.00000000e+00 3.29634248e-06 1.02846676e-03 ... 0.00000000e+00\n",
      "  0.00000000e+00 0.00000000e+00]\n",
      " ...\n",
      " [0.00000000e+00 0.00000000e+00 0.00000000e+00 ... 5.61523826e-02\n",
      "  1.79974202e-04 0.00000000e+00]\n",
      " [0.00000000e+00 0.00000000e+00 0.00000000e+00 ... 1.79974202e-04\n",
      "  5.63320690e-02 0.00000000e+00]\n",
      " [0.00000000e+00 0.00000000e+00 0.00000000e+00 ... 0.00000000e+00\n",
      "  0.00000000e+00 1.53616443e-01]]\n"
     ]
    }
   ],
   "source": [
    "## Let us compute the thermal density matrix\n",
    "beta1 = 1  #left baths\n",
    "beta2 = 0.7 #right baths\n",
    "\n",
    "rho_th = (-beta1*H_S).expm()/((-beta1*H_S).expm()).tr() #left thermal density matrix\n",
    "print(rho_th)"
   ]
  },
  {
   "cell_type": "code",
   "execution_count": 6,
   "metadata": {},
   "outputs": [],
   "source": [
    "## Now we set parameters for the  non-eq setup\n",
    "\n",
    "beta_list_left = np.linspace(beta1,beta1,NL1)\n",
    "beta_list_right = np.linspace(beta2,beta2,NL2)\n",
    "\n",
    "mu_list_left = np.linspace(-0.5,-0.5,NL1)\n",
    "mu_list_right = np.linspace(-0.5,-0.5,NL2)\n",
    "\n",
    "gamma_list_left = np.linspace(1,1,NL1)  #coupling strengths to left baths\n",
    "gamma_list_right = np.linspace(1,1,NL2)  #coupling strengths to right baths\n",
    "\n",
    "tb = 0.01"
   ]
  },
  {
   "cell_type": "code",
   "execution_count": 8,
   "metadata": {},
   "outputs": [],
   "source": [
    "number = len(eigenergies)\n",
    "\n",
    "## Now we will write out the matrix elements\n",
    "\n",
    "A = np.zeros((number,number),dtype=complex)\n",
    "\n",
    "for i in range(number):\n",
    "    for k in range(number):\n",
    "        sum = 0\n",
    "        vi = eigstates[i]\n",
    "        vk = eigstates[k]\n",
    "        proj_i = vi*vi.dag()\n",
    "        proj_k = vk*vk.dag()\n",
    "        for y in range(number):\n",
    "            for l in range(NL1):\n",
    "                proj_y = eigstates[y]*eigstates[y].dag()\n",
    "                op1 = commutator(proj_k*create_sm_list_left[l]*proj_y,create_sm_list_left[l].dag())*C(k,y,tb,beta_list_left[l],mu_list_left[l],gamma_list_left[l],eigenergies)\n",
    "                sum += vi.dag()*(op1 + op1.dag())*vi\n",
    "\n",
    "                op2 = commutator(create_sm_list_left[l].dag(),proj_y*create_sm_list_left[l]*proj_k)*D(y,k,tb,beta_list_left[l],mu_list_left[l],gamma_list_left[l],eigenergies)\n",
    "                sum += vi.dag()*(op2 + op2.dag())*vi\n",
    "\n",
    "            for l in range(NL2):\n",
    "                proj_y = eigstates[y]*eigstates[y].dag()\n",
    "                op1 = commutator(proj_k*create_sm_list_right[l]*proj_y,create_sm_list_right[l].dag())*C(k,y,tb,beta_list_right[l],mu_list_right[l],gamma_list_right[l],eigenergies)\n",
    "                sum += vi.dag()*(op1 + op1.dag())*vi\n",
    "\n",
    "                op2 = commutator(create_sm_list_right[l].dag(),proj_y*create_sm_list_right[l]*proj_k)*D(y,k,tb,beta_list_right[l],mu_list_right[l],gamma_list_right[l],eigenergies)\n",
    "                sum += vi.dag()*(op2 + op2.dag())*vi\n",
    "\n",
    "        A[i,k] = sum\n"
   ]
  },
  {
   "cell_type": "code",
   "execution_count": 9,
   "metadata": {},
   "outputs": [
    {
     "name": "stdout",
     "output_type": "stream",
     "text": [
      "64\n"
     ]
    }
   ],
   "source": [
    "print(number)  #should be 2^N"
   ]
  },
  {
   "cell_type": "code",
   "execution_count": 10,
   "metadata": {},
   "outputs": [
    {
     "name": "stdout",
     "output_type": "stream",
     "text": [
      "[np.complex128(0.1536164432357538+0j), np.complex128(0.05651233129231378+0j), np.complex128(0.056463896272977196+0j), np.complex128(0.05633178086692867+0j), np.complex128(0.05615180727947186+0j), np.complex128(0.055972408687012254+0j), np.complex128(0.055841443273902114+0j), np.complex128(0.020789724855111807+0j), np.complex128(0.020771906607265127+0j), np.complex128(0.02075165768501958+0j), np.complex128(0.020723304065517863+0j), np.complex128(0.020710947145894693+0j), np.complex128(0.020674601227246826+0j), np.complex128(0.02065709548273863+0j), np.complex128(0.020629746935722004+0j), np.complex128(0.020591098428797645+0j), np.complex128(0.020560107729941855+0j), np.complex128(0.020542918945809906+0j), np.complex128(0.020509188788367952+0j), np.complex128(0.020490634791516974+0j), np.complex128(0.02043729694990147+0j), np.complex128(0.020361504768194885+0j), np.complex128(0.007648112361806576+0j), np.complex128(0.007641557394746085+0j), np.complex128(0.007634108232546068+0j), np.complex128(0.007625380146612352+0j), np.complex128(0.0076236775188485905+0j), np.complex128(0.0076191316621630235+0j), np.complex128(0.007605760745921979+0j), np.complex128(0.007599320742415015+0j), np.complex128(0.007589259774221687+0j), np.complex128(0.007582021888507876+0j), np.complex128(0.0075750417830922415+0j), np.complex128(0.00756364094211566+0j), np.complex128(0.007557317541814786+0j), np.complex128(0.007550840392263526+0j), np.complex128(0.007544908910344406+0j), np.complex128(0.007538083276351376+0j), np.complex128(0.007529837152007211+0j), np.complex128(0.007518461380984577+0j), np.complex128(0.007490578995533195+0j), np.complex128(0.007467049742254786+0j), np.complex128(0.0028135833016778035+0j), np.complex128(0.0028111718640586925+0j), np.complex128(0.0028084314704313546+0j), np.complex128(0.002804594225305308+0j), np.complex128(0.0028029218980881745+0j), np.complex128(0.002798003012893471+0j), np.complex128(0.0027956338680021845+0j), np.complex128(0.00279193264464558+0j), np.complex128(0.0027867021380143004+0j), np.complex128(0.0027825080030069492+0j), np.complex128(0.0027801817540379606+0j), np.complex128(0.0027756168736269384+0j), np.complex128(0.00277310586320794+0j), np.complex128(0.002765887371305677+0j), np.complex128(0.002755630014927296+0j), np.complex128(0.0010350594527105323+0j), np.complex128(0.0010341723343867946+0j), np.complex128(0.001031752556317971+0j), np.complex128(0.0010284562250806025+0j), np.complex128(0.001025170425243965+0j), np.complex128(0.0010227717100305264+0j), np.complex128(0.0003807770930423696+0j)]\n"
     ]
    }
   ],
   "source": [
    "rho_th_new = np.zeros((number,number),dtype=complex)\n",
    "\n",
    "for i in range(number):\n",
    "    for k in range(number):\n",
    "        vi = eigstates[i]\n",
    "        vk = eigstates[k]\n",
    "\n",
    "        rho_th_new[i,k] = vi.dag()*rho_th*vk\n",
    "\n",
    "#print(rho_th_new)\n",
    "\n",
    "rho_th_diag = [rho_th_new[i,i] for i in range(number)]\n",
    "print(rho_th_diag)\n"
   ]
  },
  {
   "cell_type": "code",
   "execution_count": 11,
   "metadata": {},
   "outputs": [
    {
     "name": "stdout",
     "output_type": "stream",
     "text": [
      "[ 0.+0.j  0.+0.j  0.+0.j  0.+0.j  0.+0.j  0.+0.j  0.+0.j  0.+0.j  0.+0.j\n",
      "  0.+0.j  0.+0.j  0.+0.j  0.+0.j  0.+0.j  0.+0.j  0.+0.j  0.+0.j  0.+0.j\n",
      "  0.+0.j  0.+0.j  0.+0.j  0.+0.j  0.+0.j  0.+0.j  0.+0.j  0.+0.j  0.+0.j\n",
      "  0.+0.j  0.+0.j  0.+0.j  0.+0.j  0.+0.j  0.+0.j  0.+0.j  0.+0.j  0.+0.j\n",
      "  0.+0.j  0.+0.j  0.+0.j  0.+0.j  0.+0.j  0.+0.j  0.+0.j  0.+0.j  0.+0.j\n",
      "  0.+0.j  0.+0.j  0.+0.j  0.+0.j  0.+0.j  0.+0.j  0.+0.j  0.+0.j  0.+0.j\n",
      "  0.+0.j  0.+0.j  0.+0.j  0.+0.j  0.+0.j  0.+0.j  0.+0.j  0.+0.j -0.-0.j\n",
      " -0.-0.j]\n"
     ]
    }
   ],
   "source": [
    "## Now we use the lin algebra solver to solve the equation Ax = b, where b is all zeroes\n",
    "\n",
    "b = np.zeros((number),dtype=complex)\n",
    "\n",
    "x = np.linalg.solve(A,b)\n",
    "\n",
    "print(x)"
   ]
  },
  {
   "cell_type": "code",
   "execution_count": 12,
   "metadata": {},
   "outputs": [
    {
     "name": "stdout",
     "output_type": "stream",
     "text": [
      "[[ 1.92425554e+000+0.00000000e+000j -9.80919814e-001+0.00000000e+000j\n",
      "  -1.40642080e+000+0.00000000e+000j ...  0.00000000e+000+0.00000000e+000j\n",
      "  -2.31309218e-125+0.00000000e+000j  0.00000000e+000+0.00000000e+000j]\n",
      " [-3.20886592e-001-2.32425841e-018j  2.58464343e+000-1.37032990e-017j\n",
      "  -7.66662026e-018-1.56452070e-017j ... -1.62714285e-034+2.27222091e-051j\n",
      "  -7.37598925e-035-4.38532762e-050j -1.11210758e-065-1.34086745e-081j]\n",
      " [-4.59790050e-001+3.44911816e-018j -2.28905994e-017+4.35036122e-017j\n",
      "   2.87124211e+000+8.39366538e-017j ... -1.00009272e-034+6.40869241e-051j\n",
      "  -4.37843403e-035-3.14414905e-051j  3.81455601e-067+7.72195917e-082j]\n",
      " ...\n",
      " [ 0.00000000e+000+0.00000000e+000j -2.58743655e-036-3.40883825e-053j\n",
      "  -7.33319434e-036-4.64053096e-052j ...  5.05648233e+000+3.75676053e-017j\n",
      "  -5.44872851e-019-3.12954818e-017j -1.21880827e+000+1.17093835e-017j]\n",
      " [ 3.48028785e-098+7.47416528e-114j -1.17253583e-036-5.58733678e-053j\n",
      "  -3.26881888e-036+1.44290672e-052j ...  4.50348276e-017-5.08456938e-017j\n",
      "   5.50391510e+000-6.82539149e-018j -5.52024623e-001-8.67361738e-018j]\n",
      " [ 0.00000000e+000+0.00000000e+000j -1.61102351e-068+0.00000000e+000j\n",
      "  -1.94783220e-068+0.00000000e+000j ... -4.01530990e-001+0.00000000e+000j\n",
      "  -1.82175639e-001+0.00000000e+000j  5.86790282e+000+0.00000000e+000j]]\n"
     ]
    }
   ],
   "source": [
    "print(A)"
   ]
  },
  {
   "cell_type": "code",
   "execution_count": 13,
   "metadata": {},
   "outputs": [
    {
     "name": "stdout",
     "output_type": "stream",
     "text": [
      "63\n",
      "[[-3.16095290e+00+0.00000000e+00j  9.97419404e-01-6.20543172e-18j\n",
      "   1.55741902e+00+4.24506949e-17j ... -4.00256467e-34-1.83106206e-51j\n",
      "  -1.81476300e-34+5.55579689e-51j -7.14272386e-66+0.00000000e+00j]\n",
      " [ 0.00000000e+00+0.00000000e+00j -3.29069855e+00+0.00000000e+00j\n",
      "   1.04537166e-01-7.46298954e-17j ... -6.20556067e-32-1.89224223e-49j\n",
      "  -4.78933860e-32+7.82713468e-49j -1.58296096e-34+1.11743076e-50j]\n",
      " [ 0.00000000e+00+0.00000000e+00j  0.00000000e+00+0.00000000e+00j\n",
      "  -3.19938913e+00+0.00000000e+00j ... -5.69784087e-32-1.97774866e-48j\n",
      "  -3.43254702e-32-3.96006799e-48j -1.04807216e-34+1.63582324e-50j]\n",
      " ...\n",
      " [ 0.00000000e+00+0.00000000e+00j  0.00000000e+00+0.00000000e+00j\n",
      "   0.00000000e+00+0.00000000e+00j ... -4.36195841e+00+0.00000000e+00j\n",
      "   1.47391898e+00-1.75437989e-16j  2.88803943e+00-2.12125734e-16j]\n",
      " [ 0.00000000e+00+0.00000000e+00j  0.00000000e+00+0.00000000e+00j\n",
      "   0.00000000e+00+0.00000000e+00j ...  0.00000000e+00+0.00000000e+00j\n",
      "  -3.34974752e+00+0.00000000e+00j  3.34974752e+00+8.86940897e-17j]\n",
      " [ 0.00000000e+00+0.00000000e+00j  0.00000000e+00+0.00000000e+00j\n",
      "   0.00000000e+00+0.00000000e+00j ...  0.00000000e+00+0.00000000e+00j\n",
      "   0.00000000e+00+0.00000000e+00j  2.21695006e-14+0.00000000e+00j]]\n",
      "63\n"
     ]
    }
   ],
   "source": [
    "## Now we can add one more constraint, that the sum of all the elements of x should be 1, which is basically another row in the matrix A consisting of all 1\n",
    "\n",
    "#A = np.vstack([A,np.ones((1,number))])\n",
    "\n",
    "#print(A)\n",
    "\n",
    "print(np.linalg.matrix_rank(A))\n",
    "\n",
    "q,r = np.linalg.qr(A.T)\n",
    "\n",
    "print(r)\n",
    "diag_r = [r[i][i] for i in range(number)]\n",
    "\n",
    "print(np.linalg.matrix_rank(A))\n",
    "\n",
    "\n",
    "\n"
   ]
  },
  {
   "cell_type": "code",
   "execution_count": 14,
   "metadata": {},
   "outputs": [
    {
     "name": "stdout",
     "output_type": "stream",
     "text": [
      "[np.complex128(-3.1609528981437647+0j), np.complex128(-3.2906985472354218+0j), np.complex128(-3.199389126809216+0j), np.complex128(-2.997704245146391+0j), np.complex128(-2.916227856784598+0j), np.complex128(-2.9200694365975406+0j), np.complex128(-3.130685170559283+0j), np.complex128(-3.402151302602078+0j), np.complex128(-3.4118118269959585+0j), np.complex128(-3.05536716594929+0j), np.complex128(-3.344886968055592+0j), np.complex128(-3.22796869664965+0j), np.complex128(-3.1274803600725085+0j), np.complex128(-3.326475949491587+0j), np.complex128(-3.2447031784906457+0j), np.complex128(-3.3361071486980185+0j), np.complex128(-3.236709846750192+0j), np.complex128(-3.383348510562966+0j), np.complex128(-3.134056334094532+0j), np.complex128(-3.07596820344647+0j), np.complex128(-3.1353636319593963+0j), np.complex128(-3.1702247990612253+0j), np.complex128(-3.4887031467096152+0j), np.complex128(-3.7772484150534553+0j), np.complex128(-3.7364453924377434+0j), np.complex128(-3.691683969843675+0j), np.complex128(-3.6512890825334416+0j), np.complex128(-3.7809099778000355+0j), np.complex128(-3.697224688676316+0j), np.complex128(-3.748971649846356+0j), np.complex128(-3.7805359143141026+0j), np.complex128(-3.7222019314624255+0j), np.complex128(-3.750792120097424+0j), np.complex128(-3.799933837406881+0j), np.complex128(-3.639888270746645+0j), np.complex128(-3.7547695285166633+0j), np.complex128(-3.7806794686707064+0j), np.complex128(-3.791627422180094+0j), np.complex128(-3.7308978546136937+0j), np.complex128(-3.7808795610415644+0j), np.complex128(-3.73681340359953+0j), np.complex128(-3.6385234381755858+0j), np.complex128(-3.5900067126807262+0j), np.complex128(-4.108548379785227+0j), np.complex128(-4.12409580340456+0j), np.complex128(-4.032855206372043+0j), np.complex128(-4.264231743422793+0j), np.complex128(-4.149263062431383+0j), np.complex128(-4.17819786646231+0j), np.complex128(-4.164990811060939+0j), np.complex128(-4.172115246676191+0j), np.complex128(-4.293424323797399+0j), np.complex128(-3.920446703862485+0j), np.complex128(-4.323144904172536+0j), np.complex128(-4.281693460606594+0j), np.complex128(-4.169048426763782+0j), np.complex128(-4.023095044315552+0j), np.complex128(-3.6457339444231427+0j), np.complex128(-4.173646811618882+0j), np.complex128(-4.282266402897646+0j), np.complex128(-4.30553891642991+0j), np.complex128(-4.3619584118172465+0j), np.complex128(-3.3497475174739333+0j), np.complex128(2.2169500639597675e-14+0j)]\n"
     ]
    }
   ],
   "source": [
    "print(diag_r)"
   ]
  },
  {
   "cell_type": "code",
   "execution_count": 15,
   "metadata": {},
   "outputs": [
    {
     "name": "stdout",
     "output_type": "stream",
     "text": [
      "64\n",
      "(64, 64)\n",
      "[[ 1.92425554e+000+0.00000000e+000j -9.80919814e-001+0.00000000e+000j\n",
      "  -1.40642080e+000+0.00000000e+000j ...  0.00000000e+000+0.00000000e+000j\n",
      "  -2.31309218e-125+0.00000000e+000j  0.00000000e+000+0.00000000e+000j]\n",
      " [-3.20886592e-001-2.32425841e-018j  2.58464343e+000-1.37032990e-017j\n",
      "  -7.66662026e-018-1.56452070e-017j ... -1.62714285e-034+2.27222091e-051j\n",
      "  -7.37598925e-035-4.38532762e-050j -1.11210758e-065-1.34086745e-081j]\n",
      " [-4.59790050e-001+3.44911816e-018j -2.28905994e-017+4.35036122e-017j\n",
      "   2.87124211e+000+8.39366538e-017j ... -1.00009272e-034+6.40869241e-051j\n",
      "  -4.37843403e-035-3.14414905e-051j  3.81455601e-067+7.72195917e-082j]\n",
      " ...\n",
      " [ 0.00000000e+000+0.00000000e+000j -2.58743655e-036-3.40883825e-053j\n",
      "  -7.33319434e-036-4.64053096e-052j ...  5.05648233e+000+3.75676053e-017j\n",
      "  -5.44872851e-019-3.12954818e-017j -1.21880827e+000+1.17093835e-017j]\n",
      " [ 3.48028785e-098+7.47416528e-114j -1.17253583e-036-5.58733678e-053j\n",
      "  -3.26881888e-036+1.44290672e-052j ...  4.50348276e-017-5.08456938e-017j\n",
      "   5.50391510e+000-6.82539149e-018j -5.52024623e-001-8.67361738e-018j]\n",
      " [ 1.00000000e+000+0.00000000e+000j  1.00000000e+000+0.00000000e+000j\n",
      "   1.00000000e+000+0.00000000e+000j ...  1.00000000e+000+0.00000000e+000j\n",
      "   1.00000000e+000+0.00000000e+000j  1.00000000e+000+0.00000000e+000j]]\n"
     ]
    }
   ],
   "source": [
    "## Since last element of r is 0, we can remove the last row of  A and add a row of 1's\n",
    "\n",
    "A_new = A[:-1]\n",
    "A_new = np.vstack([A_new,np.ones((1,number))])\n",
    "\n",
    "print(np.linalg.matrix_rank(A_new))\n",
    "print(A_new.shape)\n",
    "print(A_new)"
   ]
  },
  {
   "cell_type": "code",
   "execution_count": 16,
   "metadata": {},
   "outputs": [
    {
     "name": "stdout",
     "output_type": "stream",
     "text": [
      "(64, 64)\n"
     ]
    }
   ],
   "source": [
    "print(A.shape)"
   ]
  },
  {
   "cell_type": "code",
   "execution_count": 17,
   "metadata": {},
   "outputs": [
    {
     "name": "stdout",
     "output_type": "stream",
     "text": [
      "63\n",
      "(64, 64)\n"
     ]
    }
   ],
   "source": [
    "print(np.linalg.matrix_rank(A))\n",
    "print(A.shape)"
   ]
  },
  {
   "cell_type": "code",
   "execution_count": 18,
   "metadata": {},
   "outputs": [
    {
     "name": "stdout",
     "output_type": "stream",
     "text": [
      "[0.18382985-7.59757377e-20j 0.06013595-1.40442203e-18j\n",
      " 0.06009805-1.74088975e-18j 0.05999464+2.11462833e-19j\n",
      " 0.05985367-8.81342179e-20j 0.05971303+2.80611865e-18j\n",
      " 0.05961029+2.66857747e-19j 0.01967217-5.55898453e-19j\n",
      " 0.01965978+2.29144263e-19j 0.01964568+6.67300509e-19j\n",
      " 0.01962595+6.09611112e-19j 0.01961734+9.71303768e-20j\n",
      " 0.01959203-1.10259557e-19j 0.01957983+5.71271319e-21j\n",
      " 0.01956077+1.24950726e-20j 0.01953382-6.38141441e-20j\n",
      " 0.0195122 +5.10660606e-19j 0.01950021+7.23039855e-20j\n",
      " 0.01947667-4.35344770e-20j 0.01946371+1.13387720e-18j\n",
      " 0.01942645-1.71971030e-19j 0.01937347+1.51261030e-19j\n",
      " 0.00643533-1.55438386e-19j 0.00643127-1.15724406e-19j\n",
      " 0.00642666+2.01357350e-19j 0.00642126-3.46726756e-19j\n",
      " 0.0064202 +4.15240048e-19j 0.00641739-3.11675128e-20j\n",
      " 0.00640911-1.05008974e-19j 0.00640512+9.98616620e-21j\n",
      " 0.00639888-1.33049485e-19j 0.00639439+1.45125058e-19j\n",
      " 0.00639007+1.79349933e-19j 0.006383  -9.22860227e-20j\n",
      " 0.00637907+5.12223873e-19j 0.00637505-1.26817329e-20j\n",
      " 0.00637137-1.53680271e-19j 0.00636713-9.49272358e-20j\n",
      " 0.00636201-2.26472441e-19j 0.00635494+7.90486549e-20j\n",
      " 0.00633761-1.56159259e-20j 0.00632297+2.10667393e-19j\n",
      " 0.00210518-8.76515100e-20j 0.00210385-9.17212747e-20j\n",
      " 0.00210234-2.23914520e-19j 0.00210023-5.83230050e-20j\n",
      " 0.00209931-2.03196922e-19j 0.0020966 -3.67390736e-20j\n",
      " 0.0020953 -7.50739415e-20j 0.00209326-7.21799749e-20j\n",
      " 0.00209037-7.83619152e-20j 0.00208806-5.56544500e-20j\n",
      " 0.00208678+1.03265660e-20j 0.00208426-5.57212444e-20j\n",
      " 0.00208287-4.83789377e-20j 0.00207888+1.90515467e-20j\n",
      " 0.00207321-7.10569519e-20j 0.00068866-1.46580393e-19j\n",
      " 0.00068823-2.33042827e-19j 0.00068705-1.39974041e-19j\n",
      " 0.00068543-1.41527805e-19j 0.00068382-2.00802492e-19j\n",
      " 0.00068264-6.71126033e-20j 0.00022528-7.31620252e-19j]\n"
     ]
    }
   ],
   "source": [
    "b[-1] = 1  ## Last element of b is 1\n",
    "\n",
    "x = np.linalg.solve(A_new,b)\n",
    "print(x)"
   ]
  },
  {
   "cell_type": "code",
   "execution_count": 19,
   "metadata": {},
   "outputs": [
    {
     "name": "stdout",
     "output_type": "stream",
     "text": [
      "[ 0.00000000e+00+3.85185989e-34j -1.38777878e-17+0.00000000e+00j\n",
      "  2.08166817e-17-7.70371978e-34j -6.38069098e-35-9.62964972e-35j\n",
      " -1.38777878e-17+3.85185989e-34j  2.07872712e-34-7.70371978e-34j\n",
      "  6.93889390e-18+5.77778983e-34j -5.16947596e-16-1.92592994e-33j\n",
      "  6.93889390e-17+5.20001085e-33j -1.38777878e-16-6.93334780e-33j\n",
      "  2.77555756e-17+1.15555797e-33j  1.73472348e-17+5.53704859e-33j\n",
      " -1.52550146e-35+2.26296768e-33j  1.04083409e-16-9.62964972e-34j\n",
      "  2.08166817e-17-9.14816724e-34j  3.81639165e-17-1.01111322e-33j\n",
      "  4.16333634e-17-3.85185989e-34j  1.38777878e-17+1.25185446e-33j\n",
      "  1.38777878e-17-4.09260113e-34j  1.73472348e-17-2.31111593e-33j\n",
      "  2.77555756e-17+1.92592994e-34j  2.77555756e-17-9.62964972e-35j\n",
      "  1.11022302e-16-9.02779661e-34j  4.85722573e-17-1.05926147e-33j\n",
      " -6.93889390e-18+0.00000000e+00j -1.73472348e-17+0.00000000e+00j\n",
      "  1.73472348e-18+0.00000000e+00j -1.73472348e-18+2.40741243e-35j\n",
      " -5.20417043e-18-6.74075481e-34j  2.25514052e-17+2.40741243e-34j\n",
      "  1.04083409e-17+4.81482486e-34j  1.04083409e-17-1.92592994e-34j\n",
      "  4.16333634e-17+0.00000000e+00j  8.67361738e-18+1.92592994e-34j\n",
      "  1.73472348e-17-1.15555797e-33j  3.46944695e-18+4.33334237e-34j\n",
      " -1.73930184e-36+9.62964972e-35j -6.93889390e-18+1.44444746e-34j\n",
      " -5.20417043e-18+0.00000000e+00j -3.46944695e-18+9.62964972e-35j\n",
      " -2.20322408e-35+2.40741243e-35j  5.20417043e-18+0.00000000e+00j\n",
      " -1.73472348e-18+2.04630057e-34j  8.67361738e-19+1.92592994e-34j\n",
      " -1.73472348e-18+2.40741243e-34j -1.73472348e-18+4.81482486e-35j\n",
      "  8.67361738e-19+0.00000000e+00j -8.67361738e-19+1.20370622e-35j\n",
      "  3.46944695e-18+4.81482486e-35j  4.33680869e-18-2.28704181e-34j\n",
      "  8.67361738e-19+8.42594351e-35j  2.60208521e-18-9.62964972e-35j\n",
      "  3.46944695e-18+1.56481808e-34j -7.88069931e-36-4.81482486e-35j\n",
      "  8.67361738e-19+1.20370622e-34j  1.73472348e-18-4.81482486e-35j\n",
      " -1.73472348e-18-9.62964972e-35j -4.45211520e-36-6.01853108e-35j\n",
      " -4.33680869e-19+1.92592994e-34j -2.16840434e-19-7.82409040e-35j\n",
      " -6.50521303e-19-1.20370622e-35j  1.47361863e-35+4.96528814e-35j\n",
      "  4.33680869e-19-3.61111865e-35j  1.00000000e+00-3.27408091e-33j]\n",
      "(-5.291231862381007e-15-3.966869231505557e-18j)\n"
     ]
    }
   ],
   "source": [
    "##Let us check if this is correct\n",
    "\n",
    "print(np.dot(A_new,x))\n",
    "print(np.dot(A[-1],x))"
   ]
  },
  {
   "cell_type": "code",
   "execution_count": 20,
   "metadata": {},
   "outputs": [
    {
     "name": "stdout",
     "output_type": "stream",
     "text": [
      "[ 0.00000000e+00+0.j -5.75754671e-84-0.j -7.20269094e-81-0.j\n",
      "  9.97707536e-26+0.j  0.00000000e+00+0.j -9.97750790e-26+0.j\n",
      " -4.68927578e-18+0.j  7.44164867e-30+0.j  6.93446618e-39+0.j\n",
      "  4.68927558e-18+0.j  2.00350271e-22+0.j  1.62645715e-28+0.j\n",
      " -2.76943731e-22+0.j  1.69750167e-16+0.j -1.69218316e-16+0.j\n",
      " -3.47076771e-19+0.j  2.16692542e-36+0.j  4.68887508e-18+0.j\n",
      "  3.61763387e-22+0.j -1.69750168e-16+0.j -2.45816511e-22+0.j\n",
      "  1.45324297e-17+0.j  7.48129298e-17+0.j  1.36203428e-17+0.j\n",
      "  4.68870187e-18+0.j -1.46662039e-16+0.j  3.47937418e-17+0.j\n",
      "  3.84671301e-17+0.j -1.38911464e-16+0.j -1.73142083e-16+0.j\n",
      " -1.15759670e-16+0.j -4.08248290e-01+0.j  1.00408924e-33+0.j\n",
      " -3.30354054e-22+0.j -4.68835463e-18+0.j  1.40153459e-16+0.j\n",
      " -4.68902623e-18+0.j  5.20265203e-17+0.j  2.06555726e-17+0.j\n",
      " -1.76440484e-16+0.j -1.19785237e-22+0.j -4.79489729e-17+0.j\n",
      "  6.25997904e-17+0.j  1.98793246e-16+0.j  2.21017512e-16+0.j\n",
      "  2.22708655e-16+0.j -2.92101574e-16+0.j -4.08248290e-01+0.j\n",
      "  2.00903823e-22+0.j -9.98162034e-17+0.j -7.80852981e-17+0.j\n",
      " -1.86292454e-16+0.j  7.87131195e-17+0.j  4.08717327e-16+0.j\n",
      "  2.05223992e-16+0.j -4.08248290e-01+0.j -1.38836100e-16+0.j\n",
      " -2.14405024e-16+0.j  2.32456940e-16+0.j -4.08248290e-01+0.j\n",
      " -9.84840341e-17+0.j -4.08248290e-01+0.j -4.08248290e-01+0.j\n",
      "  0.00000000e+00+0.j]\n",
      "Quantum object: dims=[[2, 2, 2, 2, 2, 2], [1, 1, 1, 1, 1, 1]], shape=(64, 1), type='ket', dtype=Dense\n",
      "Qobj data =\n",
      "[[ 0.00000000e+00]\n",
      " [-5.75754671e-84]\n",
      " [-7.20269094e-81]\n",
      " [ 9.97707536e-26]\n",
      " [ 0.00000000e+00]\n",
      " [-9.97750790e-26]\n",
      " [-4.68927578e-18]\n",
      " [ 7.44164867e-30]\n",
      " [ 6.93446618e-39]\n",
      " [ 4.68927558e-18]\n",
      " [ 2.00350271e-22]\n",
      " [ 1.62645715e-28]\n",
      " [-2.76943731e-22]\n",
      " [ 1.69750167e-16]\n",
      " [-1.69218316e-16]\n",
      " [-3.47076771e-19]\n",
      " [ 2.16692542e-36]\n",
      " [ 4.68887508e-18]\n",
      " [ 3.61763387e-22]\n",
      " [-1.69750168e-16]\n",
      " [-2.45816511e-22]\n",
      " [ 1.45324297e-17]\n",
      " [ 7.48129298e-17]\n",
      " [ 1.36203428e-17]\n",
      " [ 4.68870187e-18]\n",
      " [-1.46662039e-16]\n",
      " [ 3.47937418e-17]\n",
      " [ 3.84671301e-17]\n",
      " [-1.38911464e-16]\n",
      " [-1.73142083e-16]\n",
      " [-1.15759670e-16]\n",
      " [-4.08248290e-01]\n",
      " [ 1.00408924e-33]\n",
      " [-3.30354054e-22]\n",
      " [-4.68835463e-18]\n",
      " [ 1.40153459e-16]\n",
      " [-4.68902623e-18]\n",
      " [ 5.20265203e-17]\n",
      " [ 2.06555726e-17]\n",
      " [-1.76440484e-16]\n",
      " [-1.19785237e-22]\n",
      " [-4.79489729e-17]\n",
      " [ 6.25997904e-17]\n",
      " [ 1.98793246e-16]\n",
      " [ 2.21017512e-16]\n",
      " [ 2.22708655e-16]\n",
      " [-2.92101574e-16]\n",
      " [-4.08248290e-01]\n",
      " [ 2.00903823e-22]\n",
      " [-9.98162034e-17]\n",
      " [-7.80852981e-17]\n",
      " [-1.86292454e-16]\n",
      " [ 7.87131195e-17]\n",
      " [ 4.08717327e-16]\n",
      " [ 2.05223992e-16]\n",
      " [-4.08248290e-01]\n",
      " [-1.38836100e-16]\n",
      " [-2.14405024e-16]\n",
      " [ 2.32456940e-16]\n",
      " [-4.08248290e-01]\n",
      " [-9.84840341e-17]\n",
      " [-4.08248290e-01]\n",
      " [-4.08248290e-01]\n",
      " [ 0.00000000e+00]]\n"
     ]
    }
   ],
   "source": [
    "#We have to tranfer the basis of the solution rho matrix to computational basis from the eigenbasis\n",
    "\n",
    "x_real = [np.real(x[i]) for i in range(number)]\n",
    "\n",
    "rho = np.diag(x_real)\n",
    "\n",
    "#set U matrix whose columns are the eigenvectors of the Hamiltonian\n",
    "\n",
    "U = np.zeros((number,number),dtype=complex)\n",
    "for i in range(number):\n",
    "    U[:,i] = eigstates[i].full().flatten()\n",
    "\n",
    "check = 1\n",
    "\n",
    "print(U[:,check])\n",
    "print(eigstates[check])"
   ]
  },
  {
   "cell_type": "code",
   "execution_count": 21,
   "metadata": {},
   "outputs": [
    {
     "name": "stdout",
     "output_type": "stream",
     "text": [
      "[[ 2.25281359e-04+0.j  0.00000000e+00+0.j  0.00000000e+00+0.j ...\n",
      "   0.00000000e+00+0.j  0.00000000e+00+0.j  0.00000000e+00+0.j]\n",
      " [ 0.00000000e+00+0.j  2.10389767e-03+0.j -1.62077103e-03+0.j ...\n",
      "   1.37507935e-35+0.j  6.86042256e-36+0.j  0.00000000e+00+0.j]\n",
      " [ 0.00000000e+00+0.j -1.62077103e-03+0.j  2.72615299e-03+0.j ...\n",
      "   2.41074683e-35+0.j  1.20474749e-35+0.j  0.00000000e+00+0.j]\n",
      " ...\n",
      " [ 0.00000000e+00+0.j  1.37507935e-35+0.j  2.41074683e-35+0.j ...\n",
      "   3.87067060e-02+0.j -1.83553046e-02+0.j  0.00000000e+00+0.j]\n",
      " [ 0.00000000e+00+0.j  6.86042256e-36+0.j  1.20474749e-35+0.j ...\n",
      "  -1.83553046e-02+0.j  3.94828598e-02+0.j  0.00000000e+00+0.j]\n",
      " [ 0.00000000e+00+0.j  0.00000000e+00+0.j  0.00000000e+00+0.j ...\n",
      "   0.00000000e+00+0.j  0.00000000e+00+0.j  1.83829849e-01+0.j]]\n",
      "(1.0000000000000007+0j)\n"
     ]
    }
   ],
   "source": [
    "rho_comp = np.dot(np.conjugate(U.T),np.dot(rho,U))\n",
    "\n",
    "print(rho_comp)\n",
    "print(np.trace(rho_comp))"
   ]
  },
  {
   "cell_type": "code",
   "execution_count": 22,
   "metadata": {},
   "outputs": [],
   "source": [
    "def L2_red(rho,eigenergies,eigstates,beta_list_left,beta_list_right,mu_list_left,mu_list_right,gamma_list_left,gamma_list_right,tb):\n",
    "    sum = 0\n",
    "    rho = Qobj(rho)\n",
    "    rho.dims = [dims,dims]\n",
    "    for i in range(number):\n",
    "        for k in range(number):\n",
    "            vi = eigstates[i]\n",
    "            vk = eigstates[k]\n",
    "\n",
    "            proj_i = vi*vi.dag()\n",
    "            proj_k = vk*vk.dag()\n",
    "\n",
    "            for l in range(NL1):\n",
    "                op = commutator(rho*proj_i*create_sm_list_left[l]*proj_k,create_sm_list_left[l].dag())*C(i,k,tb,beta_list_left[l],mu_list_left[l],gamma_list_left[l],eigenergies) + commutator(create_sm_list_left[l].dag(),proj_i*create_sm_list_left[l]*proj_k*rho)*D(i,k,tb,beta_list_left[l],mu_list_left[l],gamma_list_left[l],eigenergies)\n",
    "                sum += op\n",
    "                sum += op.dag()\n",
    "\n",
    "            for l in range(NL2):\n",
    "                op = commutator(rho*proj_i*create_sm_list_right[l]*proj_k,create_sm_list_right[l].dag())*C(i,k,tb,beta_list_right[l],mu_list_right[l],gamma_list_right[l],eigenergies) + commutator(create_sm_list_right[l].dag(),proj_i*create_sm_list_right[l]*proj_k*rho)*D(i,k,tb,beta_list_right[l],mu_list_right[l],gamma_list_right[l],eigenergies)\n",
    "                sum += op\n",
    "                sum += op.dag()\n",
    "    data = sum.full()\n",
    "    sum = np.array(data,dtype=complex)\n",
    "    return sum"
   ]
  },
  {
   "cell_type": "code",
   "execution_count": 23,
   "metadata": {},
   "outputs": [],
   "source": [
    "L2_redfield = L2_red(rho_comp,eigenergies,eigstates,beta_list_left,beta_list_right,mu_list_left,mu_list_right,gamma_list_left,gamma_list_right,tb)"
   ]
  },
  {
   "cell_type": "code",
   "execution_count": 24,
   "metadata": {},
   "outputs": [
    {
     "name": "stdout",
     "output_type": "stream",
     "text": [
      "[[-5.61165272e-03+0.00000000e+00j  5.27246493e-04-4.36789105e-06j\n",
      "   8.27141338e-04+3.93610492e-06j ...  1.07897453e-25-1.68336131e-26j\n",
      "   1.85851083e-25-1.03727623e-25j  0.00000000e+00+0.00000000e+00j]\n",
      " [ 5.27246493e-04+4.36789105e-06j  4.43269918e-03+0.00000000e+00j\n",
      "  -7.61083744e-03+1.78205527e-06j ... -5.82076140e-21-6.76515154e-21j\n",
      "  -1.28152420e-21-1.46845455e-21j -3.38730619e-30-1.89473797e-30j]\n",
      " [ 8.27141338e-04-3.93610492e-06j -7.61083744e-03-1.78205527e-06j\n",
      "   7.47764474e-03+0.00000000e+00j ...  4.82619514e-21+6.27883308e-21j\n",
      "   1.05463056e-21+1.37595912e-21j -1.51294401e-28-4.81735389e-30j]\n",
      " ...\n",
      " [ 1.07897453e-25+1.68336131e-26j -5.82076140e-21+6.76515154e-21j\n",
      "   4.82619514e-21-6.27883308e-21j ... -1.07987241e-01+0.00000000e+00j\n",
      "  -3.40522996e-02-2.54055163e-05j -2.16196251e-03+8.98860026e-06j]\n",
      " [ 1.85851083e-25+1.03727623e-25j -1.28152420e-21+1.46845455e-21j\n",
      "   1.05463056e-21-1.37595912e-21j ... -3.40522996e-02+2.54055163e-05j\n",
      "  -1.19686596e-01+0.00000000e+00j  3.41177661e-02-4.05641713e-07j]\n",
      " [ 0.00000000e+00+0.00000000e+00j -3.38730619e-30+1.89473797e-30j\n",
      "  -1.51294401e-28+4.81735389e-30j ... -2.16196251e-03-8.98860026e-06j\n",
      "   3.41177661e-02+4.05641713e-07j  1.77283653e-01+0.00000000e+00j]]\n"
     ]
    }
   ],
   "source": [
    "print(L2_redfield)"
   ]
  },
  {
   "cell_type": "code",
   "execution_count": 25,
   "metadata": {},
   "outputs": [
    {
     "name": "stdout",
     "output_type": "stream",
     "text": [
      "[[3.80777093e-04+0.j 0.00000000e+00+0.j 0.00000000e+00+0.j ...\n",
      "  0.00000000e+00+0.j 0.00000000e+00+0.j 0.00000000e+00+0.j]\n",
      " [0.00000000e+00+0.j 1.03175783e-03+0.j 3.29634248e-06+0.j ...\n",
      "  0.00000000e+00+0.j 0.00000000e+00+0.j 0.00000000e+00+0.j]\n",
      " [0.00000000e+00+0.j 3.29634248e-06+0.j 1.02846676e-03+0.j ...\n",
      "  0.00000000e+00+0.j 0.00000000e+00+0.j 0.00000000e+00+0.j]\n",
      " ...\n",
      " [0.00000000e+00+0.j 0.00000000e+00+0.j 0.00000000e+00+0.j ...\n",
      "  5.61523826e-02+0.j 1.79974202e-04+0.j 0.00000000e+00+0.j]\n",
      " [0.00000000e+00+0.j 0.00000000e+00+0.j 0.00000000e+00+0.j ...\n",
      "  1.79974202e-04+0.j 5.63320690e-02+0.j 0.00000000e+00+0.j]\n",
      " [0.00000000e+00+0.j 0.00000000e+00+0.j 0.00000000e+00+0.j ...\n",
      "  0.00000000e+00+0.j 0.00000000e+00+0.j 1.53616443e-01+0.j]]\n"
     ]
    }
   ],
   "source": [
    "## As we can see, all the checks are completely satisfied. Thus we can arrange the values of x (real values) in a diagonal density matrix and save it in a .mat file\n",
    "#We will also pass in L2_redfield operator\n",
    "\n",
    "rho_th_check = np.zeros((number,number),dtype=complex)\n",
    "for i in range(number):\n",
    "    for k in range(number):\n",
    "        rho_th_check[i,k] = rho_th[i,k]\n",
    "\n",
    "print(rho_th_check)\n",
    "\n",
    "data_dict = {\"dm_ness\":rho_comp, \"dm_th\":rho_th_new,\"L2_red\":L2_redfield, \"dm_th_check\":rho_th_check}\n",
    "\n",
    "scipy.io.savemat(F'../matlab/ness_data_NL1 = {NL1}_NL2 = {NL2}_NM = {NM}_4.mat',data_dict)\n"
   ]
  },
  {
   "cell_type": "code",
   "execution_count": null,
   "metadata": {},
   "outputs": [],
   "source": []
  }
 ],
 "metadata": {
  "kernelspec": {
   "display_name": "qiskitenv",
   "language": "python",
   "name": "python3"
  },
  "language_info": {
   "codemirror_mode": {
    "name": "ipython",
    "version": 3
   },
   "file_extension": ".py",
   "mimetype": "text/x-python",
   "name": "python",
   "nbconvert_exporter": "python",
   "pygments_lexer": "ipython3",
   "version": "3.12.4"
  }
 },
 "nbformat": 4,
 "nbformat_minor": 2
}
