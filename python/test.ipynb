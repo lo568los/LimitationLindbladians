{
 "cells": [
  {
   "cell_type": "code",
   "execution_count": 2,
   "metadata": {},
   "outputs": [],
   "source": [
    "import numpy as np"
   ]
  },
  {
   "cell_type": "code",
   "execution_count": 3,
   "metadata": {},
   "outputs": [
    {
     "name": "stdout",
     "output_type": "stream",
     "text": [
      "[ 0.1         0.15199111  0.23101297  0.35111917  0.53366992  0.81113083\n",
      "  1.23284674  1.87381742  2.84803587  4.32876128  6.57933225 10.        ]\n",
      "[0.001      0.00187382 0.00351119 0.00657933 0.01232847 0.0231013\n",
      " 0.04328761 0.08111308 0.15199111 0.28480359 0.53366992 1.        ]\n"
     ]
    }
   ],
   "source": [
    "print(np.logspace(-1,1,12))\n",
    "print(np.logspace(-3,0,12))"
   ]
  }
 ],
 "metadata": {
  "kernelspec": {
   "display_name": "qiskitenv",
   "language": "python",
   "name": "python3"
  },
  "language_info": {
   "codemirror_mode": {
    "name": "ipython",
    "version": 3
   },
   "file_extension": ".py",
   "mimetype": "text/x-python",
   "name": "python",
   "nbconvert_exporter": "python",
   "pygments_lexer": "ipython3",
   "version": "3.12.4"
  }
 },
 "nbformat": 4,
 "nbformat_minor": 2
}
