{
 "cells": [
  {
   "cell_type": "code",
   "execution_count": 1,
   "metadata": {},
   "outputs": [],
   "source": [
    "import numpy as np"
   ]
  },
  {
   "cell_type": "code",
   "execution_count": 2,
   "metadata": {},
   "outputs": [
    {
     "name": "stdout",
     "output_type": "stream",
     "text": [
      "[ 0.1         0.15199111  0.23101297  0.35111917  0.53366992  0.81113083\n",
      "  1.23284674  1.87381742  2.84803587  4.32876128  6.57933225 10.        ]\n",
      "[ 0.01        0.01873817  0.03511192  0.06579332  0.12328467  0.23101297\n",
      "  0.43287613  0.81113083  1.51991108  2.84803587  5.33669923 10.        ]\n"
     ]
    }
   ],
   "source": [
    "print(np.logspace(-1,1,12))\n",
    "print(np.logspace(-2,1,12))"
   ]
  }
 ],
 "metadata": {
  "kernelspec": {
   "display_name": "qiskitenv",
   "language": "python",
   "name": "python3"
  },
  "language_info": {
   "codemirror_mode": {
    "name": "ipython",
    "version": 3
   },
   "file_extension": ".py",
   "mimetype": "text/x-python",
   "name": "python",
   "nbconvert_exporter": "python",
   "pygments_lexer": "ipython3",
   "version": "3.12.4"
  }
 },
 "nbformat": 4,
 "nbformat_minor": 2
}
